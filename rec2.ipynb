{
 "cells": [
  {
   "cell_type": "code",
   "execution_count": null,
   "id": "cb5a0f32",
   "metadata": {
    "execution": {
     "iopub.execute_input": "2025-03-19T10:50:56.987063Z",
     "iopub.status.busy": "2025-03-19T10:50:56.986725Z",
     "iopub.status.idle": "2025-03-19T10:50:57.168651Z",
     "shell.execute_reply": "2025-03-19T10:50:57.167728Z"
    },
    "slideshow": {
     "slide_type": "skip"
    },
    "tags": [
     "remove-cell"
    ]
   },
   "outputs": [],
   "source": [
    "%%html\n",
    "<style>\n",
    "table {display: inline-block}\n",
    "h3 {text-align:left}\n",
    "li {text-align:left}\n",
    "</style>\n"
   ]
  },
  {
   "cell_type": "markdown",
   "id": "6283022a",
   "metadata": {
    "slideshow": {
     "slide_type": "slide"
    }
   },
   "source": [
    "# Lists, Ranges and Loops\n",
    "\n",
    "## Python Programming for Engineers\n",
    "### Tel-Aviv University / 0509-1820 / Fall 2025-2026"
   ]
  },
  {
   "cell_type": "markdown",
   "id": "bf4eb66f",
   "metadata": {
    "slideshow": {
     "slide_type": "slide"
    }
   },
   "source": [
    "## Last week's highlights"
   ]
  },
  {
   "cell_type": "markdown",
   "id": "c0fdcadb",
   "metadata": {
    "slideshow": {
     "slide_type": "fragment"
    }
   },
   "source": [
    "- Memory and variables\n",
    "- Different variable types (`int`, `float`, `str`, `bool`)\n",
    "- Different operations for different types\n",
    "- Functions \n",
    "```python\n",
    "def foo(param1, param2, ..):\n",
    "    ...\n",
    "    return res\n",
    "```\n",
    "- `if`-`else` statements\n",
    "\n",
    "```python\n",
    "if expression: \n",
    "    statement1\n",
    "else:\n",
    "    statement2\n",
    "```\n"
   ]
  },
  {
   "cell_type": "markdown",
   "id": "4987f96c",
   "metadata": {
    "slideshow": {
     "slide_type": "slide"
    }
   },
   "source": [
    "## Agenda\n",
    "\n",
    "<table style=\"display:block\" align=center>\n",
    "    <theader>\n",
    "        <tr>\n",
    "            <td></td>\n",
    "        </tr>\n",
    "    </theader>\n",
    "    <tbody>\n",
    "        <tr>\n",
    "            <td>\n",
    "                <h4>\n",
    "                    Lists\n",
    "                </h4>\n",
    "                <h4>\n",
    "                    Ranges\n",
    "                </h4>\n",
    "                <h4>\n",
    "                    Loops\n",
    "                </h4>\n",
    "                <ul>\n",
    "                    <li>\n",
    "                        types of loops: <code>while</code>, <code>for</code>\n",
    "                    </li>\n",
    "                    <li>\n",
    "                        Other loop statements: <code>break</code>, <code>continue</code>\n",
    "                    </li>\n",
    "                    <li>\n",
    "                        The phonebook of Rick\n",
    "                    </li>\n",
    "                </ul>\n",
    "                <h4>"
   ]
  },
  {
   "cell_type": "markdown",
   "id": "bd0ae053",
   "metadata": {
    "slideshow": {
     "slide_type": "slide"
    }
   },
   "source": [
    "## Lists"
   ]
  },
  {
   "cell_type": "markdown",
   "id": "59365fcb",
   "metadata": {
    "slideshow": {
     "slide_type": "subslide"
    }
   },
   "source": [
    "- An **ordered collection** of elements\n",
    "- **Each element** in a list can be of **any type** "
   ]
  },
  {
   "cell_type": "markdown",
   "id": "25940540",
   "metadata": {
    "slideshow": {
     "slide_type": "subslide"
    }
   },
   "source": [
    "### Basic operations"
   ]
  },
  {
   "cell_type": "code",
   "execution_count": null,
   "id": "832b0c8f",
   "metadata": {
    "execution": {
     "iopub.execute_input": "2025-03-19T10:50:58.697532Z",
     "iopub.status.busy": "2025-03-19T10:50:58.697046Z",
     "iopub.status.idle": "2025-03-19T10:50:58.701111Z",
     "shell.execute_reply": "2025-03-19T10:50:58.700432Z"
    },
    "slideshow": {
     "slide_type": "fragment"
    }
   },
   "outputs": [],
   "source": [
    "# student: name, age, height, SAT\n",
    "student = ['Rick', 81, 1.83, 9000]\n",
    "\n",
    "print(student)"
   ]
  },
  {
   "cell_type": "code",
   "execution_count": null,
   "id": "432d87a5",
   "metadata": {
    "execution": {
     "iopub.execute_input": "2025-03-19T10:50:58.681487Z",
     "iopub.status.busy": "2025-03-19T10:50:58.681193Z",
     "iopub.status.idle": "2025-03-19T10:50:58.686873Z",
     "shell.execute_reply": "2025-03-19T10:50:58.686114Z"
    },
    "slideshow": {
     "slide_type": "fragment"
    }
   },
   "outputs": [],
   "source": [
    "student[3]"
   ]
  },
  {
   "cell_type": "code",
   "execution_count": null,
   "id": "1ee3f667",
   "metadata": {
    "execution": {
     "iopub.execute_input": "2025-03-19T10:50:58.689808Z",
     "iopub.status.busy": "2025-03-19T10:50:58.689496Z",
     "iopub.status.idle": "2025-03-19T10:50:58.694310Z",
     "shell.execute_reply": "2025-03-19T10:50:58.693618Z"
    },
    "slideshow": {
     "slide_type": "fragment"
    }
   },
   "outputs": [],
   "source": [
    "len(student)"
   ]
  },
  {
   "cell_type": "code",
   "execution_count": null,
   "id": "85f081df",
   "metadata": {
    "execution": {
     "iopub.execute_input": "2025-03-19T10:50:58.732653Z",
     "iopub.status.busy": "2025-03-19T10:50:58.732359Z",
     "iopub.status.idle": "2025-03-19T10:50:58.737510Z",
     "shell.execute_reply": "2025-03-19T10:50:58.736805Z"
    },
    "slideshow": {
     "slide_type": "fragment"
    }
   },
   "outputs": [],
   "source": [
    "student[0:-1]"
   ]
  },
  {
   "cell_type": "code",
   "execution_count": null,
   "id": "8380e4e7",
   "metadata": {
    "execution": {
     "iopub.execute_input": "2025-03-19T10:50:58.748069Z",
     "iopub.status.busy": "2025-03-19T10:50:58.747576Z",
     "iopub.status.idle": "2025-03-19T10:50:58.752349Z",
     "shell.execute_reply": "2025-03-19T10:50:58.751657Z"
    },
    "slideshow": {
     "slide_type": "subslide"
    }
   },
   "outputs": [],
   "source": [
    "student[::-1]"
   ]
  },
  {
   "cell_type": "code",
   "execution_count": null,
   "id": "4830c811",
   "metadata": {
    "execution": {
     "iopub.execute_input": "2025-03-19T10:50:58.755170Z",
     "iopub.status.busy": "2025-03-19T10:50:58.754881Z",
     "iopub.status.idle": "2025-03-19T10:50:58.760097Z",
     "shell.execute_reply": "2025-03-19T10:50:58.759344Z"
    },
    "slideshow": {
     "slide_type": "fragment"
    }
   },
   "outputs": [],
   "source": [
    "student[6:10:2] # What happens here?"
   ]
  },
  {
   "cell_type": "code",
   "execution_count": 5,
   "id": "fdf263b5",
   "metadata": {
    "execution": {
     "iopub.execute_input": "2025-03-19T10:50:58.763106Z",
     "iopub.status.busy": "2025-03-19T10:50:58.762620Z",
     "iopub.status.idle": "2025-03-19T10:50:58.766957Z",
     "shell.execute_reply": "2025-03-19T10:50:58.766269Z"
    },
    "slideshow": {
     "slide_type": "subslide"
    }
   },
   "outputs": [
    {
     "name": "stdout",
     "output_type": "stream",
     "text": [
      "['Rick', 'Morty', 'Beth', 'Jerry', 'Summer']\n",
      "['Rick', 'Beth', 'Summer']\n"
     ]
    }
   ],
   "source": [
    "my_list = ['Rick','Morty', 'Beth', 'Jerry', 'Summer']\n",
    "new_list = my_list[::2]\n",
    "print(my_list)\n",
    "print(new_list)"
   ]
  },
  {
   "cell_type": "code",
   "execution_count": 13,
   "id": "3df8e879",
   "metadata": {
    "slideshow": {
     "slide_type": "fragment"
    }
   },
   "outputs": [
    {
     "name": "stdout",
     "output_type": "stream",
     "text": [
      "['Rick', 'Morty', 'Beth', 'Jerry', 'Summer']\n"
     ]
    }
   ],
   "source": [
    "students = ['Rick','Morty', 'Beth', 'Jerry', 'Summer']\n",
    "print(students)"
   ]
  },
  {
   "cell_type": "code",
   "execution_count": 14,
   "id": "f74e7e00",
   "metadata": {
    "execution": {
     "iopub.execute_input": "2025-03-19T10:50:58.830799Z",
     "iopub.status.busy": "2025-03-19T10:50:58.830487Z",
     "iopub.status.idle": "2025-03-19T10:50:58.834451Z",
     "shell.execute_reply": "2025-03-19T10:50:58.833824Z"
    },
    "slideshow": {
     "slide_type": "fragment"
    }
   },
   "outputs": [
    {
     "name": "stdout",
     "output_type": "stream",
     "text": [
      "['Rick', 'Tiny Rick!', 'Rick c-135', 'Rick c-135', 'Rick c-135']\n"
     ]
    }
   ],
   "source": [
    "students[1:5]=[\"Tiny Rick!\", \"Rick c-135\", \"Rick c-135\", \"Rick c-135\"]\n",
    "print(students)"
   ]
  },
  {
   "cell_type": "code",
   "execution_count": 15,
   "id": "000f4456",
   "metadata": {
    "execution": {
     "iopub.execute_input": "2025-03-19T10:50:58.824867Z",
     "iopub.status.busy": "2025-03-19T10:50:58.824387Z",
     "iopub.status.idle": "2025-03-19T10:50:58.828192Z",
     "shell.execute_reply": "2025-03-19T10:50:58.827571Z"
    },
    "slideshow": {
     "slide_type": "fragment"
    }
   },
   "outputs": [
    {
     "name": "stdout",
     "output_type": "stream",
     "text": [
      "['Rick', 'Tiny Rick!', 'Rick c-135 (a.k.a evil Rick)', 'Rick c-135', 'Rick c-135']\n"
     ]
    }
   ],
   "source": [
    "students[2]+=\" (a.k.a evil Rick)\"\n",
    "print(students)"
   ]
  },
  {
   "cell_type": "markdown",
   "id": "dc227c80",
   "metadata": {
    "slideshow": {
     "slide_type": "slide"
    }
   },
   "source": [
    "### Example 1: Minimal result\n",
    "\n",
    "#### Given two lists, st1 and lst2, compute for each the sum of the list divided by the middle value, and print the smaller of the two results."
   ]
  },
  {
   "cell_type": "markdown",
   "id": "1d319752",
   "metadata": {
    "slideshow": {
     "slide_type": "fragment"
    }
   },
   "source": [
    "#### Plan\n",
    "1. Calculate sum divided by middle for lst1\n",
    "2. Calculate sum divided by middle for lst2\n",
    "3. Print the smaller one"
   ]
  },
  {
   "cell_type": "markdown",
   "id": "03bc61f9",
   "metadata": {
    "slideshow": {
     "slide_type": "subslide"
    }
   },
   "source": [
    "#### Pseudo code\n",
    "1. res1 $\\leftarrow$ sum_div_middle(lst1)\n",
    "2. res2 $\\leftarrow$ sum_div_middle(lst2)\n",
    "3. print min(res1, res2)\n"
   ]
  },
  {
   "cell_type": "markdown",
   "id": "707739cd",
   "metadata": {
    "slideshow": {
     "slide_type": "fragment"
    }
   },
   "source": [
    "#### Implement pseudo code:"
   ]
  },
  {
   "cell_type": "code",
   "execution_count": null,
   "id": "590ad82c",
   "metadata": {
    "execution": {
     "iopub.execute_input": "2025-03-19T10:50:58.704580Z",
     "iopub.status.busy": "2025-03-19T10:50:58.704066Z",
     "iopub.status.idle": "2025-03-19T10:50:58.708120Z",
     "shell.execute_reply": "2025-03-19T10:50:58.707410Z"
    },
    "slideshow": {
     "slide_type": "fragment"
    }
   },
   "outputs": [],
   "source": [
    "def sum_div_middle(lst):\n",
    "    return sum(lst) / lst[len(lst)//2]"
   ]
  },
  {
   "cell_type": "code",
   "execution_count": null,
   "id": "c6615e79",
   "metadata": {
    "execution": {
     "iopub.execute_input": "2025-03-19T10:50:58.710991Z",
     "iopub.status.busy": "2025-03-19T10:50:58.710706Z",
     "iopub.status.idle": "2025-03-19T10:50:58.715173Z",
     "shell.execute_reply": "2025-03-19T10:50:58.714479Z"
    },
    "slideshow": {
     "slide_type": "fragment"
    }
   },
   "outputs": [],
   "source": [
    "res1=sum_div_middle([1,3,7])\n",
    "res2=sum_div_middle([100,30,7])\n",
    "print(min(res1,res2))"
   ]
  },
  {
   "cell_type": "markdown",
   "id": "f558d639",
   "metadata": {
    "slideshow": {
     "slide_type": "subslide"
    }
   },
   "source": [
    "### Nested lists/Matrix"
   ]
  },
  {
   "cell_type": "code",
   "execution_count": 2,
   "id": "2dd8096b",
   "metadata": {
    "execution": {
     "iopub.execute_input": "2025-03-19T10:50:58.770478Z",
     "iopub.status.busy": "2025-03-19T10:50:58.769971Z",
     "iopub.status.idle": "2025-03-19T10:50:58.774198Z",
     "shell.execute_reply": "2025-03-19T10:50:58.773503Z"
    },
    "slideshow": {
     "slide_type": "fragment"
    }
   },
   "outputs": [
    {
     "name": "stdout",
     "output_type": "stream",
     "text": [
      "[['m', 'a', 't', 'R'], ['i', 'c', 'k', 's']]\n"
     ]
    }
   ],
   "source": [
    "mat = [[\"m\", \"a\", \"t\", \"R\"], [\"i\", \"c\", \"k\", \"s\"]]\n",
    "print(mat)"
   ]
  },
  {
   "cell_type": "code",
   "execution_count": null,
   "id": "09701c3e",
   "metadata": {
    "execution": {
     "iopub.execute_input": "2025-03-19T10:50:58.777414Z",
     "iopub.status.busy": "2025-03-19T10:50:58.776917Z",
     "iopub.status.idle": "2025-03-19T10:50:58.780803Z",
     "shell.execute_reply": "2025-03-19T10:50:58.780090Z"
    },
    "slideshow": {
     "slide_type": "fragment"
    }
   },
   "outputs": [],
   "source": [
    "print(len(mat))"
   ]
  },
  {
   "cell_type": "code",
   "execution_count": null,
   "id": "ebf4958d",
   "metadata": {
    "execution": {
     "iopub.execute_input": "2025-03-19T10:50:58.783711Z",
     "iopub.status.busy": "2025-03-19T10:50:58.783427Z",
     "iopub.status.idle": "2025-03-19T10:50:58.787346Z",
     "shell.execute_reply": "2025-03-19T10:50:58.786642Z"
    },
    "slideshow": {
     "slide_type": "fragment"
    }
   },
   "outputs": [],
   "source": [
    "print(len(mat[1]))"
   ]
  },
  {
   "cell_type": "code",
   "execution_count": 4,
   "id": "216681b5",
   "metadata": {
    "slideshow": {
     "slide_type": "fragment"
    }
   },
   "outputs": [
    {
     "name": "stdout",
     "output_type": "stream",
     "text": [
      "k\n"
     ]
    }
   ],
   "source": [
    "print(mat[1][2]) "
   ]
  },
  {
   "cell_type": "markdown",
   "id": "92445687",
   "metadata": {
    "slideshow": {
     "slide_type": "fragment"
    }
   },
   "source": [
    "And what about `mat[2][1]`?"
   ]
  },
  {
   "cell_type": "markdown",
   "id": "69df6e7d",
   "metadata": {
    "slideshow": {
     "slide_type": "subslide"
    }
   },
   "source": [
    "### Example 2: Element-wise product \n",
    "- For a pair of 2x2 matrices, multiply each number in the first matrix with its corresponding number in the second matrix\n",
    "- Corresponding number = the number that lies in the same position\n"
   ]
  },
  {
   "cell_type": "code",
   "execution_count": null,
   "id": "d87e4cdc",
   "metadata": {
    "execution": {
     "iopub.execute_input": "2025-03-19T10:50:58.790586Z",
     "iopub.status.busy": "2025-03-19T10:50:58.790095Z",
     "iopub.status.idle": "2025-03-19T10:50:58.796531Z",
     "shell.execute_reply": "2025-03-19T10:50:58.795748Z"
    },
    "slideshow": {
     "slide_type": "fragment"
    }
   },
   "outputs": [],
   "source": [
    "m=[[2,2], [1,3]]\n",
    "n=[[4,2], [9,2]]\n",
    "\n",
    "result=[[],[]]\n",
    "\n",
    "i=0; j=0\n",
    "result[i].append(m[i][j]*n[i][j])\n",
    "\n",
    "i=0; j=1\n",
    "result[i].append(m[i][j]*n[i][j])\n",
    "\n",
    "i=1; j=0\n",
    "result[i].append(m[i][j]*n[i][j])\n",
    "\n",
    "i=1; j=1\n",
    "result[i].append(m[i][j]*n[i][j])\n",
    "\n",
    "\n",
    "print(result)"
   ]
  },
  {
   "cell_type": "markdown",
   "id": "d6dec7aa",
   "metadata": {
    "slideshow": {
     "slide_type": "slide"
    }
   },
   "source": [
    "### List's methods\n",
    "- Applied using the dot notation: **variable_name.function_name()**\n",
    "- Might **change the original object**\n",
    "    - Strings: Immutable\n",
    "    - Lists: Mutable"
   ]
  },
  {
   "cell_type": "markdown",
   "id": "48723421",
   "metadata": {
    "slideshow": {
     "slide_type": "subslide"
    }
   },
   "source": [
    "#### Partial list of methods \n",
    "|method|description|\n",
    "|:-------|:-------------------------------------------|\n",
    "|lst.append(item)|\tappend an item to the end of the list\n",
    "|**lst.count(val)**|\treturn the number of occurrences of val\n",
    "|lst.extend(another_lst)|\textend list by appending items from another list\n",
    "|**lst.index(val)**|\treturn first index of val\n",
    "|lst.insert(index, item)|\tinsert an item before index\n",
    "|lst.pop(index)| \tremove the item at location index and return it (remove last element if index is omitted)\n",
    "|lst.remove(val)|\tremove first occurrence of a val\n",
    "|lst.reverse()| \treverse the list (in place)\n",
    "|lst.sort()|\tsort the list (in place)\n",
    "\n",
    "**\\*bolded does not change the list**"
   ]
  },
  {
   "cell_type": "markdown",
   "id": "ac8f2417",
   "metadata": {
    "slideshow": {
     "slide_type": "subslide"
    }
   },
   "source": [
    "### Other list's function:\n",
    "|function|description|\n",
    "|:-------|:-------------------------------------------|\n",
    "|len() | returns the list’s length \n",
    "|sum() | returns a sum of all list elements\n",
    "|min() | returns the minimal element\n",
    "|max() | returns the maximal element\n",
    "|sorted() | returns a sorted copy of the list\n",
    "in | returns True if element in list (e.g. 1 in lst)|\n"
   ]
  },
  {
   "cell_type": "markdown",
   "id": "31aeca96",
   "metadata": {
    "slideshow": {
     "slide_type": "slide"
    }
   },
   "source": [
    "## Sorting lists"
   ]
  },
  {
   "cell_type": "code",
   "execution_count": null,
   "id": "8765ac0a",
   "metadata": {
    "execution": {
     "iopub.execute_input": "2025-03-19T10:50:58.926975Z",
     "iopub.status.busy": "2025-03-19T10:50:58.926654Z",
     "iopub.status.idle": "2025-03-19T10:50:58.930832Z",
     "shell.execute_reply": "2025-03-19T10:50:58.930160Z"
    },
    "slideshow": {
     "slide_type": "fragment"
    }
   },
   "outputs": [],
   "source": [
    "a = [3,7,1]\n",
    "b = sorted(a)\n",
    "print(a)\n",
    "print(b)"
   ]
  },
  {
   "cell_type": "code",
   "execution_count": null,
   "id": "0b0e64e8",
   "metadata": {
    "execution": {
     "iopub.execute_input": "2025-03-19T10:50:58.933654Z",
     "iopub.status.busy": "2025-03-19T10:50:58.933339Z",
     "iopub.status.idle": "2025-03-19T10:50:58.937573Z",
     "shell.execute_reply": "2025-03-19T10:50:58.936815Z"
    },
    "slideshow": {
     "slide_type": "fragment"
    }
   },
   "outputs": [],
   "source": [
    "a = [3,7,1]\n",
    "b = a.sort()\n",
    "print(a)\n",
    "print(b)"
   ]
  },
  {
   "cell_type": "markdown",
   "id": "b3655a53",
   "metadata": {
    "slideshow": {
     "slide_type": "slide"
    }
   },
   "source": [
    "#### Iterable\n",
    "- Represent a sequence of some kind\n",
    "    - What kind of sequence did we see so far? Strings, Lists"
   ]
  },
  {
   "cell_type": "markdown",
   "id": "73d146eb",
   "metadata": {
    "slideshow": {
     "slide_type": "subslide"
    }
   },
   "source": [
    "## Range\n",
    "\n",
    "- Another iterable \n",
    "`range(from, to, step)` returns:  \n",
    "**from**, **from**+**step**, **from**+**2*step**,…, **from+i*step**\n",
    "until (and not including) **to** is reached."
   ]
  },
  {
   "cell_type": "code",
   "execution_count": null,
   "id": "6ba16c92",
   "metadata": {
    "execution": {
     "iopub.execute_input": "2025-03-19T10:50:58.954983Z",
     "iopub.status.busy": "2025-03-19T10:50:58.954668Z",
     "iopub.status.idle": "2025-03-19T10:50:58.959400Z",
     "shell.execute_reply": "2025-03-19T10:50:58.958666Z"
    },
    "slideshow": {
     "slide_type": "fragment"
    }
   },
   "outputs": [],
   "source": [
    "list(range(7))"
   ]
  },
  {
   "cell_type": "code",
   "execution_count": null,
   "id": "ece884e2",
   "metadata": {
    "execution": {
     "iopub.execute_input": "2025-03-19T10:50:58.962185Z",
     "iopub.status.busy": "2025-03-19T10:50:58.961706Z",
     "iopub.status.idle": "2025-03-19T10:50:58.966369Z",
     "shell.execute_reply": "2025-03-19T10:50:58.965690Z"
    },
    "slideshow": {
     "slide_type": "fragment"
    }
   },
   "outputs": [],
   "source": [
    "list(range(3,7))"
   ]
  },
  {
   "cell_type": "code",
   "execution_count": null,
   "id": "b175ea27",
   "metadata": {
    "execution": {
     "iopub.execute_input": "2025-03-19T10:50:58.969194Z",
     "iopub.status.busy": "2025-03-19T10:50:58.968713Z",
     "iopub.status.idle": "2025-03-19T10:50:58.973398Z",
     "shell.execute_reply": "2025-03-19T10:50:58.972776Z"
    },
    "slideshow": {
     "slide_type": "subslide"
    }
   },
   "outputs": [],
   "source": [
    "list(range(7, 3, -1))"
   ]
  },
  {
   "cell_type": "code",
   "execution_count": null,
   "id": "6e8f1a45",
   "metadata": {
    "execution": {
     "iopub.execute_input": "2025-03-19T10:50:58.975991Z",
     "iopub.status.busy": "2025-03-19T10:50:58.975670Z",
     "iopub.status.idle": "2025-03-19T10:50:58.980903Z",
     "shell.execute_reply": "2025-03-19T10:50:58.980149Z"
    },
    "slideshow": {
     "slide_type": "fragment"
    }
   },
   "outputs": [],
   "source": [
    "list(range(-3,7,1))"
   ]
  },
  {
   "cell_type": "code",
   "execution_count": null,
   "id": "17c75b7c",
   "metadata": {
    "execution": {
     "iopub.execute_input": "2025-03-19T10:50:58.983616Z",
     "iopub.status.busy": "2025-03-19T10:50:58.983294Z",
     "iopub.status.idle": "2025-03-19T10:50:58.987868Z",
     "shell.execute_reply": "2025-03-19T10:50:58.987254Z"
    },
    "slideshow": {
     "slide_type": "fragment"
    }
   },
   "outputs": [],
   "source": [
    "list(range(1, 7, -3))"
   ]
  },
  {
   "cell_type": "code",
   "execution_count": null,
   "id": "50af941c",
   "metadata": {
    "execution": {
     "iopub.execute_input": "2025-03-19T10:50:58.990544Z",
     "iopub.status.busy": "2025-03-19T10:50:58.990143Z",
     "iopub.status.idle": "2025-03-19T10:50:59.007681Z",
     "shell.execute_reply": "2025-03-19T10:50:59.006975Z"
    },
    "slideshow": {
     "slide_type": "fragment"
    },
    "tags": [
     "raises-exception"
    ]
   },
   "outputs": [],
   "source": [
    "list(range(0, 137, 0))"
   ]
  },
  {
   "cell_type": "markdown",
   "id": "ecc0d178",
   "metadata": {
    "slideshow": {
     "slide_type": "slide"
    }
   },
   "source": [
    "## `For` loops"
   ]
  },
  {
   "cell_type": "markdown",
   "id": "6f567b30",
   "metadata": {
    "slideshow": {
     "slide_type": "subslide"
    }
   },
   "source": [
    "#### Syntax\n",
    "```python\n",
    "for element in iterable:\n",
    "    statement1\n",
    "    statement2\n",
    "    …\n",
    "rest of code…\n",
    "```"
   ]
  },
  {
   "cell_type": "markdown",
   "id": "8aff25cd",
   "metadata": {
    "slideshow": {
     "slide_type": "subslide"
    }
   },
   "source": [
    "### Print each element separately with a descriptive text:"
   ]
  },
  {
   "cell_type": "code",
   "execution_count": null,
   "id": "183b8464",
   "metadata": {
    "execution": {
     "iopub.execute_input": "2025-03-19T10:50:59.031627Z",
     "iopub.status.busy": "2025-03-19T10:50:59.031224Z",
     "iopub.status.idle": "2025-03-19T10:50:59.035545Z",
     "shell.execute_reply": "2025-03-19T10:50:59.034783Z"
    },
    "slideshow": {
     "slide_type": "fragment"
    }
   },
   "outputs": [],
   "source": [
    "lst = ['rick', 'c', 137]\n",
    "for elem in lst:\n",
    "    print(\"current element:\", elem)"
   ]
  },
  {
   "cell_type": "markdown",
   "id": "4ba4db5b",
   "metadata": {
    "slideshow": {
     "slide_type": "notes"
    }
   },
   "source": [
    "Slide 48"
   ]
  },
  {
   "cell_type": "markdown",
   "id": "6ea260c0",
   "metadata": {
    "slideshow": {
     "slide_type": "slide"
    }
   },
   "source": [
    "###  Iteration can also be done on a string"
   ]
  },
  {
   "cell_type": "code",
   "execution_count": null,
   "id": "7df74a79",
   "metadata": {
    "execution": {
     "iopub.execute_input": "2025-03-19T10:50:59.038378Z",
     "iopub.status.busy": "2025-03-19T10:50:59.038059Z",
     "iopub.status.idle": "2025-03-19T10:50:59.042232Z",
     "shell.execute_reply": "2025-03-19T10:50:59.041540Z"
    },
    "slideshow": {
     "slide_type": "fragment"
    }
   },
   "outputs": [],
   "source": [
    "name = \"Rick\"\n",
    "for letter in name:\n",
    "    print(\"Give me\", letter)\n",
    "print(\"What did we get?\", name)"
   ]
  },
  {
   "cell_type": "markdown",
   "id": "70002137",
   "metadata": {
    "slideshow": {
     "slide_type": "subslide"
    }
   },
   "source": [
    "### Put zeros instead each even element"
   ]
  },
  {
   "cell_type": "code",
   "execution_count": null,
   "id": "02480f5b",
   "metadata": {
    "execution": {
     "iopub.execute_input": "2025-03-19T10:50:59.045113Z",
     "iopub.status.busy": "2025-03-19T10:50:59.044798Z",
     "iopub.status.idle": "2025-03-19T10:50:59.049276Z",
     "shell.execute_reply": "2025-03-19T10:50:59.048578Z"
    },
    "slideshow": {
     "slide_type": "fragment"
    }
   },
   "outputs": [],
   "source": [
    "# Modify the list\n",
    "lst = [1,2,3,4,7]\n",
    "for i in range(len(lst)):\n",
    "    if lst[i] % 2 == 0:\n",
    "        lst[i] = 0\n",
    "print(lst)"
   ]
  },
  {
   "cell_type": "code",
   "execution_count": null,
   "id": "2bd1d7fe",
   "metadata": {
    "execution": {
     "iopub.execute_input": "2025-03-19T10:50:59.052288Z",
     "iopub.status.busy": "2025-03-19T10:50:59.051861Z",
     "iopub.status.idle": "2025-03-19T10:50:59.056309Z",
     "shell.execute_reply": "2025-03-19T10:50:59.055549Z"
    },
    "slideshow": {
     "slide_type": "fragment"
    }
   },
   "outputs": [],
   "source": [
    "# The This is NOT equivalent! Does not modify the list...\n",
    "lst = [1,2,3,4,7]\n",
    "for elem in lst:\n",
    "    if elem % 2 == 0:\n",
    "        elem = 0\n",
    "print(lst)"
   ]
  },
  {
   "cell_type": "markdown",
   "id": "930400b6",
   "metadata": {
    "slideshow": {
     "slide_type": "notes"
    }
   },
   "source": [
    "Slide 55"
   ]
  },
  {
   "cell_type": "markdown",
   "id": "c7593024",
   "metadata": {
    "slideshow": {
     "slide_type": "slide"
    }
   },
   "source": [
    "### Infinite `for` loop"
   ]
  },
  {
   "cell_type": "markdown",
   "id": "2f2fbad7",
   "metadata": {
    "slideshow": {
     "slide_type": "fragment"
    }
   },
   "source": [
    "```python\n",
    "# Do not run this code\n",
    "x=[1]\n",
    "for a in x:\n",
    "    x.append(1)\n",
    "    print(x)\n",
    "```"
   ]
  },
  {
   "cell_type": "markdown",
   "id": "8c101dc5",
   "metadata": {
    "slideshow": {
     "slide_type": "fragment"
    }
   },
   "source": [
    "#### Avoid changing the list on which you iterate! (may cause all kind of problem, including infinite loops)"
   ]
  },
  {
   "cell_type": "markdown",
   "id": "d6df12ae",
   "metadata": {
    "slideshow": {
     "slide_type": "slide"
    }
   },
   "source": [
    "### Example #3: concatenate all characters in a matrix into a single string"
   ]
  },
  {
   "cell_type": "code",
   "execution_count": null,
   "id": "c3faf57d",
   "metadata": {
    "slideshow": {
     "slide_type": "fragment"
    }
   },
   "outputs": [],
   "source": [
    "mat = [[\"m\", \"a\", \"t\", \"R\"], [\"i\", \"c\", \"k\", \"s\"]]\n",
    "# Write your code here"
   ]
  },
  {
   "cell_type": "code",
   "execution_count": null,
   "id": "5aeb6e11",
   "metadata": {
    "execution": {
     "iopub.execute_input": "2025-03-19T10:50:59.079691Z",
     "iopub.status.busy": "2025-03-19T10:50:59.079373Z",
     "iopub.status.idle": "2025-03-19T10:50:59.084412Z",
     "shell.execute_reply": "2025-03-19T10:50:59.083650Z"
    },
    "slideshow": {
     "slide_type": "fragment"
    }
   },
   "outputs": [],
   "source": [
    "mat = [[\"m\", \"a\", \"t\", \"R\"], [\"i\", \"c\", \"k\", \"s\"]]\n",
    "my_string=\"\"\n",
    "num_rows = len(mat)\n",
    "num_columns = len(mat[0])\n",
    "for i in range(num_rows):\n",
    "    for j in range(num_columns):\n",
    "        my_string+=mat[i][j]\n",
    "print(my_string)"
   ]
  },
  {
   "cell_type": "markdown",
   "id": "1a06982e",
   "metadata": {
    "slideshow": {
     "slide_type": "fragment"
    }
   },
   "source": [
    "Try this with [Python Tutor](https://pythontutor.com/render.html#code=for%20i%20in%20range%281,11%29%3A%0A%20%20%20%20for%20j%20in%20range%281,11%29%3A%0A%20%20%20%20%20%20%20%20print%28i*j,%20end%20%3D%22%5Ct%22%29%0A%20%20%20%20print%28%29&cumulative=false&curInstr=0&heapPrimitives=nevernest&mode=display&origin=opt-frontend.js&py=3&rawInputLstJSON=%5B%5D&textReferences=false) "
   ]
  },
  {
   "cell_type": "markdown",
   "id": "bb4873c8",
   "metadata": {
    "slideshow": {
     "slide_type": "notes"
    }
   },
   "source": [
    "Slide 56"
   ]
  },
  {
   "cell_type": "markdown",
   "id": "f2c405b1",
   "metadata": {
    "slideshow": {
     "slide_type": "slide"
    }
   },
   "source": [
    "## `while` loops"
   ]
  },
  {
   "cell_type": "markdown",
   "id": "5bce4c7e",
   "metadata": {
    "slideshow": {
     "slide_type": "subslide"
    }
   },
   "source": [
    "#### Syntax\n",
    "```python\n",
    "while expression: ## expression is either True or False\n",
    "    statement1\n",
    "    statement2\n",
    "    …\n",
    "rest of code…\n",
    "```"
   ]
  },
  {
   "cell_type": "markdown",
   "id": "326d5d42",
   "metadata": {
    "slideshow": {
     "slide_type": "subslide"
    }
   },
   "source": [
    "### Print numbers from 1 to 7 with a descriptive text:"
   ]
  },
  {
   "cell_type": "code",
   "execution_count": null,
   "id": "862204cb",
   "metadata": {
    "execution": {
     "iopub.execute_input": "2025-03-19T10:50:59.010787Z",
     "iopub.status.busy": "2025-03-19T10:50:59.010465Z",
     "iopub.status.idle": "2025-03-19T10:50:59.014694Z",
     "shell.execute_reply": "2025-03-19T10:50:59.013931Z"
    },
    "slideshow": {
     "slide_type": "fragment"
    }
   },
   "outputs": [],
   "source": [
    "cur_number = 1\n",
    "while cur_number<=7:\n",
    "    print(\"current number:\", cur_number)\n",
    "    cur_number+=1"
   ]
  },
  {
   "cell_type": "markdown",
   "id": "2cf38c40",
   "metadata": {
    "slideshow": {
     "slide_type": "subslide"
    }
   },
   "source": [
    "### Infinite loop"
   ]
  },
  {
   "cell_type": "markdown",
   "id": "4982a151",
   "metadata": {
    "slideshow": {
     "slide_type": "fragment"
    }
   },
   "source": [
    "```python\n",
    "# Do not run this code\n",
    "i = 1\n",
    "while i < 137:\n",
    "    print(i)\n",
    "```"
   ]
  },
  {
   "cell_type": "markdown",
   "id": "53ed95bf",
   "metadata": {
    "slideshow": {
     "slide_type": "slide"
    }
   },
   "source": [
    "## `break` and `continue` statements"
   ]
  },
  {
   "cell_type": "markdown",
   "id": "4a3bca65-b7ea-40cf-9bce-3c7800b3d230",
   "metadata": {
    "slideshow": {
     "slide_type": "fragment"
    }
   },
   "source": [
    "- Interrupts the **nearest enclosing loop**\n",
    "\n",
    "- Jointly used with an `if` statement "
   ]
  },
  {
   "cell_type": "markdown",
   "id": "7f73817a",
   "metadata": {
    "slideshow": {
     "slide_type": "fragment"
    }
   },
   "source": [
    "#### `break` statement – breaking loops"
   ]
  },
  {
   "cell_type": "code",
   "execution_count": null,
   "id": "2bd27878",
   "metadata": {
    "execution": {
     "iopub.execute_input": "2025-03-19T10:50:59.059234Z",
     "iopub.status.busy": "2025-03-19T10:50:59.058828Z",
     "iopub.status.idle": "2025-03-19T10:50:59.063541Z",
     "shell.execute_reply": "2025-03-19T10:50:59.062788Z"
    },
    "slideshow": {
     "slide_type": "fragment"
    }
   },
   "outputs": [],
   "source": [
    "lst = [4, 2, -6, 3,-9]\n",
    "for elem in lst:\n",
    "    if elem < 0: \n",
    "        print(\"First negative number is\", elem)\n",
    "        break\n",
    "print(\"done!\")"
   ]
  },
  {
   "cell_type": "code",
   "execution_count": null,
   "id": "9b1a52c1",
   "metadata": {
    "execution": {
     "iopub.execute_input": "2025-03-19T10:50:59.017769Z",
     "iopub.status.busy": "2025-03-19T10:50:59.017452Z",
     "iopub.status.idle": "2025-03-19T10:50:59.021711Z",
     "shell.execute_reply": "2025-03-19T10:50:59.021036Z"
    },
    "slideshow": {
     "slide_type": "fragment"
    }
   },
   "outputs": [],
   "source": [
    "x=0\n",
    "while x<30: \n",
    "    x+=1\n",
    "    if not x % 10:\n",
    "        break\n",
    "    print(x, end='\\t')"
   ]
  },
  {
   "cell_type": "markdown",
   "id": "ad9d28ad",
   "metadata": {
    "slideshow": {
     "slide_type": "fragment"
    }
   },
   "source": [
    "#### `continue` statement – Skipping loops\n"
   ]
  },
  {
   "cell_type": "code",
   "execution_count": null,
   "id": "2ea551a5",
   "metadata": {
    "execution": {
     "iopub.execute_input": "2025-03-19T10:50:59.024477Z",
     "iopub.status.busy": "2025-03-19T10:50:59.024144Z",
     "iopub.status.idle": "2025-03-19T10:50:59.028570Z",
     "shell.execute_reply": "2025-03-19T10:50:59.027807Z"
    },
    "slideshow": {
     "slide_type": "fragment"
    }
   },
   "outputs": [],
   "source": [
    "x=0\n",
    "while x<30: \n",
    "    x+=1\n",
    "    if not x % 10:\n",
    "        continue\n",
    "    print(x, end='\\t')"
   ]
  },
  {
   "cell_type": "markdown",
   "id": "61dea699",
   "metadata": {
    "slideshow": {
     "slide_type": "slide"
    }
   },
   "source": [
    "## Loops - `for` or `while`?"
   ]
  },
  {
   "cell_type": "markdown",
   "id": "0de06964",
   "metadata": {
    "slideshow": {
     "slide_type": "fragment"
    }
   },
   "source": [
    "In **most** cases it is more natural to use *for*  \n",
    "In some cases it is better to use *while*  \n",
    "- for:  \n",
    "    - Predefined number of iterations\n",
    "    - No need to initialize or advance the loop variable\n",
    "- while:  \n",
    "    - Unknown number of iterations\n",
    "    - Can specify a stop condition \n"
   ]
  },
  {
   "cell_type": "markdown",
   "id": "55dba91b",
   "metadata": {
    "slideshow": {
     "slide_type": "slide"
    }
   },
   "source": [
    "# Self learning"
   ]
  },
  {
   "cell_type": "markdown",
   "id": "dba0adde",
   "metadata": {
    "slideshow": {
     "slide_type": "fragment"
    }
   },
   "source": [
    "### Exercise 1: List methods\n",
    "#### What will be printed?"
   ]
  },
  {
   "cell_type": "code",
   "execution_count": null,
   "id": "54bf793a",
   "metadata": {
    "execution": {
     "iopub.execute_input": "2025-03-19T10:50:58.906498Z",
     "iopub.status.busy": "2025-03-19T10:50:58.906176Z",
     "iopub.status.idle": "2025-03-19T10:50:58.909999Z",
     "shell.execute_reply": "2025-03-19T10:50:58.909244Z"
    },
    "slideshow": {
     "slide_type": "fragment"
    }
   },
   "outputs": [],
   "source": [
    "students=['Rick', 'Tiny Rick!', 'Beth', 'Jerry', 'Summer', 'Jessica', 'Rick', 'Rick']"
   ]
  },
  {
   "cell_type": "code",
   "execution_count": null,
   "id": "ffc6d3f5",
   "metadata": {
    "execution": {
     "iopub.execute_input": "2025-03-19T10:50:58.912814Z",
     "iopub.status.busy": "2025-03-19T10:50:58.912332Z",
     "iopub.status.idle": "2025-03-19T10:50:58.917735Z",
     "shell.execute_reply": "2025-03-19T10:50:58.916985Z"
    },
    "slideshow": {
     "slide_type": "fragment"
    }
   },
   "outputs": [],
   "source": [
    "x = students.pop(-1)\n",
    "if x in students[:len(students)//2] and x in students[len(students)//2:]:\n",
    "    students.remove(x)\n",
    "    students.remove(x)\n",
    "    \n",
    "if x in students[:len(students)//2] or x in students[len(students)//2:]:\n",
    "    students.remove(x)\n",
    "\n",
    "print(\"Rick\" in students)"
   ]
  },
  {
   "cell_type": "markdown",
   "id": "5ba9104b",
   "metadata": {
    "slideshow": {
     "slide_type": "slide"
    }
   },
   "source": [
    "### Exercise 2: Multiplication chart\n",
    "\n",
    "#### print the multiplicaion chart.\n",
    "\n",
    "hint: try this code first.\n",
    "``` python\n",
    "for letter in [\"a\", \"b\", \"c\"]:\n",
    "    print(letter, end=\"\\t\")\n",
    " ```"
   ]
  },
  {
   "cell_type": "markdown",
   "id": "a84525c1",
   "metadata": {
    "slideshow": {
     "slide_type": "fragment"
    }
   },
   "source": [
    "<img src='data:image/png;base64,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' width=400 height=400/>"
   ]
  },
  {
   "cell_type": "markdown",
   "id": "193422d5",
   "metadata": {
    "slideshow": {
     "slide_type": "subslide"
    }
   },
   "source": [
    "#### Solution"
   ]
  },
  {
   "cell_type": "code",
   "execution_count": null,
   "id": "0e4d613c",
   "metadata": {
    "execution": {
     "iopub.execute_input": "2025-03-19T10:50:59.087355Z",
     "iopub.status.busy": "2025-03-19T10:50:59.086950Z",
     "iopub.status.idle": "2025-03-19T10:50:59.091984Z",
     "shell.execute_reply": "2025-03-19T10:50:59.091231Z"
    },
    "slideshow": {
     "slide_type": "fragment"
    }
   },
   "outputs": [],
   "source": [
    "for i in range(1,11):\n",
    "    for j in range(1,11):\n",
    "        print(i*j, end =\"\\t\")\n",
    "    print()"
   ]
  },
  {
   "cell_type": "markdown",
   "id": "1abbe7ac",
   "metadata": {
    "slideshow": {
     "slide_type": "subslide"
    }
   },
   "source": [
    "### Exercise 3: Unique list of numbers\n",
    "#### Write a function that receives a list of number, and returns a list where each number from the original list appears exactly once.\n",
    "\n",
    "\n",
    "<span style='color:purple'>[1,3,3,1,7,7,7,1,3] $\\rightarrow$ [1,3,7]</span>  "
   ]
  },
  {
   "cell_type": "code",
   "execution_count": null,
   "id": "8ded0562",
   "metadata": {
    "execution": {
     "iopub.execute_input": "2025-03-19T10:50:59.066290Z",
     "iopub.status.busy": "2025-03-19T10:50:59.065968Z",
     "iopub.status.idle": "2025-03-19T10:50:59.069639Z",
     "shell.execute_reply": "2025-03-19T10:50:59.068895Z"
    },
    "slideshow": {
     "slide_type": "fragment"
    }
   },
   "outputs": [],
   "source": [
    "lst = [1,3,3,1,7,7,7,1,3]\n",
    "## You code here"
   ]
  },
  {
   "cell_type": "markdown",
   "id": "13866150",
   "metadata": {
    "slideshow": {
     "slide_type": "subslide"
    }
   },
   "source": [
    "#### Solution"
   ]
  },
  {
   "cell_type": "code",
   "execution_count": null,
   "id": "6c96c119",
   "metadata": {
    "execution": {
     "iopub.execute_input": "2025-03-19T10:50:59.072420Z",
     "iopub.status.busy": "2025-03-19T10:50:59.071997Z",
     "iopub.status.idle": "2025-03-19T10:50:59.076700Z",
     "shell.execute_reply": "2025-03-19T10:50:59.076054Z"
    },
    "slideshow": {
     "slide_type": "fragment"
    }
   },
   "outputs": [],
   "source": [
    "lst = [1,3,3,1,7,7,7,1,3]\n",
    "uniques = []\n",
    "for x in lst: \n",
    "    if x in uniques: \n",
    "        continue \n",
    "    uniques.append(x)\n",
    "print(uniques)\n"
   ]
  },
  {
   "cell_type": "markdown",
   "id": "d58adbed",
   "metadata": {
    "slideshow": {
     "slide_type": "subslide"
    }
   },
   "source": [
    "### Exercise 4: The phone book of Rick\n",
    "\n",
    "- We want to develop an application for managing the Contacts of Ricks\n",
    "- It will contain a database\n",
    "- A list of contacts\n",
    "- Each contact is a list in the format [name, phone]\n",
    "- Functionality\n",
    "- Find contact(s) by full name or prefix\n",
    "- Add contact\n",
    "- Remove contact"
   ]
  },
  {
   "cell_type": "code",
   "execution_count": null,
   "id": "e647c834",
   "metadata": {
    "execution": {
     "iopub.execute_input": "2025-03-19T10:50:59.095261Z",
     "iopub.status.busy": "2025-03-19T10:50:59.094765Z",
     "iopub.status.idle": "2025-03-19T10:50:59.098817Z",
     "shell.execute_reply": "2025-03-19T10:50:59.098069Z"
    },
    "slideshow": {
     "slide_type": "subslide"
    }
   },
   "outputs": [],
   "source": [
    "phone_book = [['Morty','1111'], ['Beth', '2222'], ['rick c-138', '8888'], ['rick c-139', '9999']]"
   ]
  },
  {
   "cell_type": "markdown",
   "id": "7ef7f920",
   "metadata": {
    "slideshow": {
     "slide_type": "fragment"
    }
   },
   "source": [
    "#### Retrieve the number for a given person\n",
    "```python\n",
    "name = 'rick' ## Change the value here\n",
    "### Write your code here\n",
    "\n",
    "if found:\n",
    "    print(\"Name:\", name , \"Phone:\", phone)\n",
    "else:\n",
    "    print(\"Cannot find\", name , \"in contact list.\")\n",
    "```"
   ]
  },
  {
   "cell_type": "markdown",
   "id": "db7662e6",
   "metadata": {
    "slideshow": {
     "slide_type": "fragment"
    }
   },
   "source": [
    "#### Solution"
   ]
  },
  {
   "cell_type": "code",
   "execution_count": null,
   "id": "e1e78695",
   "metadata": {
    "execution": {
     "iopub.execute_input": "2025-03-19T10:50:59.101594Z",
     "iopub.status.busy": "2025-03-19T10:50:59.101278Z",
     "iopub.status.idle": "2025-03-19T10:50:59.106370Z",
     "shell.execute_reply": "2025-03-19T10:50:59.105624Z"
    },
    "slideshow": {
     "slide_type": "fragment"
    }
   },
   "outputs": [],
   "source": [
    "name = 'rick' ## Change the value here\n",
    "found = False\n",
    "phone = \"\"\n",
    "for contact in phone_book:\n",
    "    if contact[0] == name:\n",
    "        found = True\n",
    "        phone = contact[1]\n",
    "        break\n",
    "if found:\n",
    "    print(\"Name:\", name , \"Phone:\", phone)\n",
    "else:\n",
    "    print(\"Cannot find\", name , \"in contact list.\")"
   ]
  },
  {
   "cell_type": "markdown",
   "id": "2235781f",
   "metadata": {
    "slideshow": {
     "slide_type": "subslide"
    }
   },
   "source": [
    "#### Add a contact"
   ]
  },
  {
   "cell_type": "code",
   "execution_count": null,
   "id": "c3a7709c",
   "metadata": {
    "execution": {
     "iopub.execute_input": "2025-03-19T10:50:59.109156Z",
     "iopub.status.busy": "2025-03-19T10:50:59.108833Z",
     "iopub.status.idle": "2025-03-19T10:50:59.112861Z",
     "shell.execute_reply": "2025-03-19T10:50:59.112239Z"
    },
    "slideshow": {
     "slide_type": "fragment"
    }
   },
   "outputs": [],
   "source": [
    "name = 'rick'# Change the value here\n",
    "num = 1234\n",
    "phone_book.append([name, num])\n",
    "print(phone_book)"
   ]
  },
  {
   "cell_type": "markdown",
   "id": "1fbd213e",
   "metadata": {
    "slideshow": {
     "slide_type": "subslide"
    }
   },
   "source": [
    "#### Remove a contact\n",
    "```python\n",
    "name = 'rick'# Change the value here\n",
    "found = False\n",
    "for contact in phone_book:\n",
    "    if contact[0] == name:\n",
    "        ###  Write your code here\n",
    "\n",
    "if not found:\n",
    "    print(\"Cannot find the contact\", \"name\")\n",
    "```"
   ]
  },
  {
   "cell_type": "markdown",
   "id": "76f3f0de",
   "metadata": {
    "slideshow": {
     "slide_type": "fragment"
    }
   },
   "source": [
    "#### Solution"
   ]
  },
  {
   "cell_type": "code",
   "execution_count": null,
   "id": "10c8ca4d",
   "metadata": {
    "execution": {
     "iopub.execute_input": "2025-03-19T10:50:59.115699Z",
     "iopub.status.busy": "2025-03-19T10:50:59.115303Z",
     "iopub.status.idle": "2025-03-19T10:50:59.120316Z",
     "shell.execute_reply": "2025-03-19T10:50:59.119541Z"
    },
    "slideshow": {
     "slide_type": "fragment"
    }
   },
   "outputs": [],
   "source": [
    "name = 'rick'# Change the value here\n",
    "found = False\n",
    "for contact in phone_book:\n",
    "    if contact[0] == name:\n",
    "        phone_book.remove(contact)\n",
    "        print(f'The contact {name} was deleted')\n",
    "        found = True\n",
    "        break\n",
    "\n",
    "if not found:\n",
    "    print(\"Cannot find the contact\", name)\n"
   ]
  },
  {
   "cell_type": "markdown",
   "id": "4f699020",
   "metadata": {
    "slideshow": {
     "slide_type": "subslide"
    }
   },
   "source": [
    "#### Search for all contacts with given prefix.\n",
    "#### Ignore character case (aka, case insensitive)."
   ]
  },
  {
   "cell_type": "code",
   "execution_count": 18,
   "id": "44956c9b",
   "metadata": {
    "slideshow": {
     "slide_type": "fragment"
    }
   },
   "outputs": [],
   "source": [
    "prefix = \"Rick\"\n",
    "### Write your code here"
   ]
  },
  {
   "cell_type": "code",
   "execution_count": null,
   "id": "518b0e62",
   "metadata": {
    "execution": {
     "iopub.execute_input": "2025-03-19T10:50:59.123139Z",
     "iopub.status.busy": "2025-03-19T10:50:59.122730Z",
     "iopub.status.idle": "2025-03-19T10:50:59.127695Z",
     "shell.execute_reply": "2025-03-19T10:50:59.126942Z"
    },
    "slideshow": {
     "slide_type": "fragment"
    }
   },
   "outputs": [],
   "source": [
    "prefix = \"Rick\"\n",
    "prefix = prefix.lower()\n",
    "for contact in phone_book:    \n",
    "    if contact[0].lower().startswith(prefix):        \n",
    "        print(\"Name:\", contact[0], \"Phone:\", contact[1])"
   ]
  }
 ],
 "metadata": {
  "celltoolbar": "Slideshow",
  "kernelspec": {
   "display_name": "Python 3 (ipykernel)",
   "language": "python",
   "name": "python3"
  },
  "language_info": {
   "codemirror_mode": {
    "name": "ipython",
    "version": 3
   },
   "file_extension": ".py",
   "mimetype": "text/x-python",
   "name": "python",
   "nbconvert_exporter": "python",
   "pygments_lexer": "ipython3",
   "version": "3.13.5"
  }
 },
 "nbformat": 4,
 "nbformat_minor": 5
}
