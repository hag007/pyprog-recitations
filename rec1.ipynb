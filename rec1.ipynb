{
 "cells": [
  {
   "cell_type": "code",
   "execution_count": null,
   "id": "b8e9e08c",
   "metadata": {
    "execution": {
     "iopub.execute_input": "2025-03-19T10:50:10.084763Z",
     "iopub.status.busy": "2025-03-19T10:50:10.084490Z",
     "iopub.status.idle": "2025-03-19T10:50:10.102509Z",
     "shell.execute_reply": "2025-03-19T10:50:10.101594Z"
    },
    "slideshow": {
     "slide_type": "skip"
    },
    "tags": [
     "remove-cell"
    ]
   },
   "outputs": [],
   "source": [
    "%%html\n",
    "<style>\n",
    "table {display: inline-block}\n",
    "h3 {text-align:left}\n",
    "li {text-align:left}\n",
    "</style>\n"
   ]
  },
  {
   "cell_type": "markdown",
   "id": "482cc7c5",
   "metadata": {
    "slideshow": {
     "slide_type": "slide"
    }
   },
   "source": [
    "# Types, Operators, Variables, Functions and Conditions (if statements)\n",
    "\n",
    "## Python Programming for Engineers\n",
    "### Tel-Aviv University / 0509-1820 / Fall 2025-2026"
   ]
  },
  {
   "cell_type": "markdown",
   "id": "e9e8e37d",
   "metadata": {
    "slideshow": {
     "slide_type": "slide"
    }
   },
   "source": [
    "## Last recitation:\n",
    "\n",
    "- Administration\n",
    "  - Course website\n",
    "  - Moodle\n",
    "  - Exercises\n",
    "  \n",
    "- Install Anaconda and Pycharm\n",
    "- Simple coding with Pycharm\n",
    "  - Individual statement via interactive shell\n",
    "  - Write several commands and run them **sequentially** in a single click"
   ]
  },
  {
   "cell_type": "markdown",
   "id": "ca546c78",
   "metadata": {
    "slideshow": {
     "slide_type": "slide"
    }
   },
   "source": [
    "## Agenda\n",
    "\n",
    "<table style=\"display:block\" align=center>\n",
    "    <theader>\n",
    "        <tr>\n",
    "            <td></td>\n",
    "        </tr>\n",
    "    </theader>\n",
    "    <tbody>\n",
    "        <tr>\n",
    "            <td>\n",
    "                <h3>\n",
    "                    Types\n",
    "                </h3>\n",
    "                <ul>\n",
    "                    <li>\n",
    "                        int, float, bool, str\n",
    "                    </li>\n",
    "                </ul>\n",
    "                <h3>\n",
    "                    Operators\n",
    "                </h3>\n",
    "                <ul>\n",
    "                    <li>\n",
    "                        + - * / ** // % ...?!@#\n",
    "                    </li>\n",
    "                </ul>\n",
    "                <h3>\n",
    "                    Variables\n",
    "                </h3>\n",
    "                <ul>\n",
    "                    <li>\n",
    "                        Assignment\n",
    "                    </li>\n",
    "                </ul>\n",
    "                <h3>\n",
    "                    Boolean statements\n",
    "                </h3>\n",
    "                <h3>\n",
    "                    Functions\n",
    "                </h3>\n",
    "                <h3>\n",
    "                    if-else statements\n",
    "                </h3>\n",
    "                <ul>\n",
    "                    <li>\n",
    "                        if-else\n",
    "                    </li>\n",
    "                    <li>\n",
    "                        elif\n",
    "                    </li>\n",
    "                    <li>\n",
    "                        nested if\n",
    "                    </li>\n",
    "                </ul>\n",
    "            </td>\n",
    "            <td>    \n",
    "    </td>\n",
    "        </tr></tbody>\n",
    "</table>"
   ]
  },
  {
   "cell_type": "markdown",
   "id": "6678ac1e",
   "metadata": {
    "slideshow": {
     "slide_type": "slide"
    }
   },
   "source": [
    "### Types and conversions"
   ]
  },
  {
   "cell_type": "code",
   "execution_count": 1,
   "id": "df457f9e",
   "metadata": {
    "execution": {
     "iopub.execute_input": "2025-03-19T10:50:10.106225Z",
     "iopub.status.busy": "2025-03-19T10:50:10.105822Z",
     "iopub.status.idle": "2025-03-19T10:50:10.110792Z",
     "shell.execute_reply": "2025-03-19T10:50:10.109787Z"
    },
    "slideshow": {
     "slide_type": "subslide"
    }
   },
   "outputs": [
    {
     "name": "stdout",
     "output_type": "stream",
     "text": [
      "<class 'int'>\n"
     ]
    }
   ],
   "source": [
    "c=137\n",
    "print(type(c))"
   ]
  },
  {
   "cell_type": "code",
   "execution_count": null,
   "id": "01179fd4",
   "metadata": {
    "execution": {
     "iopub.execute_input": "2025-03-19T10:50:10.114176Z",
     "iopub.status.busy": "2025-03-19T10:50:10.113874Z",
     "iopub.status.idle": "2025-03-19T10:50:10.118309Z",
     "shell.execute_reply": "2025-03-19T10:50:10.117352Z"
    },
    "slideshow": {
     "slide_type": "fragment"
    }
   },
   "outputs": [],
   "source": [
    "c=float(137)\n",
    "print(c, type(c))"
   ]
  },
  {
   "cell_type": "code",
   "execution_count": null,
   "id": "615a548d",
   "metadata": {
    "execution": {
     "iopub.execute_input": "2025-03-19T10:50:10.121579Z",
     "iopub.status.busy": "2025-03-19T10:50:10.121050Z",
     "iopub.status.idle": "2025-03-19T10:50:10.125495Z",
     "shell.execute_reply": "2025-03-19T10:50:10.124559Z"
    },
    "slideshow": {
     "slide_type": "subslide"
    }
   },
   "outputs": [],
   "source": [
    "c=3.17\n",
    "print(c, type(c))"
   ]
  },
  {
   "cell_type": "code",
   "execution_count": null,
   "id": "93646708",
   "metadata": {
    "execution": {
     "iopub.execute_input": "2025-03-19T10:50:10.128494Z",
     "iopub.status.busy": "2025-03-19T10:50:10.128176Z",
     "iopub.status.idle": "2025-03-19T10:50:10.132614Z",
     "shell.execute_reply": "2025-03-19T10:50:10.131670Z"
    },
    "slideshow": {
     "slide_type": "fragment"
    }
   },
   "outputs": [],
   "source": [
    "c=int(3.17)\n",
    "print(c, type(c))"
   ]
  },
  {
   "cell_type": "code",
   "execution_count": null,
   "id": "5af1c31f",
   "metadata": {
    "execution": {
     "iopub.execute_input": "2025-03-19T10:50:10.136002Z",
     "iopub.status.busy": "2025-03-19T10:50:10.135437Z",
     "iopub.status.idle": "2025-03-19T10:50:10.139864Z",
     "shell.execute_reply": "2025-03-19T10:50:10.138947Z"
    },
    "slideshow": {
     "slide_type": "fragment"
    }
   },
   "outputs": [],
   "source": [
    "c=str(3.17)\n",
    "print(c, type(c))"
   ]
  },
  {
   "cell_type": "code",
   "execution_count": null,
   "id": "429ee589",
   "metadata": {
    "execution": {
     "iopub.execute_input": "2025-03-19T10:50:10.142904Z",
     "iopub.status.busy": "2025-03-19T10:50:10.142602Z",
     "iopub.status.idle": "2025-03-19T10:50:10.146964Z",
     "shell.execute_reply": "2025-03-19T10:50:10.146011Z"
    },
    "slideshow": {
     "slide_type": "subslide"
    }
   },
   "outputs": [],
   "source": [
    "c=\"3.17\"\n",
    "print(c, type(c))"
   ]
  },
  {
   "cell_type": "code",
   "execution_count": null,
   "id": "f76c169e",
   "metadata": {
    "execution": {
     "iopub.execute_input": "2025-03-19T10:50:10.150147Z",
     "iopub.status.busy": "2025-03-19T10:50:10.149627Z",
     "iopub.status.idle": "2025-03-19T10:50:10.154139Z",
     "shell.execute_reply": "2025-03-19T10:50:10.153202Z"
    },
    "slideshow": {
     "slide_type": "fragment"
    }
   },
   "outputs": [],
   "source": [
    "c=float(\"3.17\")\n",
    "print(c, type(c))"
   ]
  },
  {
   "cell_type": "code",
   "execution_count": null,
   "id": "f443ba05",
   "metadata": {
    "execution": {
     "iopub.execute_input": "2025-03-19T10:50:10.157287Z",
     "iopub.status.busy": "2025-03-19T10:50:10.156772Z",
     "iopub.status.idle": "2025-03-19T10:50:11.555440Z",
     "shell.execute_reply": "2025-03-19T10:50:11.554451Z"
    },
    "slideshow": {
     "slide_type": "fragment"
    },
    "tags": [
     "raises-exception"
    ]
   },
   "outputs": [],
   "source": [
    "c=int(\"3.17\")\n",
    "print(c, type(c))"
   ]
  },
  {
   "cell_type": "code",
   "execution_count": null,
   "id": "f0736701",
   "metadata": {
    "execution": {
     "iopub.execute_input": "2025-03-19T10:50:11.559085Z",
     "iopub.status.busy": "2025-03-19T10:50:11.558695Z",
     "iopub.status.idle": "2025-03-19T10:50:11.563303Z",
     "shell.execute_reply": "2025-03-19T10:50:11.562377Z"
    },
    "slideshow": {
     "slide_type": "fragment"
    }
   },
   "outputs": [],
   "source": [
    "c=int(float(\"3.17\"))\n",
    "print(c, type(c))"
   ]
  },
  {
   "cell_type": "markdown",
   "id": "e2b6873b",
   "metadata": {
    "slideshow": {
     "slide_type": "fragment"
    }
   },
   "source": [
    "#### <span style='color:red'>Always: order of actions inner parentheses $\\rightarrow$ outer parantheses</span> "
   ]
  },
  {
   "cell_type": "code",
   "execution_count": null,
   "id": "2612e80c",
   "metadata": {
    "execution": {
     "iopub.execute_input": "2025-03-19T10:50:11.566680Z",
     "iopub.status.busy": "2025-03-19T10:50:11.566157Z",
     "iopub.status.idle": "2025-03-19T10:50:11.570712Z",
     "shell.execute_reply": "2025-03-19T10:50:11.569710Z"
    },
    "slideshow": {
     "slide_type": "subslide"
    }
   },
   "outputs": [],
   "source": [
    "c=False\n",
    "print(type(c))"
   ]
  },
  {
   "cell_type": "code",
   "execution_count": null,
   "id": "960c31f8",
   "metadata": {
    "execution": {
     "iopub.execute_input": "2025-03-19T10:50:11.573996Z",
     "iopub.status.busy": "2025-03-19T10:50:11.573474Z",
     "iopub.status.idle": "2025-03-19T10:50:11.577757Z",
     "shell.execute_reply": "2025-03-19T10:50:11.576879Z"
    },
    "slideshow": {
     "slide_type": "fragment"
    }
   },
   "outputs": [],
   "source": [
    "c=bool(3.17)\n",
    "print(c, type(c))"
   ]
  },
  {
   "cell_type": "code",
   "execution_count": null,
   "id": "55f37f53",
   "metadata": {
    "execution": {
     "iopub.execute_input": "2025-03-19T10:50:11.580799Z",
     "iopub.status.busy": "2025-03-19T10:50:11.580442Z",
     "iopub.status.idle": "2025-03-19T10:50:11.584641Z",
     "shell.execute_reply": "2025-03-19T10:50:11.583662Z"
    },
    "slideshow": {
     "slide_type": "fragment"
    }
   },
   "outputs": [],
   "source": [
    "c=bool(1)\n",
    "print(c, type(c))"
   ]
  },
  {
   "cell_type": "code",
   "execution_count": null,
   "id": "6736da8a",
   "metadata": {
    "execution": {
     "iopub.execute_input": "2025-03-19T10:50:11.587679Z",
     "iopub.status.busy": "2025-03-19T10:50:11.587323Z",
     "iopub.status.idle": "2025-03-19T10:50:11.591570Z",
     "shell.execute_reply": "2025-03-19T10:50:11.590571Z"
    },
    "slideshow": {
     "slide_type": "fragment"
    }
   },
   "outputs": [],
   "source": [
    "c=bool(0)\n",
    "print(c, type(c))"
   ]
  },
  {
   "cell_type": "markdown",
   "id": "04f8fca3",
   "metadata": {
    "slideshow": {
     "slide_type": "subslide"
    }
   },
   "source": [
    "### Basic operators"
   ]
  },
  {
   "cell_type": "code",
   "execution_count": null,
   "id": "c9f5343a",
   "metadata": {
    "execution": {
     "iopub.execute_input": "2025-03-19T10:50:11.594747Z",
     "iopub.status.busy": "2025-03-19T10:50:11.594394Z",
     "iopub.status.idle": "2025-03-19T10:50:11.598569Z",
     "shell.execute_reply": "2025-03-19T10:50:11.597570Z"
    },
    "slideshow": {
     "slide_type": "fragment"
    }
   },
   "outputs": [],
   "source": [
    "print(13+7)"
   ]
  },
  {
   "cell_type": "code",
   "execution_count": null,
   "id": "cfc947df",
   "metadata": {
    "execution": {
     "iopub.execute_input": "2025-03-19T10:50:11.601713Z",
     "iopub.status.busy": "2025-03-19T10:50:11.601201Z",
     "iopub.status.idle": "2025-03-19T10:50:11.605480Z",
     "shell.execute_reply": "2025-03-19T10:50:11.604520Z"
    },
    "slideshow": {
     "slide_type": "fragment"
    }
   },
   "outputs": [],
   "source": [
    "print(13-7)"
   ]
  },
  {
   "cell_type": "code",
   "execution_count": null,
   "id": "f5d1bc4d",
   "metadata": {
    "execution": {
     "iopub.execute_input": "2025-03-19T10:50:11.608840Z",
     "iopub.status.busy": "2025-03-19T10:50:11.608195Z",
     "iopub.status.idle": "2025-03-19T10:50:11.612509Z",
     "shell.execute_reply": "2025-03-19T10:50:11.611534Z"
    },
    "slideshow": {
     "slide_type": "fragment"
    }
   },
   "outputs": [],
   "source": [
    "# multipication\n",
    "print(13*7)"
   ]
  },
  {
   "cell_type": "code",
   "execution_count": null,
   "id": "7a77848f",
   "metadata": {
    "execution": {
     "iopub.execute_input": "2025-03-19T10:50:11.615476Z",
     "iopub.status.busy": "2025-03-19T10:50:11.615123Z",
     "iopub.status.idle": "2025-03-19T10:50:11.619120Z",
     "shell.execute_reply": "2025-03-19T10:50:11.618179Z"
    },
    "slideshow": {
     "slide_type": "fragment"
    }
   },
   "outputs": [],
   "source": [
    "# Division\n",
    "print(13/7)"
   ]
  },
  {
   "cell_type": "markdown",
   "id": "1c70e0bd",
   "metadata": {
    "slideshow": {
     "slide_type": "subslide"
    }
   },
   "source": [
    "### Some fancy operators "
   ]
  },
  {
   "cell_type": "code",
   "execution_count": null,
   "id": "35159560",
   "metadata": {
    "execution": {
     "iopub.execute_input": "2025-03-19T10:50:11.622376Z",
     "iopub.status.busy": "2025-03-19T10:50:11.621847Z",
     "iopub.status.idle": "2025-03-19T10:50:11.627942Z",
     "shell.execute_reply": "2025-03-19T10:50:11.627094Z"
    },
    "slideshow": {
     "slide_type": "fragment"
    }
   },
   "outputs": [],
   "source": [
    "# Integer division\n",
    "13//7"
   ]
  },
  {
   "cell_type": "code",
   "execution_count": null,
   "id": "e6991b0b",
   "metadata": {
    "execution": {
     "iopub.execute_input": "2025-03-19T10:50:11.630979Z",
     "iopub.status.busy": "2025-03-19T10:50:11.630533Z",
     "iopub.status.idle": "2025-03-19T10:50:11.635932Z",
     "shell.execute_reply": "2025-03-19T10:50:11.635103Z"
    },
    "slideshow": {
     "slide_type": "fragment"
    }
   },
   "outputs": [],
   "source": [
    "# modulo\n",
    "13%7"
   ]
  },
  {
   "cell_type": "code",
   "execution_count": null,
   "id": "07985f48",
   "metadata": {
    "execution": {
     "iopub.execute_input": "2025-03-19T10:50:11.639097Z",
     "iopub.status.busy": "2025-03-19T10:50:11.638645Z",
     "iopub.status.idle": "2025-03-19T10:50:11.643982Z",
     "shell.execute_reply": "2025-03-19T10:50:11.643210Z"
    },
    "slideshow": {
     "slide_type": "fragment"
    }
   },
   "outputs": [],
   "source": [
    "# power\n",
    "13**7"
   ]
  },
  {
   "cell_type": "markdown",
   "id": "bc2af2d3",
   "metadata": {
    "slideshow": {
     "slide_type": "notes"
    }
   },
   "source": [
    "Slide 13-14"
   ]
  },
  {
   "cell_type": "markdown",
   "id": "aa8262f3",
   "metadata": {
    "slideshow": {
     "slide_type": "slide"
    }
   },
   "source": [
    "## Variables and assignments"
   ]
  },
  {
   "cell_type": "markdown",
   "id": "d1470769",
   "metadata": {
    "slideshow": {
     "slide_type": "fragment"
    }
   },
   "source": [
    "<img src=\"data:image/png;base64,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\" alt=\"alt_text\" align=\"left\"\n",
    "\twidth=\"400\" height=\"250\" />      "
   ]
  },
  {
   "cell_type": "markdown",
   "id": "f02b06dc",
   "metadata": {
    "slideshow": {
     "slide_type": "fragment"
    }
   },
   "source": [
    "- First evaluate the expression\n",
    "- Then assigns the value to the variable\n",
    "\n",
    "A variable name is a sequence of letters, digits and underscores (‘_’), starting with a letter"
   ]
  },
  {
   "cell_type": "markdown",
   "id": "92c65839",
   "metadata": {
    "slideshow": {
     "slide_type": "subslide"
    }
   },
   "source": [
    "#### Examples"
   ]
  },
  {
   "cell_type": "code",
   "execution_count": null,
   "id": "48ad6466",
   "metadata": {
    "execution": {
     "iopub.execute_input": "2025-03-19T10:50:11.647538Z",
     "iopub.status.busy": "2025-03-19T10:50:11.647074Z",
     "iopub.status.idle": "2025-03-19T10:50:11.652141Z",
     "shell.execute_reply": "2025-03-19T10:50:11.651335Z"
    },
    "slideshow": {
     "slide_type": "fragment"
    }
   },
   "outputs": [],
   "source": [
    "n=3*7\n",
    "m=n*3+7\n",
    "print(m)"
   ]
  },
  {
   "cell_type": "code",
   "execution_count": null,
   "id": "8ea45072",
   "metadata": {
    "execution": {
     "iopub.execute_input": "2025-03-19T10:50:11.655223Z",
     "iopub.status.busy": "2025-03-19T10:50:11.654768Z",
     "iopub.status.idle": "2025-03-19T10:50:11.659464Z",
     "shell.execute_reply": "2025-03-19T10:50:11.658742Z"
    },
    "slideshow": {
     "slide_type": "fragment"
    }
   },
   "outputs": [],
   "source": [
    "n=1\n",
    "print(n)\n",
    "n=n+2\n",
    "print(n)\n",
    "n=n+4\n",
    "print(n)"
   ]
  },
  {
   "cell_type": "markdown",
   "id": "2e6b5f87",
   "metadata": {
    "slideshow": {
     "slide_type": "subslide"
    }
   },
   "source": [
    "## Functions"
   ]
  },
  {
   "cell_type": "markdown",
   "id": "14391e42",
   "metadata": {
    "slideshow": {
     "slide_type": "fragment"
    }
   },
   "source": [
    "#### Definition: functions are \"self-contained\" modules of code that accomplish a specific task"
   ]
  },
  {
   "cell_type": "markdown",
   "id": "c4db2c50",
   "metadata": {
    "slideshow": {
     "slide_type": "fragment"
    }
   },
   "source": [
    "### Define a new function\n",
    "\n",
    "#### Function syntax\n",
    "\n",
    "```python \n",
    "def name(param1, param2, ...):  \n",
    "    ''' documentation''' #Optional documentation   \n",
    "    # your code here...\n",
    "    return ...\n",
    "```\n"
   ]
  },
  {
   "cell_type": "markdown",
   "id": "170e8c48",
   "metadata": {
    "slideshow": {
     "slide_type": "fragment"
    }
   },
   "source": [
    "### Example: Sum of two numbers"
   ]
  },
  {
   "cell_type": "code",
   "execution_count": null,
   "id": "d808f6e7",
   "metadata": {
    "execution": {
     "iopub.execute_input": "2025-03-19T10:50:11.662815Z",
     "iopub.status.busy": "2025-03-19T10:50:11.662360Z",
     "iopub.status.idle": "2025-03-19T10:50:11.667783Z",
     "shell.execute_reply": "2025-03-19T10:50:11.666941Z"
    },
    "slideshow": {
     "slide_type": "fragment"
    }
   },
   "outputs": [],
   "source": [
    "a=3\n",
    "b=2\n",
    "\n",
    "a+b"
   ]
  },
  {
   "cell_type": "markdown",
   "id": "f6078df6",
   "metadata": {
    "slideshow": {
     "slide_type": "subslide"
    }
   },
   "source": [
    "#### Now inside a function"
   ]
  },
  {
   "cell_type": "code",
   "execution_count": null,
   "id": "46852b0b",
   "metadata": {
    "execution": {
     "iopub.execute_input": "2025-03-19T10:50:11.671004Z",
     "iopub.status.busy": "2025-03-19T10:50:11.670542Z",
     "iopub.status.idle": "2025-03-19T10:50:11.674695Z",
     "shell.execute_reply": "2025-03-19T10:50:11.673955Z"
    },
    "slideshow": {
     "slide_type": "fragment"
    }
   },
   "outputs": [],
   "source": [
    "def num_sum(a, b):\n",
    "    '''Return the sum of a and b'''\n",
    "    return a+b"
   ]
  },
  {
   "cell_type": "code",
   "execution_count": null,
   "id": "317c17c0",
   "metadata": {
    "execution": {
     "iopub.execute_input": "2025-03-19T10:50:11.677801Z",
     "iopub.status.busy": "2025-03-19T10:50:11.677335Z",
     "iopub.status.idle": "2025-03-19T10:50:11.682068Z",
     "shell.execute_reply": "2025-03-19T10:50:11.681163Z"
    },
    "slideshow": {
     "slide_type": "fragment"
    }
   },
   "outputs": [],
   "source": [
    "a=2\n",
    "b=3\n",
    "print(num_sum(a, b))"
   ]
  },
  {
   "cell_type": "code",
   "execution_count": null,
   "id": "bd391967",
   "metadata": {
    "execution": {
     "iopub.execute_input": "2025-03-19T10:50:11.685321Z",
     "iopub.status.busy": "2025-03-19T10:50:11.684738Z",
     "iopub.status.idle": "2025-03-19T10:50:11.689505Z",
     "shell.execute_reply": "2025-03-19T10:50:11.688655Z"
    },
    "slideshow": {
     "slide_type": "fragment"
    }
   },
   "outputs": [],
   "source": [
    "print(num_sum(37, 100))"
   ]
  },
  {
   "cell_type": "markdown",
   "id": "181d4938",
   "metadata": {
    "slideshow": {
     "slide_type": "slide"
    }
   },
   "source": [
    "### Exercise 1"
   ]
  },
  {
   "cell_type": "markdown",
   "id": "cfaf7f67",
   "metadata": {
    "slideshow": {
     "slide_type": "subslide"
    }
   },
   "source": [
    "#### Write code that receives the length of the two legs of a right triangle, a and b.\n",
    "\n",
    "- Calculate the length of the hypotenuse, *c*\n",
    "- Calculate the triangle’s area\n",
    "- Calculate the triangle’s circumference\n",
    "- Print all three values\n",
    "\n",
    "<img src='data:image/png;base64,iVBORw0KGgoAAAANSUhEUgAAANoAAACnCAYAAAB3oULEAAAgAElEQVR4Ae3dCdxtU/kHcITKUKIMGZPUJSpTpasURVyFMg+XSOQ2iGtOhSYNXCGRqQzdVGRoUElXbqVCibo0IEqD5nla/893/e1r33Pf97znnPecvc/wrM9nf85537OHtZ+1fms987NIihYUCAr0nAKL9PwJ8YCgQFAgBdBiEgQFKqBAAK0CIscjggIBtJgDQYEKKBBAq4DI8YigQAAt5kBQoAIKBNAqIHI8IigQQIs5EBSogAIBtAqIHI8ICgTQYg4EBSqgQACtAiLHI4ICtQDtRz/6Ubr33nuD+kGBkaFALUA76KCD0syZM9Nf/vKX9N///ndkiB0vOroUqAVo22yzTVp00UXTtGnT0je+8Y30v//9b3RHIN58JChQC9Be8pKXpEUWWSQfQPeRj3wk3XfffSNB8HjJ0aRALUDbeuutM8iWXXbZ/PmMZzwjvetd78py27/+9a/RHIl466GmQC1Ae+ELX5ie+MQnple/+tXp6U9/elp88cXT4x//+LTzzjun7373u+mf//znUBM9Xm70KFAL0KZOnZpWWWWVdPLJJ6cbb7wxHXLIIRl45LZnPetZadasWekXv/jF/NEIGW4+KeLLgFKgVqCdfvrpmWx33nlneutb35qmTJmSWcm11lorHXPMMXl3G1C6RreDAgtQoDagrbzyyunUU09N//jHP3KHHnrooXTWWWelDTfcMIPtcY97XNp///3TzTffnP7+978v0OlB/4NZ45e//GX6+c9/nnduiiA7+B//+McJX405BGuNJq0e5N7gCiYkbU9PqBVoH/zgBxcAEdDdfvvt6eCDD04rrLBCNgGsu+66WSv5t7/9raeEqOrmQHLttdfmHRvLfOSRR6Y999wzHXjggenSSy9t2g0g+8Mf/pC+853vpOuvvz597Wtfm/Bw3t13370AnZs+JH7sCQX6Cmje8D//+U/68Y9/nM4444y06aab5t2NPHfooYemW2+9dT4RBnGFNuFpVy0kn/nMZ9LPfvazdMstt6Rjjz02PeUpT0m77LLL/Pcb64sdbO7cuYnWdvnll0+rr776hIcFy/09K1p9FOg7oBWkwEpefPHF6eUvf3l69KMfnR772MemfffdN+8Gf/7zn4vTBubzgQceSO973/sySLDIv/3tb+f3/Zvf/GY6/vjj02mnnTb/f2N9sRvecccd6aijjkqvetWr0l577dX0sFPS7J5//vmZVR3rnvG/aijQt0ArXp9Wcr/99svqf0Zuxu5PfOIT6a9//etAuW+9//3vT7StAGLX1gZxVy7GJT7bo0DfA81kpCz48Ic/nMhriy22WHrSk56UZZr777+/vbet4Wz9p/jABq+33nrpkksuSWGUr2Egan5k3wOtoM+DDz6YrrjiivTKV74yLb300mnJJZdMO+64Y/rsZz+b+pmV/NOf/pRmz56d7YTbbrttBl2njtRAS2GEDf3JT36S5S6yV7Pjpz/9acKG//vf/y5IGZ81UGBggFbQ5itf+Uri/U9BUrCS5557blaVF+f00+evf/3rdMIJJ6THPOYx6TWvec2kumYnvOuuu9JJJ52U7/X6178+NTtoNQ844IB02WWXJf2IVh8FBg5oSHXPPfek97znPWnttdeeb+B++9vfnn71q1/VR8lxnvyb3/wmveMd75ivzCmfZoei4CBvtrLjMHFQ6W+yySb5ve3szY6llloqn/emN70pa3LLz47v1VJgIIGGRLR2X/ziFxPvf7uFCUdR8qUvfalaCk7wNCD63Oc+l5785Cen5zznORkoxSXYSv2lKPne975X/Hvcz4J1xEaTWxm8Jzqc9/vf/74lII/74Phh0hQYWKB5cyv8nDlzkhV7jTXWyKv3c5/73KxG/+EPfzhp4nTjBsBhUZgxY0Z2MXv+85+f7Vrvfe97s2fMhRdemL7+9a+n3/3ud914XNyjTykw0EAraMoQzEF5/fXXz2Czexx++OHp29/+dgZjcV6dnwzN/De322677ET9lre8Je9kPDeKBpTRhpMCQwE0Q0Mbd/nll6ctt9wyg+1Rj3pU1lB+/vOfz7/FJB7OCTwobzU0QENw8hA/QLsZFyVgs8udeOKJ4RkxKDNySPs5VEAzRnYurKT0CAJMuW+ttNJK2VfyhhtumB8tMKTjGa/VpxQYOqCV6czAvcMOO2TVOo+S3XbbLRu4aeGiBQWqpMBQAw0hBZVywl1mmWWy7CaCW3gOsIXcVuVUG+1nDT3QuDuxNXFEJq9Jl8CrZPr06TmoNMA22gCo6u2HHmgFISlKPvWpT6Xdd989OyUvscQS2ZOeexIDcLSgQC8pMDJAK4gogpuBe8UVV8ysJHcmQaYcdTt19i3uPQifDON2eM7GzZyRR/k3DttSSzAZdYvjGTmgAQP/w4suuiinuuOYLAqZA+4PfvCDQcBKx30UB3feeeel173udVkxJDA0joVpsNNOOyW+s2pEtOKD2sqAjCTQEEboiEiAXXfdNWEjKUuEsYgXkzynaN1a0Yr71flp0nAFe8Mb3pABd/bZZ6c4FqaB7GzCrzipd4vLGVmgFRNeGoHDDjssPe1pT8tBpVjJD3zgAzk/SbeIXDyr7k87mnQQ3k/YTCfsocgJAbeut1jhDgS2cl7u5H51XYN9Lt6BLyo53f/0B+vonURWdGuhHXmgmfyck61iG2ywQZbblltuucxeAWG3WIe6Qeb5Jo4kRwJRJ9PQC9jIeSanzFyD1shfwOQdlBCzaBQpJnrxLgG0h6lqEmIlZaIitzFwv+AFL0gf+9jHekH3Wu5pMpE9hO102tgfJU0S8iPKXfYuHIGkQYOUooEzA79Y70BGl0P0pptu6hnYAmilGSedm9z/AjWLvJJqA8i9iGUa5Ma8IZpBlEM5YqCdd8JKm6CnnHJKduAm30kngUbMJnaHfmrjsX2cz88555z0yU9+Mn30ox/NfVdo5WUve1lmG3vxDgG0MaiKpRAvtvnmm2dFiVR3TAJf/vKXB5JN8opkkI9//OPZlCGXZLsNyJhAPv3pT+eUf8X1Juvznve8vDPIKl1XIyvK+ylag3OC3KDjNYmeLBhFU6PvpS99aeZiBOJacLvdAmhNKGrQrNiiALCTWA2DaCDGWy2b3K7Wnwj4co2YYADTbiOrfv/7388yWVluJd+om4BGZNq6mr55P8osMvYFF1wwbldwLehRblJjiNSX2LaV1Ozla1v5HkBrQiVgMiAUJWoBAJs8JVjJQUt2M2/evBzZLU+mFAqdNABrVBiIlDBJ7Wp12yHJ2CI2HNKuj9fIko3vgYMR5cF21osWQGuBqrwE7GQvfvGLM4uktts+++yTZZ3yzlb+3sJtKz3FKi5rMaVFN5u8LaLFOWq368rWbXpdd911WTnD+aAd9ljaC5nKRHf0KrIjgNbGrMNKGgxBpXa37bffPgvUVNx1N65VQES+pLpubOQn/WUn6lbDYlEqHHfccTkNXidaR7urFHruNVm7pdTn2D8p11sFvV1a3hY1EeyCZba4W3RynwBam9Q0UY844ojsmAxsyk/R5HUi97T56DFPxwLxZKGyf/Ob35wzOo8FpqJKD8NyNxpzyDXXXJOf14xNm+hZdh6eKhQSNKOdNl4ccrII9JWwqZVW5MmkRaXk6WULoHVAXYNKqSCjFbARvqm3Wx3gDh455iVFdZmjjz461yeQWFZ9uS984QsLnW+383s3gOa5lA/c1eyUk9kF0JH8S3nBztdp886yWJOhWzXF4ER4yWCrJ/MOrfQ5gNYKlR4+pyxT2EWo+01e9bclK91qq62yXabsKVG+po1HtXSqyUHrR07SFzuMHZa8Qd1dNGyZHY+fYyObW+6f3QWAaA8BAJAoCchfFA2eh72zY1pUGkFLpY51baeRfS1WVO7lPrdzD+eeeeaZ2Q7GxYw9Dz1mzpyZZWkyJNqUxwUYnSMwuNy8/2QAX75X+XsArUyNDr4bMAP51Kc+NU8YnhIG3Q6CvaqyYb3IYdI3AEnRTB5p07FIY2lLTcBvfetb2QgtEzJbkomPRZYv85nPfGaOdiBPybvytre9LWteOd4yfl911VVZWWQyj8W2Fv0Y65PxGND0bzK5LXmn0Hxi49n2JGRS8osx3Y6JJvqpSVbrHXiDAJuD/O13Mmej6n+sfrf7vwBauxQb43y7gmRAG2+8cZ40Jo6VlUtPlY0Poolrwnl+0YCDF8dXv/rVBSITit8Fv6q1ZidzD80iYfJxtmY/BFA7jsqk3o+Lmmh1R/G3XbBRbV48wyc6lQ//43fpevQrdrTyOb5P1PQVqFQZIqepNyDIF9dhdxKhgetQMktTrwC777nld6DkkjW6F/J2AG2iUWzxd6s9GxWnXQPIgKtUk+KDk9WmtdiFfBoBn7woY3PhanX11VfnCcRG1KgZBDIVSFUFLdvXyGFi9pSaErOmFWyjlH7kGi5dDnKazzJrNlafsZp2E/Y2B8dkbCl62WFkbNZHv1HeULszrTRr3scC4X35LVpgeIgUmld9Jodhqcmvmns6x3sU72BH9z/ydyONmj2/1d8CaK1SqsXzTBC+kuuss06eQGuuuWairDAxqwIctk/5XayR1Z76GhvYGGdHXlOvgH3NhCs3pbDkx2Q7ZJDuRuPQTIGkXoJj2rRpSbIkQANozxIT6DfyLlMKNrwZ3ezAFgQsrlLDHJ7Lu6odEdCe/exnZ/axG+/RyT0CaJ1QrYVrpEcwqQr3LSWbKBR6ZRAtd4m3BkWAyVd4bjDilpvdhxxnpadeb2zkFNELdsfJqO/L98WySSGhoKSDI29RfotXBjm3+I32EP24VTUDGkWPBcF7YA3txOXm77333juzvwBXVwug9ZDyWCGrciHHUCrMmjWrEiUJwX6ttdbKqzkgqZFdbgCob3aOxlAgSgn/w4pZIOzS3Wh2F6ApDvcsZDQyZKGoKX73OZGMhtXbaKONslzKE7/cXIsVVYuBZz5bXV0tgNZDymPbqI9NgClTpmQWCXtjZed72MtGvgGwF73oRTkKgRau3MhVFAKveMUrFip1RWmC9cTSkaHILN1MVFPuBwWK5/Dq6KRyK5nPe9i1Gt2uLCbyf5CVKVsAt64WQOsR5csrsQkkRIXqXW6SZZddNk8M6vCyAqJ8zWS7hWVi68KK2UlPO+20BW5JI2qCCwWi3tbYwOzCFDh2AD6d5B+7BsWBhaPbjSpeP6jVpRRop9l59c/1jXIkmx4b4GabbZblvF5oEtvpawCtHWpN8lyaLYlbTWCTg4DOYGsSdBNkRTcBg3IBwGkXy+22227LIGT3s9vZYbkhUW8Le6E9BVByDW0qVX+j/FO+X6ffy6xju0Bjw+SjqAglBZAdi48jIz4ZGdvLrlbslL2gcavvHUBrlVJdOo+tyI5BGwls7DtYvF6EZwAalkyYD3aw3PTD/ykk9IMNSXArltO54vBMYOpyu1yv2mQ8Qyh0eMXQmrKdkUNpeGlYAc8u3GvXqlbpEkBrlVJdPA+LduWVV+YJUoCNn56gw242KzhAUWY0yoQmoH7YrexkvDycRxajyWOOMInZlibjsTHR++gD9zC7ULusKTW+vuk3Wc2ngycMm10vduCJ3me833sKtPG26qlTp2Z1LEG7n4gxHpF69X9y0mtf+9pMC7klqbPZvBp9CCf7fDSeyJg82Wd0cv1486OTe/X7NR0DDT9s9cP/MhpaBbm74LMdhSvPWAQIoD1CFXY1MlHBwslPQrDHSpYNr49cEd8GkQIdA40miosPZ1Asj8mx33775XRtDIfNjJwBtEemilWd+pyam+ICK+ngu+d/0YaDAm0DzU7GXkEbxT2GrYL2h7c6DVDhKV342Y1FpgDawlSh5qeOV8sNDRm5+e+hM5/AaINNgbaBZtAZXMU2NSbivPTSS/NqzKcN+MZrAbTxKJOyqp+DLdU6uW211VbLqQI4zk4mAnn8J8YvVVCgLaARqBkYhSNQG5cb7RabxeKLLz5mhG/53ABamRpjf0dnTrboiZXkgCuKuJnsO/ad4r/9QIG2gGagufQIm2j09mZ74YDKPoSNbNYCaM2o8/+/YdEZldnY5MEANgoTNjiKp2iDRYGWgUZo59LyhCc8IbvLUIaUG/lMNCvfuYlkigBamXLNv4vNYgbhRQJsPDmw7iKhow0OBVoGml3KTiY3RqPzppCK7bbbLoNQvorCC3s8MgTQxqPMI/8v25gYcoW0iB2jKBF6Y0HjFjURrR+5Y3yrkwItA42iQwURfnrksaKxo/GP45WObRReIW9EsyjVAFpBvfY+5T/kJiX2qtjdOOPyrojW3xRoGWhyMFA38z4v2BZGVQoQDpzrr79+DhXnuiOBJS3ZeC2ANh5lmv/fLmcHY7sUlAlsfBSlIuDXF61/KdAy0KTwku2J54JBlqxT6IVYK1mTFBfA1tBG8pFrFpYQQJvchOB5w0lAQh2ZeYGNEzD2svBUn9wT4upuU6BloHmwnYyndJHfgTFV3gnJToBQcQG7W2HvKcsZ5Y4H0MrU6Pw7raTC79h2Bm4Zq/hKYt3DfatzuvbiyraA1q0OBNC6RcmUdzAeOqKIsZJ2uDe+8Y3Zm717T4k7TZYCAbTJUrAPrue+hV0XO8abxKGwnlivaP1BgQBaf4zDpHtByzt37tzMwmMlgU0i1VNPPbVp9ctJPzhu0BIFAmgtkam/TyrLwrSSvEcYuNnbKKhEHDN8F7Jzf7/NcPYugDaE42p34xK3yy67zHffKqpgjnKgbZ1DHUCrk/o9fLagXOH9igTK70hRQlssyNTuFq1aCgTQqqV35U+Tdo0ZRpoEYJNMlIFb1uRyivDKOzZiDwygjcCA293EDsppT2YTDSAKQzbjRufwESBHLa8YQKuF7NU/lNzGkP3Od74z53O0uwkqVZBDlHy03lIggNZb+vbd3XnxyJosJwmwcRJnfxMJEK13FAig9Y62fXtnUdqCeAXqCnvivyoxUJE1uW87PsAdC6AN8OBNtuvkMxHcFCRsboJKGbg5kIev5GSpu+D1AbQF6TFSfxW5OWUpLlLd2eHsdLSS0bpHgQBa92g5sHfCSqooI2uySjd2N9Hc5513XmgluzSqAbQuEXJQb1N232LIVj2zKMCh7C13LoUv+qVYxKDSOYA2qCPXo37LTyIdhbySdjbVbmSglicm3Lc6J3oArXPaDe2VDNwqsvAgkfWMGUAaiwsuuKCSGtzDSNgA2jCOapfeCdhknZYPBtg22GCDdMwxxyQFFaO1R4EAWnv0Gomzy3KbsBv1n+WEATYuXHKVKE4YiVxbnw4BtNZpNbJnsqmJBJC7k/of4CTLVcCwH+uu9eNABdD6cVT6sE+0jhIxiQTAQgKbGgyyJgcrOfGABdCa0IgGzkquHrIoZSnRGXKldCuzV01uMXQ/SdYq05ZSwMDGfYuBWyRARHCPP9xDAzQT/8EHH8x5/+X+t/pKVU7GaKyNzCNC7WO/czdyrjJTKpaWz5XOjTJg4403zindFJk48MADcx5LmrlRa+XFhbpf6kEGbhVvxLvNnj07UpSPMymGBmhK1AIFgyvNmB1IKL/iG421Avj4EfCtygT7I488Mh100EF555J9uWjuI5uU0BLeE0opqWbqKKdFL84fpc/CfUsS3XXWWSfvbkwBRx999IRFTkaJTsW7DgXQ5s2blz70oQ/NL4547733Zm+Gm2++Oe22225p1113zZmgrMhSswkTYRfCAt1+++35N14RkpFKcV4EQwqOVEyivHtxul1uueWSZ0RLWRmCbdx+++0z2GTfojSRQr7MHYw6rYYCaFgWRfsI6tjHcpO6XHJROxjA3Hrrremwww7LWZWF+ZebOtzTp09PZ599dv634n/itu677778t11NoOQqq6yS2c3ytaP83e4m7IavZGHglgwIzQvajTJ9vPtQAO2UU07Ju8zVV1+dd6zyoKqCY1faYYcd8urrb6wflrKR/bOrkcFMEqBUl8x12FH+fnbNnXfeOU8o8ly0tIBSSFCphWjVVVfNu5uwG2WCyb+jvrsNBdCABsty8cUXZyVHGQBCQLCADK0UI+9+97vzDnf55ZcvBErXqSFAbY0dpSwhgyhX5f6cbaXbVjGnWVmq8vNH7Tu6MGZbrJZccsl8kHNViB3lGLehABqZi0CO1cMaltuVV16ZgQUogGZ3stIKC8EKNjbp2JZeeun8O88HqzSV/mWXXZauueaaXDaYc21ZA9d4j1H/m81NGalDDz00rbjiinl3o7nF2stbMoptKIB255135nyFsvPOmDEje5/L+mQVpdyQz1BuDCr9Qw45JBfymzNnzpje6Fgf3g/KIkUJpMlBgq8k1lEkAJubBe7YY4/Ni+GoLVRDATTTgS1MNcwpU6bk8kXksOOPPz7vcmussUbabLPNMqsodN/f119//Zg7molhR7v22msDaJPDWb4a10ArKbYN2LDw7G8WwVEycA8N0Gi+sHrYQwe7mh2JnYyWkK2MQG6HU0jR4I+1YzlPDBYWdJRlii5gbP4tKJaYQ7hrrbDCChlwxoQSqzClzD95SL8MDdDGGp8bbrghr6RYykJ2E1PFtjZr1qzsCVK+jir6gAMOyHkPVdWM1l0KUC6R04xH4SvJJHDdddd190F9eLehBRofReyj8A5yV9EYsSk89txzz6x2Lv7vkyZyp512ytdF6H6ZMt37jtNQjnmrrbZKiy22WI7iZkJhmhnmSIBagcbLopvh8Vg9QjblSGFYZoQuDyD18xVXXJF982688caspnedfsycOTN7kXAiDvV998A11p0oSri9qb9tdxN2c+6552a5jRgwbK02oOHRsW/d2jkAg4DN64MLEKUHIFlBGxtDNfsavzwyGaXJ/vvvn/bZZ59ccH3UjauN9OrF38bdOChwT1Fld1tmmWXSHnvskdMoFM8cFu1kLUDbYostsrqdEzDvecqLBx54oKWDZz41fRmggEHYpik0cDLuUt83GyS7HBlOKmwygiBGtjV2s2jVUYACC9tIbhYFYHfDSl500UULee5U16vuP6kWoG255ZaZqHYe8tJJJ52UWT3sXrPjxBNPzHYZu1FZWaH8EEHbjlZ2AO6UXM0A2uk947rmFLjpppuyU3dh4N5oo43S6aefPjSRALUAjUuOlcux6KKLtnwU1/DG55cYgGg+eQftV7tb4eVjrJkCaCUFmw76WNcCNFlwEZJGkC3lzDPPzD6F/ArHOjjzOo/wLNegOLIA2qDBqLX+ApvdTSwh4zZ2UtF7njpjucy1dtf6z6oFaEJaAG3HHXfMvm+Iy3A53kEm4yNH9rLK8ca/4447Bn6Vq3/4+7cH8pDQAhdlgbGSNMi0lYPYagWaVatVmYrCg7JipZVWysJyAG0Qp1t7feZAgJORQsLCzF+VNtnYl5Vh7d21nrNrBRqD8lhuUGORgsJDcCFhmVYqgDYWlYbvfxZikQAUZ8QGoTdCcGiMB6kF0AZptEa0r7gZTggnnHDCfFZy3XXXzZEA5Rwv/awwCaCN6OQdxNdmK+XkQDmClZSBi4JMvGC/OxkE0AZxxo1wn+1afFILzTXAESU4KxAv+nVXC6CN8KQd1Ffnm0oLLXZQSBOwKQ/Mna7syNBP7xdA66fRiL60RQFaSXliOEBQkvCVpMmmne43VjKA1tbQxsn9RgFqfmzj3nvvPT+oVI5JHiaNqQfr7HutQBPS3mo4O68Azr+Fep8WKlpQoKAA7aMojNVXXz2zkgpxCMPi7NAPkfK1AI1TMb6ax3arsUeEXLYTBmsuWI3JTwuCx+foUkAWarZWihJspIzS7G/scHW3WoBWaIxkRVIfWWYqzqPjHVJ1ixeTNRgvLgGPRDxy4svp6DOO0aaBSj9ctI466qhkIZdgyWJeGLjPOuusWiMBagUaQnRycDZlsNxwww1zThCfcQQN5CLhE1lU/wE2B48SSXRFztNW1uG+VQvQ9t133yy4rr322jnXn52tlcP5nEwRc9ttt80sJMdkrGQcQYNiDpgTcr9I314c5osIesU3xoq67zVrWQvQRFSz8svF2MkhGptGaTxv//j/+JEQo0SbIvWgT/PFJ6N2q3qBboKvFqB18wXiXkGBQaBAAG0QRin6OPAUCKAN/BDGCwwCBQJogzBK0ceBp0AAbeCHMF5gECgQQBuEUYo+DjwFAmgDP4TxAoNAgQDaIIxS9HHgKRBAq3AI1QeQclwUgjAOpXoZ7vvBu7xCMozkowJoFQ67YER12jhRcyXjMnTLLbdE5ZoKx6CuRwXQKqa8+Ci1BjhG88eLNhoUCKBVPM4PPfRQDvGRFPSII46o+OnxuLooEECrmPKcW8XjqaMtbCPaaFAggFbxON911105tbWwDbXZoo0GBQJoFY6z8r2K7i2xxBJpxowZOQixwsfHo2qkQACtQuLfc8896eSTT87h9SpaivaVisHuts022+QU190qpljha8WjWqBAAK0FInXrFKWI5D5Zb731ch04uxuFCJCtvPLKac0118zVUgQoRhsuCgTQKhxP+Qe33nrrHF6/11575XRoanhrZ5xxRk7nsPzyy6e77767wl7Fo6qgQACtCio//IwLL7wwLbXUUmnVVVfNwLJzFbnir7rqqrTFFltktnLevHkV9ioeVQUFAmhVUPnhZ0iHJuuXdGhz5sxZ4MkKN6j7hX1U+D7acFEggFbRePJxlJ9STWalhxrTVSvYQHbbY489cnH0iroVj6mIAgG0igit8AL5jNJD5q+iycgEhH5bbbXV0uzZs3OmpuL3+BwOCgTQKhrHc845J4Np2rRpC5QT5rl/3HHHpc033zy7ZrVa07uibsdjukSBAFqXCDnRbQ4++OC06aab5vKwxbkSeQqXmTp1albz33bbbcVP8TlkFAigVTSg06dPT5tsskkunqcSzv3335+9RHiIkN3mzp1bUU/iMXVQIIBWEdXPP//8BGy77757rkwpJu3www9Pl1xySeKaFW24KRBAq05G6LQAAABeSURBVGh8hcdwwVJuSlQ1Fb5P8WnRhp8CAbThH+N4wz6gQACtDwYhujD8FAigDf8Yxxv2AQUCaH0wCNGF4adAAG34xzjesA8oEEDrg0GILgw/BQJowz/G8YZ9QIH/A4FmB/Yhv/ImAAAAAElFTkSuQmCC' alt='alt_text' align='left'\n",
    "\twidth='200' height='150' /> \n",
    "\n"
   ]
  },
  {
   "cell_type": "code",
   "execution_count": null,
   "id": "53b3259c",
   "metadata": {
    "execution": {
     "iopub.execute_input": "2025-03-19T10:50:11.692785Z",
     "iopub.status.busy": "2025-03-19T10:50:11.692340Z",
     "iopub.status.idle": "2025-03-19T10:50:11.697490Z",
     "shell.execute_reply": "2025-03-19T10:50:11.696654Z"
    },
    "slideshow": {
     "slide_type": "fragment"
    }
   },
   "outputs": [],
   "source": [
    "## \"Input\" values\n",
    "a=3\n",
    "b=7\n",
    "\n",
    "c=(a**2 + b**2)**0.5\n",
    "area=(a*b)/2\n",
    "circum=a+b+c\n",
    "print(c,area,circum)"
   ]
  },
  {
   "cell_type": "markdown",
   "id": "3b09fc6d",
   "metadata": {
    "slideshow": {
     "slide_type": "subslide"
    }
   },
   "source": [
    "#### Now with function..."
   ]
  },
  {
   "cell_type": "markdown",
   "id": "8a6dc4eb",
   "metadata": {
    "slideshow": {
     "slide_type": "subslide"
    }
   },
   "source": [
    "### Define the pythagoras function\n",
    "\n",
    "```python \n",
    "def pythagoras(a, b):  \n",
    "    .\n",
    "    .\n",
    "    .\n",
    "    return ...\n",
    "```\n"
   ]
  },
  {
   "cell_type": "code",
   "execution_count": null,
   "id": "8e0748dd",
   "metadata": {
    "execution": {
     "iopub.execute_input": "2025-03-19T10:50:11.700882Z",
     "iopub.status.busy": "2025-03-19T10:50:11.700364Z",
     "iopub.status.idle": "2025-03-19T10:50:11.704933Z",
     "shell.execute_reply": "2025-03-19T10:50:11.704074Z"
    },
    "slideshow": {
     "slide_type": "fragment"
    }
   },
   "outputs": [],
   "source": [
    "def pythagoras(a, b):\n",
    "    c = (a**2 + b**2)**0.5\n",
    "    area=(a*b)/2\n",
    "    circum=a+b+c\n",
    "    return c,area,circum"
   ]
  },
  {
   "cell_type": "code",
   "execution_count": null,
   "id": "5732d00f",
   "metadata": {
    "execution": {
     "iopub.execute_input": "2025-03-19T10:50:11.707989Z",
     "iopub.status.busy": "2025-03-19T10:50:11.707541Z",
     "iopub.status.idle": "2025-03-19T10:50:11.712454Z",
     "shell.execute_reply": "2025-03-19T10:50:11.711723Z"
    },
    "slideshow": {
     "slide_type": "fragment"
    }
   },
   "outputs": [],
   "source": [
    "hypo1 = pythagoras(1,3)\n",
    "hypo2 = pythagoras(3,7)\n",
    "hypo3 = pythagoras(1,7)\n",
    "\n",
    "print(hypo1)\n",
    "print(hypo2)\n",
    "print(hypo3)"
   ]
  },
  {
   "cell_type": "markdown",
   "id": "af361769",
   "metadata": {
    "slideshow": {
     "slide_type": "subslide"
    }
   },
   "source": [
    "#### Why should we organize our code using functions?\n",
    "\n",
    "- Break the problem into smaller sub-tasks\n",
    " \n",
    "- Readability and Maintenance\n",
    "\n",
    "- Re-usability\n",
    "\n",
    "- Solve bugs once (Unit-testing, later on)"
   ]
  },
  {
   "cell_type": "markdown",
   "id": "df1682ff",
   "metadata": {
    "slideshow": {
     "slide_type": "subslide"
    }
   },
   "source": [
    "### `return` vs. `print`"
   ]
  },
  {
   "cell_type": "markdown",
   "id": "c8e833fd",
   "metadata": {
    "slideshow": {
     "slide_type": "fragment"
    }
   },
   "source": [
    "#### In order to use the value calculated by the function, it needs to <code>return</code> the value  "
   ]
  },
  {
   "cell_type": "code",
   "execution_count": null,
   "id": "7b7ba0af",
   "metadata": {
    "execution": {
     "iopub.execute_input": "2025-03-19T10:50:11.715834Z",
     "iopub.status.busy": "2025-03-19T10:50:11.715373Z",
     "iopub.status.idle": "2025-03-19T10:50:11.721005Z",
     "shell.execute_reply": "2025-03-19T10:50:11.720070Z"
    },
    "slideshow": {
     "slide_type": "fragment"
    }
   },
   "outputs": [],
   "source": [
    "def func_1(x):\n",
    "    return 3*x+1\n",
    "\n",
    "def func_2(x):\n",
    "    print(3*x+1)\n",
    "    \n",
    "y = func_1(7)\n",
    "print(y)\n",
    "z = func_2(7)\n",
    "print(z)"
   ]
  },
  {
   "cell_type": "markdown",
   "id": "10b53a83",
   "metadata": {
    "slideshow": {
     "slide_type": "subslide"
    }
   },
   "source": [
    "#### More about `return`:\n",
    "- `return` statement **\"breaks\"** the flow of the **function**\n",
    "- `return` can be empty\n",
    "    - Returns None\n",
    "\n",
    "- Functions can have no `return` statement \n",
    "    - Like `return None` as last line"
   ]
  },
  {
   "cell_type": "code",
   "execution_count": null,
   "id": "51f8deb5",
   "metadata": {
    "execution": {
     "iopub.execute_input": "2025-03-19T10:50:11.724287Z",
     "iopub.status.busy": "2025-03-19T10:50:11.723702Z",
     "iopub.status.idle": "2025-03-19T10:50:11.728295Z",
     "shell.execute_reply": "2025-03-19T10:50:11.727545Z"
    },
    "slideshow": {
     "slide_type": "fragment"
    }
   },
   "outputs": [],
   "source": [
    "def func_1(x):\n",
    "    return 3*x+1\n",
    "\n",
    "def func_2(x):\n",
    "    print(3*x+1)\n",
    "\n",
    "def func_3(x):\n",
    "    return None\n",
    "    print(3*x+1)"
   ]
  },
  {
   "cell_type": "code",
   "execution_count": null,
   "id": "785960eb",
   "metadata": {
    "execution": {
     "iopub.execute_input": "2025-03-19T10:50:11.731430Z",
     "iopub.status.busy": "2025-03-19T10:50:11.730979Z",
     "iopub.status.idle": "2025-03-19T10:50:11.736045Z",
     "shell.execute_reply": "2025-03-19T10:50:11.735303Z"
    },
    "slideshow": {
     "slide_type": "fragment"
    }
   },
   "outputs": [],
   "source": [
    "result = func_1(7)\n",
    "print(result)\n",
    "result = func_2(7)\n",
    "print(result)\n",
    "result = func_3(7)\n",
    "print(result)"
   ]
  },
  {
   "cell_type": "markdown",
   "id": "f2410354",
   "metadata": {
    "slideshow": {
     "slide_type": "subslide"
    }
   },
   "source": [
    "#### <span style='color:purple'>(2) : `return` statement</span>"
   ]
  },
  {
   "cell_type": "code",
   "execution_count": null,
   "id": "242bb5fe",
   "metadata": {
    "execution": {
     "iopub.execute_input": "2025-03-19T10:50:11.739285Z",
     "iopub.status.busy": "2025-03-19T10:50:11.738830Z",
     "iopub.status.idle": "2025-03-19T10:50:11.743282Z",
     "shell.execute_reply": "2025-03-19T10:50:11.742484Z"
    },
    "slideshow": {
     "slide_type": "fragment"
    }
   },
   "outputs": [],
   "source": [
    "def func_4(x):\n",
    "    return \n",
    "    print(3*x+1)\n",
    "    \n",
    "def func_3(x):\n",
    "    print(3*x+1)\n",
    "    return"
   ]
  },
  {
   "cell_type": "code",
   "execution_count": null,
   "id": "1a658313",
   "metadata": {
    "execution": {
     "iopub.execute_input": "2025-03-19T10:50:11.746369Z",
     "iopub.status.busy": "2025-03-19T10:50:11.745927Z",
     "iopub.status.idle": "2025-03-19T10:50:11.750468Z",
     "shell.execute_reply": "2025-03-19T10:50:11.749617Z"
    },
    "slideshow": {
     "slide_type": "fragment"
    }
   },
   "outputs": [],
   "source": [
    "result = func_3(7)\n",
    "print(result)\n",
    "result = func_3(7)\n",
    "print(result)"
   ]
  },
  {
   "cell_type": "markdown",
   "id": "34bdcf8a",
   "metadata": {
    "slideshow": {
     "slide_type": "subslide"
    }
   },
   "source": [
    "### Exercise 2 (self-learning)\n",
    "- Return the number resulting from reversing the digit of a given <b>four-digit</b> number\n",
    "- No `str` functions\n",
    "\n",
    "Example: 1370 --> 731 (0731)"
   ]
  },
  {
   "cell_type": "code",
   "execution_count": null,
   "id": "929a6585",
   "metadata": {
    "execution": {
     "iopub.execute_input": "2025-03-19T10:50:11.753572Z",
     "iopub.status.busy": "2025-03-19T10:50:11.753045Z",
     "iopub.status.idle": "2025-03-19T10:50:11.758755Z",
     "shell.execute_reply": "2025-03-19T10:50:11.757953Z"
    },
    "slideshow": {
     "slide_type": "fragment"
    }
   },
   "outputs": [],
   "source": [
    "num=1370\n",
    "\n",
    "num1=(num%10)*1000 \n",
    "num2=(num%100//10)*100 \n",
    "num3=(num%1000//100)*10 \n",
    "num4=((num)//1000)*1\n",
    "\n",
    "print(num1,num2,num3,num4)\n",
    "print(num1+num2+num3+num4)"
   ]
  },
  {
   "cell_type": "markdown",
   "id": "f55e7b09",
   "metadata": {
    "slideshow": {
     "slide_type": "subslide"
    }
   },
   "source": [
    "#### Now with functions..."
   ]
  },
  {
   "cell_type": "markdown",
   "id": "f8a8f912",
   "metadata": {
    "slideshow": {
     "slide_type": "fragment"
    }
   },
   "source": [
    "- <span style='color:red'>`return` instead of `print`</span>"
   ]
  },
  {
   "cell_type": "code",
   "execution_count": null,
   "id": "d87865c9",
   "metadata": {
    "execution": {
     "iopub.execute_input": "2025-03-19T10:50:11.762076Z",
     "iopub.status.busy": "2025-03-19T10:50:11.761507Z",
     "iopub.status.idle": "2025-03-19T10:50:11.766023Z",
     "shell.execute_reply": "2025-03-19T10:50:11.765291Z"
    },
    "slideshow": {
     "slide_type": "fragment"
    }
   },
   "outputs": [],
   "source": [
    "def reverse_digits(num):\n",
    "    num1=num%10*1000 \n",
    "    num2=num//1000 \n",
    "    num3=num%100//10*100 \n",
    "    num4=num%1000//100*10 \n",
    "    return num1+num2+num3+num4"
   ]
  },
  {
   "cell_type": "code",
   "execution_count": null,
   "id": "1e919012",
   "metadata": {
    "execution": {
     "iopub.execute_input": "2025-03-19T10:50:11.769169Z",
     "iopub.status.busy": "2025-03-19T10:50:11.768712Z",
     "iopub.status.idle": "2025-03-19T10:50:11.773221Z",
     "shell.execute_reply": "2025-03-19T10:50:11.772382Z"
    },
    "slideshow": {
     "slide_type": "fragment"
    }
   },
   "outputs": [],
   "source": [
    "print(reverse_digits(1370))\n",
    "print(reverse_digits(1375))"
   ]
  },
  {
   "cell_type": "markdown",
   "id": "00f0426d",
   "metadata": {
    "slideshow": {
     "slide_type": "slide"
    }
   },
   "source": [
    "## Strings"
   ]
  },
  {
   "cell_type": "markdown",
   "id": "2c42f2a4",
   "metadata": {
    "slideshow": {
     "slide_type": "fragment"
    }
   },
   "source": [
    "- enclosed with double quotes (\") or single quotes (')\n",
    "    - e.g., `\"hello world\"`, `'hello world'` \n",
    "- Ordered collection of characters.\n",
    "- <span style='color:red'>First index is <b>zero (0)</b></span>"
   ]
  },
  {
   "cell_type": "markdown",
   "id": "5c031237",
   "metadata": {
    "slideshow": {
     "slide_type": "fragment"
    }
   },
   "source": [
    "- e.g, \"Hello\": "
   ]
  },
  {
   "cell_type": "markdown",
   "id": "2d08688e",
   "metadata": {
    "slideshow": {
     "slide_type": "fragment"
    }
   },
   "source": [
    "|H|e|l|l|o|\n",
    "|-|-|-|-|-|\n",
    "|0|1|2|3|4|\n",
    "|-5|-4|-3|-2|-1|"
   ]
  },
  {
   "cell_type": "markdown",
   "id": "4d35e313",
   "metadata": {
    "slideshow": {
     "slide_type": "subslide"
    }
   },
   "source": [
    "- Strings can be enclosed in either 'single quotes' or \"double quotes\"."
   ]
  },
  {
   "cell_type": "code",
   "execution_count": null,
   "id": "7565ac70",
   "metadata": {
    "execution": {
     "iopub.execute_input": "2025-03-19T10:50:11.776919Z",
     "iopub.status.busy": "2025-03-19T10:50:11.776271Z",
     "iopub.status.idle": "2025-03-19T10:50:11.780618Z",
     "shell.execute_reply": "2025-03-19T10:50:11.779808Z"
    },
    "slideshow": {
     "slide_type": "fragment"
    }
   },
   "outputs": [],
   "source": [
    "print('If you spend all day shuffling words around, you can make anything sound bad')"
   ]
  },
  {
   "cell_type": "code",
   "execution_count": null,
   "id": "145ce59e",
   "metadata": {
    "execution": {
     "iopub.execute_input": "2025-03-19T10:50:11.783527Z",
     "iopub.status.busy": "2025-03-19T10:50:11.783074Z",
     "iopub.status.idle": "2025-03-19T10:50:11.788917Z",
     "shell.execute_reply": "2025-03-19T10:50:11.788232Z"
    },
    "slideshow": {
     "slide_type": "fragment"
    },
    "tags": [
     "raises-exception"
    ]
   },
   "outputs": [],
   "source": [
    "print('I'll tell you how I feel about school... It's a waste of time. Bunch of people runnin’ around... got a guy up front says, ‘Two plus two,’ and the people in the back say, 'Four'...')"
   ]
  },
  {
   "cell_type": "code",
   "execution_count": null,
   "id": "2b05e2ac",
   "metadata": {
    "execution": {
     "iopub.execute_input": "2025-03-19T10:50:11.792102Z",
     "iopub.status.busy": "2025-03-19T10:50:11.791644Z",
     "iopub.status.idle": "2025-03-19T10:50:11.796447Z",
     "shell.execute_reply": "2025-03-19T10:50:11.795598Z"
    },
    "slideshow": {
     "slide_type": "subslide"
    }
   },
   "outputs": [],
   "source": [
    "print('I\\'ll tell you how I feel about school... It\\'s a waste of time. Bunch of people runnin\\' around... got a guy up front says, \\'Two plus two,\\' and the people in the back say, ‘Four’...')"
   ]
  },
  {
   "cell_type": "code",
   "execution_count": null,
   "id": "c4f4f9c2",
   "metadata": {
    "execution": {
     "iopub.execute_input": "2025-03-19T10:50:11.799233Z",
     "iopub.status.busy": "2025-03-19T10:50:11.798776Z",
     "iopub.status.idle": "2025-03-19T10:50:11.803228Z",
     "shell.execute_reply": "2025-03-19T10:50:11.802457Z"
    },
    "slideshow": {
     "slide_type": "fragment"
    }
   },
   "outputs": [],
   "source": [
    "print('rick says: \"Morty!\"')\n",
    "print(\"rick says: 'Morty!'\")"
   ]
  },
  {
   "cell_type": "markdown",
   "id": "cd3e721c",
   "metadata": {
    "slideshow": {
     "slide_type": "subslide"
    }
   },
   "source": [
    "- Individual characters are accessed using brackets notation \"[]\" with the positional index "
   ]
  },
  {
   "cell_type": "code",
   "execution_count": null,
   "id": "4c6278ea",
   "metadata": {
    "execution": {
     "iopub.execute_input": "2025-03-19T10:50:11.806354Z",
     "iopub.status.busy": "2025-03-19T10:50:11.805902Z",
     "iopub.status.idle": "2025-03-19T10:50:11.830001Z",
     "shell.execute_reply": "2025-03-19T10:50:11.829195Z"
    },
    "slideshow": {
     "slide_type": "fragment"
    },
    "tags": [
     "raises-exception"
    ]
   },
   "outputs": [],
   "source": [
    "my_string=\"c-137\"\n",
    "print(my_string[0].upper())\n",
    "print(my_string[2])\n",
    "print(my_string[-2])\n",
    "print(my_string[4])\n",
    "print(my_string[5])"
   ]
  },
  {
   "cell_type": "markdown",
   "id": "c54b33f3",
   "metadata": {
    "slideshow": {
     "slide_type": "subslide"
    }
   },
   "source": [
    "- `len()` is used for getting the length of a string"
   ]
  },
  {
   "cell_type": "code",
   "execution_count": null,
   "id": "62a83b5a",
   "metadata": {
    "execution": {
     "iopub.execute_input": "2025-03-19T10:50:11.833340Z",
     "iopub.status.busy": "2025-03-19T10:50:11.832883Z",
     "iopub.status.idle": "2025-03-19T10:50:11.837564Z",
     "shell.execute_reply": "2025-03-19T10:50:11.836657Z"
    },
    "slideshow": {
     "slide_type": "fragment"
    }
   },
   "outputs": [],
   "source": [
    "my_string=\"c-137\"\n",
    "print(len(my_string))"
   ]
  },
  {
   "cell_type": "markdown",
   "id": "7fd245ed",
   "metadata": {
    "slideshow": {
     "slide_type": "subslide"
    }
   },
   "source": [
    "### Operations on mixed variables"
   ]
  },
  {
   "cell_type": "code",
   "execution_count": null,
   "id": "dd9142ed",
   "metadata": {
    "execution": {
     "iopub.execute_input": "2025-03-19T10:50:11.841030Z",
     "iopub.status.busy": "2025-03-19T10:50:11.840354Z",
     "iopub.status.idle": "2025-03-19T10:50:11.844252Z",
     "shell.execute_reply": "2025-03-19T10:50:11.843497Z"
    },
    "slideshow": {
     "slide_type": "fragment"
    }
   },
   "outputs": [],
   "source": [
    "c=140 "
   ]
  },
  {
   "cell_type": "code",
   "execution_count": null,
   "id": "e006e4fb",
   "metadata": {
    "execution": {
     "iopub.execute_input": "2025-03-19T10:50:11.847349Z",
     "iopub.status.busy": "2025-03-19T10:50:11.846899Z",
     "iopub.status.idle": "2025-03-19T10:50:11.851292Z",
     "shell.execute_reply": "2025-03-19T10:50:11.850443Z"
    },
    "slideshow": {
     "slide_type": "fragment"
    }
   },
   "outputs": [],
   "source": [
    "print(c-137)"
   ]
  },
  {
   "cell_type": "code",
   "execution_count": null,
   "id": "55c8ba5c",
   "metadata": {
    "execution": {
     "iopub.execute_input": "2025-03-19T10:50:11.854499Z",
     "iopub.status.busy": "2025-03-19T10:50:11.854049Z",
     "iopub.status.idle": "2025-03-19T10:50:11.872530Z",
     "shell.execute_reply": "2025-03-19T10:50:11.871757Z"
    },
    "slideshow": {
     "slide_type": "fragment"
    },
    "tags": [
     "raises-exception"
    ]
   },
   "outputs": [],
   "source": [
    "print(\"c\"-137) "
   ]
  },
  {
   "cell_type": "code",
   "execution_count": null,
   "id": "343f0940",
   "metadata": {
    "execution": {
     "iopub.execute_input": "2025-03-19T10:50:11.876364Z",
     "iopub.status.busy": "2025-03-19T10:50:11.875302Z",
     "iopub.status.idle": "2025-03-19T10:50:11.893271Z",
     "shell.execute_reply": "2025-03-19T10:50:11.892514Z"
    },
    "slideshow": {
     "slide_type": "fragment"
    },
    "tags": [
     "raises-exception"
    ]
   },
   "outputs": [],
   "source": [
    "print(\"c-\"+137)"
   ]
  },
  {
   "cell_type": "code",
   "execution_count": null,
   "id": "4e58d73e",
   "metadata": {
    "execution": {
     "iopub.execute_input": "2025-03-19T10:50:11.896689Z",
     "iopub.status.busy": "2025-03-19T10:50:11.896092Z",
     "iopub.status.idle": "2025-03-19T10:50:11.900684Z",
     "shell.execute_reply": "2025-03-19T10:50:11.899992Z"
    },
    "slideshow": {
     "slide_type": "fragment"
    }
   },
   "outputs": [],
   "source": [
    "print(\"c-\"+\"137\")"
   ]
  },
  {
   "cell_type": "code",
   "execution_count": null,
   "id": "024eb9d1",
   "metadata": {
    "execution": {
     "iopub.execute_input": "2025-03-19T10:50:11.904193Z",
     "iopub.status.busy": "2025-03-19T10:50:11.903502Z",
     "iopub.status.idle": "2025-03-19T10:50:11.907696Z",
     "shell.execute_reply": "2025-03-19T10:50:11.906828Z"
    },
    "slideshow": {
     "slide_type": "subslide"
    }
   },
   "outputs": [],
   "source": [
    "print(c*2)"
   ]
  },
  {
   "cell_type": "code",
   "execution_count": null,
   "id": "6b6869a5",
   "metadata": {
    "execution": {
     "iopub.execute_input": "2025-03-19T10:50:11.910631Z",
     "iopub.status.busy": "2025-03-19T10:50:11.910294Z",
     "iopub.status.idle": "2025-03-19T10:50:11.914392Z",
     "shell.execute_reply": "2025-03-19T10:50:11.913524Z"
    },
    "slideshow": {
     "slide_type": "fragment"
    }
   },
   "outputs": [],
   "source": [
    "print(\"c\"*2)"
   ]
  },
  {
   "cell_type": "code",
   "execution_count": null,
   "id": "c12c7bd8",
   "metadata": {
    "execution": {
     "iopub.execute_input": "2025-03-19T10:50:11.917449Z",
     "iopub.status.busy": "2025-03-19T10:50:11.916828Z",
     "iopub.status.idle": "2025-03-19T10:50:11.934767Z",
     "shell.execute_reply": "2025-03-19T10:50:11.933902Z"
    },
    "slideshow": {
     "slide_type": "fragment"
    },
    "tags": [
     "raises-exception"
    ]
   },
   "outputs": [],
   "source": [
    "print(\"c-\"*2+137)"
   ]
  },
  {
   "cell_type": "code",
   "execution_count": null,
   "id": "8a391eee",
   "metadata": {
    "execution": {
     "iopub.execute_input": "2025-03-19T10:50:11.938109Z",
     "iopub.status.busy": "2025-03-19T10:50:11.937581Z",
     "iopub.status.idle": "2025-03-19T10:50:11.941711Z",
     "shell.execute_reply": "2025-03-19T10:50:11.940852Z"
    },
    "slideshow": {
     "slide_type": "fragment"
    }
   },
   "outputs": [],
   "source": [
    "print(c**2)"
   ]
  },
  {
   "cell_type": "code",
   "execution_count": null,
   "id": "8f9cc17d",
   "metadata": {
    "execution": {
     "iopub.execute_input": "2025-03-19T10:50:11.945075Z",
     "iopub.status.busy": "2025-03-19T10:50:11.944465Z",
     "iopub.status.idle": "2025-03-19T10:50:11.961839Z",
     "shell.execute_reply": "2025-03-19T10:50:11.961041Z"
    },
    "slideshow": {
     "slide_type": "fragment"
    },
    "tags": [
     "raises-exception"
    ]
   },
   "outputs": [],
   "source": [
    "print(\"c\"**2)"
   ]
  },
  {
   "cell_type": "markdown",
   "id": "65b5df1e",
   "metadata": {
    "slideshow": {
     "slide_type": "notes"
    }
   },
   "source": [
    "Slide 21-22"
   ]
  },
  {
   "cell_type": "markdown",
   "id": "9bd85450",
   "metadata": {
    "slideshow": {
     "slide_type": "slide"
    }
   },
   "source": [
    "## String slicing"
   ]
  },
  {
   "cell_type": "markdown",
   "id": "1c6b6155",
   "metadata": {
    "slideshow": {
     "slide_type": "fragment"
    }
   },
   "source": [
    "- syntax: **some_str[x:y:z]**\n",
    "- Returns a **new string** based on characters from some_str\n",
    "- **from position _x_ (including) until position _y_ (not including) with steps of size (and direction) _z_**\n",
    "\n",
    "    \n",
    "        "
   ]
  },
  {
   "cell_type": "code",
   "execution_count": null,
   "id": "2960f712",
   "metadata": {
    "execution": {
     "iopub.execute_input": "2025-03-19T10:50:11.965152Z",
     "iopub.status.busy": "2025-03-19T10:50:11.964904Z",
     "iopub.status.idle": "2025-03-19T10:50:11.969070Z",
     "shell.execute_reply": "2025-03-19T10:50:11.968282Z"
    },
    "slideshow": {
     "slide_type": "subslide"
    }
   },
   "outputs": [],
   "source": [
    "## \"Input\" values\n",
    "some_str=\"Wubba Lubba Dub Dub\"\n",
    "x=1\n",
    "y=10\n",
    "z=2"
   ]
  },
  {
   "cell_type": "code",
   "execution_count": null,
   "id": "f4b5a4fa",
   "metadata": {
    "execution": {
     "iopub.execute_input": "2025-03-19T10:50:11.972366Z",
     "iopub.status.busy": "2025-03-19T10:50:11.971676Z",
     "iopub.status.idle": "2025-03-19T10:50:11.975824Z",
     "shell.execute_reply": "2025-03-19T10:50:11.975017Z"
    },
    "slideshow": {
     "slide_type": "fragment"
    }
   },
   "outputs": [],
   "source": [
    "# slice from x to y in step of size 1\n",
    "print(some_str[x:y])"
   ]
  },
  {
   "cell_type": "code",
   "execution_count": null,
   "id": "232a4566",
   "metadata": {
    "execution": {
     "iopub.execute_input": "2025-03-19T10:50:11.978899Z",
     "iopub.status.busy": "2025-03-19T10:50:11.978282Z",
     "iopub.status.idle": "2025-03-19T10:50:11.982262Z",
     "shell.execute_reply": "2025-03-19T10:50:11.981407Z"
    },
    "slideshow": {
     "slide_type": "fragment"
    }
   },
   "outputs": [],
   "source": [
    "# slice from x to end in step of size z\n",
    "print(some_str[x::z] )"
   ]
  },
  {
   "cell_type": "code",
   "execution_count": null,
   "id": "9a6d2cdb",
   "metadata": {
    "execution": {
     "iopub.execute_input": "2025-03-19T10:50:11.985572Z",
     "iopub.status.busy": "2025-03-19T10:50:11.984961Z",
     "iopub.status.idle": "2025-03-19T10:50:11.989163Z",
     "shell.execute_reply": "2025-03-19T10:50:11.988307Z"
    },
    "slideshow": {
     "slide_type": "fragment"
    }
   },
   "outputs": [],
   "source": [
    "# slice from beginning to y with step of size z\n",
    "print(some_str[:y:z] )"
   ]
  },
  {
   "cell_type": "markdown",
   "id": "f38c7bb1",
   "metadata": {
    "slideshow": {
     "slide_type": "subslide"
    }
   },
   "source": [
    "#### <span style='color:purple'>(3): string slicing</span>"
   ]
  },
  {
   "cell_type": "code",
   "execution_count": null,
   "id": "9ef94067",
   "metadata": {
    "execution": {
     "iopub.execute_input": "2025-03-19T10:50:11.992551Z",
     "iopub.status.busy": "2025-03-19T10:50:11.991969Z",
     "iopub.status.idle": "2025-03-19T10:50:11.996572Z",
     "shell.execute_reply": "2025-03-19T10:50:11.995701Z"
    },
    "slideshow": {
     "slide_type": "fragment"
    }
   },
   "outputs": [],
   "source": [
    "## \"Input\" values\n",
    "some_str=\"Wubba Lubba Dub Dub\"\n",
    "x=1\n",
    "y=10\n",
    "z=2\n",
    "\n",
    "print(some_str[y:x:-z] )"
   ]
  },
  {
   "cell_type": "markdown",
   "id": "8904fd18",
   "metadata": {
    "slideshow": {
     "slide_type": "notes"
    }
   },
   "source": [
    "Slides 23-28"
   ]
  },
  {
   "cell_type": "markdown",
   "id": "609c5234",
   "metadata": {
    "slideshow": {
     "slide_type": "slide"
    }
   },
   "source": [
    "### Exercise 3 (self-learning)"
   ]
  },
  {
   "cell_type": "markdown",
   "id": "2e2c57ca",
   "metadata": {
    "slideshow": {
     "slide_type": "fragment"
    }
   },
   "source": [
    "#### Write a code that receives a string `s` with only lower letters, and prints a similar string, but with the middle letter in an upper case format.  \n",
    "\n",
    "e.g.,  \n",
    "ef**g**hi $\\rightarrow$ ef<span style=\"color:red\">**G**</span>hi   \n",
    "efg**h**ij $\\rightarrow$ efg<span style=\"color:red\">**H**</span>ij  \n",
    "\n",
    "\n",
    "\n"
   ]
  },
  {
   "cell_type": "code",
   "execution_count": null,
   "id": "fbfdec61",
   "metadata": {
    "execution": {
     "iopub.execute_input": "2025-03-19T10:50:12.000210Z",
     "iopub.status.busy": "2025-03-19T10:50:11.999590Z",
     "iopub.status.idle": "2025-03-19T10:50:12.003262Z",
     "shell.execute_reply": "2025-03-19T10:50:12.002471Z"
    },
    "slideshow": {
     "slide_type": "fragment"
    }
   },
   "outputs": [],
   "source": [
    "## \"Input\" values\n",
    "s = 'limerick'"
   ]
  },
  {
   "cell_type": "code",
   "execution_count": null,
   "id": "5f3c683a",
   "metadata": {
    "execution": {
     "iopub.execute_input": "2025-03-19T10:50:12.006622Z",
     "iopub.status.busy": "2025-03-19T10:50:12.006014Z",
     "iopub.status.idle": "2025-03-19T10:50:12.010181Z",
     "shell.execute_reply": "2025-03-19T10:50:12.009370Z"
    },
    "slideshow": {
     "slide_type": "fragment"
    }
   },
   "outputs": [],
   "source": [
    "# Find string’s length\n",
    "n = len(s)\n",
    "print(n)"
   ]
  },
  {
   "cell_type": "code",
   "execution_count": null,
   "id": "27cd5139",
   "metadata": {
    "execution": {
     "iopub.execute_input": "2025-03-19T10:50:12.013261Z",
     "iopub.status.busy": "2025-03-19T10:50:12.012748Z",
     "iopub.status.idle": "2025-03-19T10:50:12.017062Z",
     "shell.execute_reply": "2025-03-19T10:50:12.016189Z"
    },
    "slideshow": {
     "slide_type": "subslide"
    }
   },
   "outputs": [],
   "source": [
    "# Find string’s middle index\n",
    "middle = n / 2 \n",
    "print(middle)"
   ]
  },
  {
   "cell_type": "code",
   "execution_count": null,
   "id": "c9a51ed7",
   "metadata": {
    "execution": {
     "iopub.execute_input": "2025-03-19T10:50:12.020075Z",
     "iopub.status.busy": "2025-03-19T10:50:12.019492Z",
     "iopub.status.idle": "2025-03-19T10:50:12.038013Z",
     "shell.execute_reply": "2025-03-19T10:50:12.037252Z"
    },
    "slideshow": {
     "slide_type": "fragment"
    },
    "tags": [
     "raises-exception"
    ]
   },
   "outputs": [],
   "source": [
    "# Find string’s middle letter\n",
    "middle_letter = s[middle]"
   ]
  },
  {
   "cell_type": "code",
   "execution_count": null,
   "id": "21a74c4e",
   "metadata": {
    "execution": {
     "iopub.execute_input": "2025-03-19T10:50:12.041226Z",
     "iopub.status.busy": "2025-03-19T10:50:12.040856Z",
     "iopub.status.idle": "2025-03-19T10:50:12.045487Z",
     "shell.execute_reply": "2025-03-19T10:50:12.044564Z"
    },
    "slideshow": {
     "slide_type": "fragment"
    }
   },
   "outputs": [],
   "source": [
    "# A float cannot serve as an index! use integer division instead\n",
    "middle = n // 2\n",
    "print(middle)\n",
    "middle_letter = s[middle]"
   ]
  },
  {
   "cell_type": "code",
   "execution_count": null,
   "id": "ca93e7bc",
   "metadata": {
    "execution": {
     "iopub.execute_input": "2025-03-19T10:50:12.048874Z",
     "iopub.status.busy": "2025-03-19T10:50:12.048358Z",
     "iopub.status.idle": "2025-03-19T10:50:12.052332Z",
     "shell.execute_reply": "2025-03-19T10:50:12.051522Z"
    },
    "slideshow": {
     "slide_type": "subslide"
    }
   },
   "outputs": [],
   "source": [
    "# Converts middle letter to an upper case \n",
    "U_middle_letter = middle_letter.upper()"
   ]
  },
  {
   "cell_type": "code",
   "execution_count": null,
   "id": "9a025d03",
   "metadata": {
    "execution": {
     "iopub.execute_input": "2025-03-19T10:50:12.055344Z",
     "iopub.status.busy": "2025-03-19T10:50:12.055019Z",
     "iopub.status.idle": "2025-03-19T10:50:12.059557Z",
     "shell.execute_reply": "2025-03-19T10:50:12.058697Z"
    },
    "slideshow": {
     "slide_type": "fragment"
    }
   },
   "outputs": [],
   "source": [
    "# Slice the string before and after the capitalized character and merge it with the revised character\n",
    "new = s[0:middle] + U_middle_letter + s[middle+1:]\n",
    "print(new)"
   ]
  },
  {
   "cell_type": "markdown",
   "id": "2d9aa0d7",
   "metadata": {
    "slideshow": {
     "slide_type": "subslide"
    }
   },
   "source": [
    "#### Putting in all together in a function"
   ]
  },
  {
   "cell_type": "code",
   "execution_count": null,
   "id": "fda2b324",
   "metadata": {
    "execution": {
     "iopub.execute_input": "2025-03-19T10:50:12.062860Z",
     "iopub.status.busy": "2025-03-19T10:50:12.062429Z",
     "iopub.status.idle": "2025-03-19T10:50:12.066900Z",
     "shell.execute_reply": "2025-03-19T10:50:12.066046Z"
    },
    "slideshow": {
     "slide_type": "fragment"
    }
   },
   "outputs": [],
   "source": [
    " def cap_in_middle(s):\n",
    "    n = len(s)\n",
    "    middle = n // 2\n",
    "    middle_letter = s[middle]\n",
    "    U_middle_letter = middle_letter.upper()\n",
    "    return s[0:middle] + U_middle_letter + s[middle+1:]\n",
    "    "
   ]
  },
  {
   "cell_type": "code",
   "execution_count": null,
   "id": "f00dac09",
   "metadata": {
    "execution": {
     "iopub.execute_input": "2025-03-19T10:50:12.070084Z",
     "iopub.status.busy": "2025-03-19T10:50:12.069648Z",
     "iopub.status.idle": "2025-03-19T10:50:12.074018Z",
     "shell.execute_reply": "2025-03-19T10:50:12.073164Z"
    },
    "slideshow": {
     "slide_type": "fragment"
    }
   },
   "outputs": [],
   "source": [
    "print(cap_in_middle('limerick'))\n",
    "print(cap_in_middle('rickandmorty'))"
   ]
  },
  {
   "cell_type": "markdown",
   "id": "3960c1f5",
   "metadata": {
    "slideshow": {
     "slide_type": "notes"
    }
   },
   "source": [
    "Slide 29"
   ]
  },
  {
   "cell_type": "markdown",
   "id": "10cf0743",
   "metadata": {
    "slideshow": {
     "slide_type": "slide"
    }
   },
   "source": [
    "## Comparisons / boolean statements"
   ]
  },
  {
   "cell_type": "markdown",
   "id": "10886241",
   "metadata": {
    "slideshow": {
     "slide_type": "fragment"
    }
   },
   "source": [
    "#### Comparison operators:\n",
    "\n",
    "||||\n",
    "|:-|:-|:-|\n",
    "|==|equal|**Note: twice ‘=‘, this is not an assignment!**|\n",
    "|!=|not equal|\n",
    "|>|greater than|\n",
    "|<|less than|\n",
    "|>=|grater than or equal|\n",
    "|<=|less than or equal|"
   ]
  },
  {
   "cell_type": "markdown",
   "id": "3367b3fe",
   "metadata": {
    "slideshow": {
     "slide_type": "slide"
    }
   },
   "source": [
    "#### Comparisons are evaluated to **Boolean (bool)** values"
   ]
  },
  {
   "cell_type": "code",
   "execution_count": null,
   "id": "e5001c77",
   "metadata": {
    "execution": {
     "iopub.execute_input": "2025-03-19T10:50:12.077438Z",
     "iopub.status.busy": "2025-03-19T10:50:12.077003Z",
     "iopub.status.idle": "2025-03-19T10:50:12.081320Z",
     "shell.execute_reply": "2025-03-19T10:50:12.080463Z"
    },
    "slideshow": {
     "slide_type": "fragment"
    }
   },
   "outputs": [],
   "source": [
    "# Simple inequality (numeric)\n",
    "c=137<138\n",
    "print(c)"
   ]
  },
  {
   "cell_type": "code",
   "execution_count": null,
   "id": "492da8d8",
   "metadata": {
    "execution": {
     "iopub.execute_input": "2025-03-19T10:50:12.084469Z",
     "iopub.status.busy": "2025-03-19T10:50:12.084014Z",
     "iopub.status.idle": "2025-03-19T10:50:12.088534Z",
     "shell.execute_reply": "2025-03-19T10:50:12.087677Z"
    },
    "slideshow": {
     "slide_type": "fragment"
    }
   },
   "outputs": [],
   "source": [
    "# Simple inequality (lexicography)\n",
    "c='rick' <'morty'\n",
    "print(c)"
   ]
  },
  {
   "cell_type": "markdown",
   "id": "b90c93fc",
   "metadata": {
    "slideshow": {
     "slide_type": "subslide"
    }
   },
   "source": [
    "####  String comparison"
   ]
  },
  {
   "cell_type": "code",
   "execution_count": null,
   "id": "2d93ed1f",
   "metadata": {
    "execution": {
     "iopub.execute_input": "2025-03-19T10:50:12.091799Z",
     "iopub.status.busy": "2025-03-19T10:50:12.091351Z",
     "iopub.status.idle": "2025-03-19T10:50:12.095827Z",
     "shell.execute_reply": "2025-03-19T10:50:12.095000Z"
    },
    "slideshow": {
     "slide_type": "fragment"
    }
   },
   "outputs": [],
   "source": [
    "c='rick' < 'Rick'\n",
    "print(c)"
   ]
  },
  {
   "cell_type": "markdown",
   "id": "d1084a91",
   "metadata": {
    "slideshow": {
     "slide_type": "fragment"
    }
   },
   "source": [
    "#### Check out ASCII table!"
   ]
  },
  {
   "cell_type": "markdown",
   "id": "87a2e969",
   "metadata": {
    "slideshow": {
     "slide_type": "subslide"
    }
   },
   "source": [
    "#### Multiple comparisons"
   ]
  },
  {
   "cell_type": "code",
   "execution_count": null,
   "id": "3aa82885",
   "metadata": {
    "execution": {
     "iopub.execute_input": "2025-03-19T10:50:12.099227Z",
     "iopub.status.busy": "2025-03-19T10:50:12.098556Z",
     "iopub.status.idle": "2025-03-19T10:50:12.103201Z",
     "shell.execute_reply": "2025-03-19T10:50:12.102345Z"
    },
    "slideshow": {
     "slide_type": "subslide"
    }
   },
   "outputs": [],
   "source": [
    "c=136<137 and 137<135\n",
    "print(c)\n",
    "\n",
    "# This is equivalent\n",
    "c=136<137<135\n",
    "print(c)\n",
    "\n"
   ]
  },
  {
   "cell_type": "code",
   "execution_count": null,
   "id": "5445b1a2",
   "metadata": {
    "execution": {
     "iopub.execute_input": "2025-03-19T10:50:12.106603Z",
     "iopub.status.busy": "2025-03-19T10:50:12.105934Z",
     "iopub.status.idle": "2025-03-19T10:50:12.110390Z",
     "shell.execute_reply": "2025-03-19T10:50:12.109583Z"
    },
    "slideshow": {
     "slide_type": "fragment"
    }
   },
   "outputs": [],
   "source": [
    "c=136>137 or 137<139\n",
    "print(c)"
   ]
  },
  {
   "cell_type": "code",
   "execution_count": null,
   "id": "dc8285b6",
   "metadata": {
    "execution": {
     "iopub.execute_input": "2025-03-19T10:50:12.113542Z",
     "iopub.status.busy": "2025-03-19T10:50:12.113099Z",
     "iopub.status.idle": "2025-03-19T10:50:12.117310Z",
     "shell.execute_reply": "2025-03-19T10:50:12.116503Z"
    },
    "slideshow": {
     "slide_type": "fragment"
    }
   },
   "outputs": [],
   "source": [
    "# Can also mix it up:\n",
    "c=6<7 and 'morty'<'rick'\n",
    "print(c)"
   ]
  },
  {
   "cell_type": "markdown",
   "id": "ef79ea7b",
   "metadata": {
    "slideshow": {
     "slide_type": "subslide"
    }
   },
   "source": [
    "#### `and` precedes `or`"
   ]
  },
  {
   "cell_type": "code",
   "execution_count": null,
   "id": "04ac00d8",
   "metadata": {
    "execution": {
     "iopub.execute_input": "2025-03-19T10:50:12.120516Z",
     "iopub.status.busy": "2025-03-19T10:50:12.120063Z",
     "iopub.status.idle": "2025-03-19T10:50:12.124659Z",
     "shell.execute_reply": "2025-03-19T10:50:12.123828Z"
    },
    "slideshow": {
     "slide_type": "fragment"
    }
   },
   "outputs": [],
   "source": [
    "c='jerry'<'beth' and 'rick'<'morty' or 6<7 \n",
    "print(c)"
   ]
  },
  {
   "cell_type": "code",
   "execution_count": null,
   "id": "7f8e33c6",
   "metadata": {
    "execution": {
     "iopub.execute_input": "2025-03-19T10:50:12.127831Z",
     "iopub.status.busy": "2025-03-19T10:50:12.127391Z",
     "iopub.status.idle": "2025-03-19T10:50:12.131703Z",
     "shell.execute_reply": "2025-03-19T10:50:12.130867Z"
    },
    "slideshow": {
     "slide_type": "fragment"
    }
   },
   "outputs": [],
   "source": [
    "c=137<136 and ('beth'<'jerry' or 'morty'<'rick')\n",
    "print(c)"
   ]
  },
  {
   "cell_type": "markdown",
   "id": "1511f726",
   "metadata": {
    "slideshow": {
     "slide_type": "notes"
    }
   },
   "source": [
    "Slide 30"
   ]
  },
  {
   "cell_type": "markdown",
   "id": "43ae7425",
   "metadata": {
    "slideshow": {
     "slide_type": "slide"
    }
   },
   "source": [
    "## Summary so far"
   ]
  },
  {
   "cell_type": "markdown",
   "id": "5f567ca8",
   "metadata": {
    "slideshow": {
     "slide_type": "fragment"
    }
   },
   "source": [
    "- We saw the types `int`, `float`, `str`, `bool`.\n",
    "- Assignments: `variable_name = expression`\n",
    "    - Subsequent assignments to the same variable can change its **value** and even its **type**.\n",
    "- Some operations allow \"mixing\" variables of different types, e.g. `'hi' * 2`.\n",
    "- Booleans:\n",
    "     -`True` and `False` are boolean constants.\n",
    "    - Boolean expressions through *or* / *and* / *not*.\n",
    "    - Comparisons yield boolean values.\n",
    "- Function:\n",
    "    - A modular block of code"
   ]
  },
  {
   "cell_type": "markdown",
   "id": "28ba5d02",
   "metadata": {
    "slideshow": {
     "slide_type": "notes"
    }
   },
   "source": [
    "Slides 31-40"
   ]
  },
  {
   "cell_type": "markdown",
   "id": "cb7950ad",
   "metadata": {
    "slideshow": {
     "slide_type": "subslide"
    }
   },
   "source": [
    "## Conditional statements `if`"
   ]
  },
  {
   "cell_type": "markdown",
   "id": "5b532f32",
   "metadata": {
    "slideshow": {
     "slide_type": "fragment"
    }
   },
   "source": [
    "<table style=\"float:center\">\n",
    "    <tr>\n",
    "        <td><img src='data:image/png;base64,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' alt='alt_text' width='300' height='400' /></td>\n",
    "                <td><img src='data:image/png;base64,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' alt='alt_text' width='315' height='400' /></td>\n",
    "    </tr>\n",
    "</table>\n",
    "    \n",
    "\n",
    "\n"
   ]
  },
  {
   "cell_type": "markdown",
   "id": "15dfa755",
   "metadata": {
    "slideshow": {
     "slide_type": "fragment"
    }
   },
   "source": [
    "- **Note how each of if and else has its own indented statements under its own block.**"
   ]
  },
  {
   "cell_type": "markdown",
   "id": "29fa0131",
   "metadata": {
    "slideshow": {
     "slide_type": "subslide"
    }
   },
   "source": [
    "#### Example #1: simple `if`"
   ]
  },
  {
   "cell_type": "code",
   "execution_count": null,
   "id": "17b18a86",
   "metadata": {
    "execution": {
     "iopub.execute_input": "2025-03-19T10:50:12.135517Z",
     "iopub.status.busy": "2025-03-19T10:50:12.135081Z",
     "iopub.status.idle": "2025-03-19T10:50:12.139506Z",
     "shell.execute_reply": "2025-03-19T10:50:12.138657Z"
    },
    "slideshow": {
     "slide_type": "fragment"
    }
   },
   "outputs": [],
   "source": [
    "# the remainder of 54 divided by 18\n",
    "if 411 % 137 == 0: \n",
    "    print(\"411 is divisible by 137\")"
   ]
  },
  {
   "cell_type": "markdown",
   "id": "45526bbd",
   "metadata": {
    "slideshow": {
     "slide_type": "subslide"
    }
   },
   "source": [
    "#### Example #2: `if` and `else`"
   ]
  },
  {
   "cell_type": "code",
   "execution_count": null,
   "id": "899d5ce9",
   "metadata": {
    "execution": {
     "iopub.execute_input": "2025-03-19T10:50:12.142942Z",
     "iopub.status.busy": "2025-03-19T10:50:12.142339Z",
     "iopub.status.idle": "2025-03-19T10:50:12.146689Z",
     "shell.execute_reply": "2025-03-19T10:50:12.145948Z"
    },
    "slideshow": {
     "slide_type": "fragment"
    }
   },
   "outputs": [],
   "source": [
    "# Compared lexicography\n",
    "if 'rick' < 'morty': \n",
    "    print(\"'rick' comes before 'morty'\")\n",
    "else:\n",
    "    print(\"'morty' comes before 'rick'\")"
   ]
  },
  {
   "cell_type": "markdown",
   "id": "02d43d09",
   "metadata": {
    "slideshow": {
     "slide_type": "subslide"
    }
   },
   "source": [
    "#### Example #3: `elif`"
   ]
  },
  {
   "cell_type": "markdown",
   "id": "f533f936",
   "metadata": {
    "slideshow": {
     "slide_type": "fragment"
    }
   },
   "source": [
    "- A \"fallback\" before `else`\n",
    "- Can have multiple `elif` \n",
    "- Only tested in None of the conditions tested before hold "
   ]
  },
  {
   "cell_type": "code",
   "execution_count": null,
   "id": "39fc81dd",
   "metadata": {
    "execution": {
     "iopub.execute_input": "2025-03-19T10:50:12.149954Z",
     "iopub.status.busy": "2025-03-19T10:50:12.149614Z",
     "iopub.status.idle": "2025-03-19T10:50:12.154634Z",
     "shell.execute_reply": "2025-03-19T10:50:12.153763Z"
    },
    "slideshow": {
     "slide_type": "fragment"
    }
   },
   "outputs": [],
   "source": [
    "# \"Input\" values \n",
    "rick_chips = 137\n",
    "morty_chips = 731\n",
    "\n",
    "if rick_chips > morty_chips:\n",
    "    print(\"Rick won\")\n",
    "elif morty_chips > rick_chips:\n",
    "    print(\"Morty won\")\n",
    "else:\n",
    "    print(\"It's a tie!\")\n",
    "    \n",
    "print(\"end\")"
   ]
  },
  {
   "cell_type": "markdown",
   "id": "d3ca3841",
   "metadata": {
    "slideshow": {
     "slide_type": "subslide"
    }
   },
   "source": [
    "#### Example #4: nested `if`"
   ]
  },
  {
   "cell_type": "markdown",
   "id": "6328c26c",
   "metadata": {
    "slideshow": {
     "slide_type": "subslide"
    }
   },
   "source": [
    "#### Write a function that check if number is divisilbe by 2,3,6"
   ]
  },
  {
   "cell_type": "code",
   "execution_count": null,
   "id": "8bc2780a",
   "metadata": {
    "execution": {
     "iopub.execute_input": "2025-03-19T10:50:12.158169Z",
     "iopub.status.busy": "2025-03-19T10:50:12.157572Z",
     "iopub.status.idle": "2025-03-19T10:50:12.162677Z",
     "shell.execute_reply": "2025-03-19T10:50:12.161838Z"
    },
    "slideshow": {
     "slide_type": "fragment"
    }
   },
   "outputs": [],
   "source": [
    "# \"Input\" values \n",
    "\n",
    "def is_divisible(n):\n",
    "    if n % 3 == 0: \n",
    "        if n % 2 == 0: # NESTED if\n",
    "            print('divisible by 2,3,6')\n",
    "        else: # NESTED else, pertains to INNER if.\n",
    "            print('divisible by 3')\n",
    "    else: # Not nested, thus pertains to OUTER if.\n",
    "        if n % 2 == 0: # NESTED if\n",
    "            print('divisible by 2')\n",
    "        else:\n",
    "            print(n + ' is not divisible by 3.')"
   ]
  },
  {
   "cell_type": "code",
   "execution_count": null,
   "id": "7252ffab",
   "metadata": {
    "execution": {
     "iopub.execute_input": "2025-03-19T10:50:12.165929Z",
     "iopub.status.busy": "2025-03-19T10:50:12.165429Z",
     "iopub.status.idle": "2025-03-19T10:50:12.169645Z",
     "shell.execute_reply": "2025-03-19T10:50:12.168798Z"
    },
    "slideshow": {
     "slide_type": "fragment"
    }
   },
   "outputs": [],
   "source": [
    "is_divisible(138)"
   ]
  },
  {
   "cell_type": "markdown",
   "id": "7a29db6f",
   "metadata": {
    "slideshow": {
     "slide_type": "slide"
    }
   },
   "source": [
    "## Program Readability"
   ]
  },
  {
   "cell_type": "markdown",
   "id": "9b6389cb",
   "metadata": {
    "slideshow": {
     "slide_type": "fragment"
    }
   },
   "source": [
    "- Real computer programs include thousands of code lines, lots of variables.\n",
    "\n",
    "- Readability is very important for code maintenance.\n",
    "\n",
    "- Below are some programming conventions that are crucial \n",
    "   for readability."
   ]
  },
  {
   "cell_type": "markdown",
   "id": "13b7606e",
   "metadata": {
    "slideshow": {
     "slide_type": "fragment"
    }
   },
   "source": [
    "- Choose **informative variable names**:\n",
    "\n",
    "|||||\n",
    "|:--|:--|:--|:--|\n",
    "|**Not informative:**|a_string|sm|w\n",
    "|**Informative:**|student_name|sum_of_expenses|word_count\n",
    "\n",
    "- Are i, j, m, n informative names?    \n",
    "    - Depends on context."
   ]
  },
  {
   "cell_type": "markdown",
   "id": "f70b3dba",
   "metadata": {
    "slideshow": {
     "slide_type": "subslide"
    }
   },
   "source": [
    "\n",
    "- **Comments:**   \n",
    "    - Option 1: begin with # (until end of line)\n",
    "    - Option 2: surrounded by \"\"\" (3 double quotes) when spanned over multiple lines\n",
    "- **Documentation is most important** before ‘logical units’ or complex implementation"
   ]
  },
  {
   "cell_type": "markdown",
   "id": "6eadfcd6",
   "metadata": {
    "slideshow": {
     "slide_type": "slide"
    }
   },
   "source": [
    "## Understanding Errors"
   ]
  },
  {
   "cell_type": "code",
   "execution_count": null,
   "id": "b9ca6599",
   "metadata": {
    "execution": {
     "iopub.execute_input": "2025-03-19T10:50:12.173254Z",
     "iopub.status.busy": "2025-03-19T10:50:12.172696Z",
     "iopub.status.idle": "2025-03-19T10:50:12.191278Z",
     "shell.execute_reply": "2025-03-19T10:50:12.190443Z"
    },
    "slideshow": {
     "slide_type": "fragment"
    },
    "tags": [
     "raises-exception"
    ]
   },
   "outputs": [],
   "source": [
    "0/0"
   ]
  },
  {
   "cell_type": "code",
   "execution_count": null,
   "id": "7191992d",
   "metadata": {
    "execution": {
     "iopub.execute_input": "2025-03-19T10:50:12.194570Z",
     "iopub.status.busy": "2025-03-19T10:50:12.194068Z",
     "iopub.status.idle": "2025-03-19T10:50:12.212480Z",
     "shell.execute_reply": "2025-03-19T10:50:12.211664Z"
    },
    "slideshow": {
     "slide_type": "fragment"
    },
    "tags": [
     "raises-exception"
    ]
   },
   "outputs": [],
   "source": [
    "print(check_this)"
   ]
  },
  {
   "cell_type": "markdown",
   "id": "d229c68a",
   "metadata": {
    "slideshow": {
     "slide_type": "subslide"
    }
   },
   "source": [
    "## “My Code doesn’t Work!”"
   ]
  },
  {
   "cell_type": "markdown",
   "id": "15c3d155",
   "metadata": {
    "slideshow": {
     "slide_type": "fragment"
    }
   },
   "source": [
    "- Go over your code carefully\n",
    "- Consult course slides\n",
    "- Google (a useful and legitimate source. e.g., [stackoverflow](https://stackoverflow.com/)"
   ]
  }
 ],
 "metadata": {
  "celltoolbar": "Slideshow",
  "kernelspec": {
   "display_name": "Python 3 (ipykernel)",
   "language": "python",
   "name": "python3"
  },
  "language_info": {
   "codemirror_mode": {
    "name": "ipython",
    "version": 3
   },
   "file_extension": ".py",
   "mimetype": "text/x-python",
   "name": "python",
   "nbconvert_exporter": "python",
   "pygments_lexer": "ipython3",
   "version": "3.11.12"
  }
 },
 "nbformat": 4,
 "nbformat_minor": 5
}
