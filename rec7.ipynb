{
 "cells": [
  {
   "cell_type": "code",
   "execution_count": null,
   "id": "0f1738ed",
   "metadata": {
    "execution": {
     "iopub.execute_input": "2025-03-19T10:54:03.393054Z",
     "iopub.status.busy": "2025-03-19T10:54:03.392720Z",
     "iopub.status.idle": "2025-03-19T10:54:03.408609Z",
     "shell.execute_reply": "2025-03-19T10:54:03.407797Z"
    },
    "id": "d8dd8f67",
    "slideshow": {
     "slide_type": "skip"
    },
    "tags": [
     "remove-cell"
    ]
   },
   "outputs": [],
   "source": [
    "%%html\n",
    "<style>\n",
    "table {display: inline-block}\n",
    "td {text-align:left}\n",
    ".consoleMachineFont {color:blue;font-family:Courier}\n",
    ".consoleUserFont {font-family:Courier}\n",
    "</style>"
   ]
  },
  {
   "cell_type": "markdown",
   "id": "f94fb0c5",
   "metadata": {
    "id": "f6528a92",
    "slideshow": {
     "slide_type": "slide"
    }
   },
   "source": [
    "# Object-Oriented Programming (part 1/2)\n",
    "## Python Programming for Engineers\n",
    "### Tel-Aviv University / 0509-1820 / Fall 2025-2026"
   ]
  },
  {
   "cell_type": "markdown",
   "id": "875fdec5",
   "metadata": {
    "id": "482676c5",
    "slideshow": {
     "slide_type": "slide"
    }
   },
   "source": [
    "## Agenda: Object-Oriented Programming (OOP)\n",
    "- Tuple comparison\n",
    "- Building classes\n",
    "    - Date (partially self-learning)\n",
    "    -  Event\n",
    "    -  Calendar\n",
    "-  `sort` functionality (self-learning)"
   ]
  },
  {
   "cell_type": "markdown",
   "id": "a17aa1e5-601f-4ba7-95f0-83432b9ff857",
   "metadata": {
    "id": "75117644",
    "slideshow": {
     "slide_type": "slide"
    }
   },
   "source": [
    "### Tuples comparison\n"
   ]
  },
  {
   "cell_type": "markdown",
   "id": "6f4ecc09",
   "metadata": {
    "slideshow": {
     "slide_type": "subslide"
    }
   },
   "source": [
    "#### Tuples and lists are compared lexicographically"
   ]
  },
  {
   "cell_type": "code",
   "execution_count": null,
   "id": "2a6dc34d",
   "metadata": {
    "execution": {
     "iopub.execute_input": "2025-03-19T10:54:05.200398Z",
     "iopub.status.busy": "2025-03-19T10:54:05.200088Z",
     "iopub.status.idle": "2025-03-19T10:54:05.204500Z",
     "shell.execute_reply": "2025-03-19T10:54:05.203790Z"
    },
    "id": "418d0d3a",
    "slideshow": {
     "slide_type": "fragment"
    }
   },
   "outputs": [],
   "source": [
    "print((7,3,1) > (1,3,7))\n",
    "print((3,1,7) > (7,1,3))"
   ]
  },
  {
   "cell_type": "code",
   "execution_count": null,
   "id": "980557cc",
   "metadata": {
    "execution": {
     "iopub.execute_input": "2025-03-19T10:54:05.207568Z",
     "iopub.status.busy": "2025-03-19T10:54:05.207290Z",
     "iopub.status.idle": "2025-03-19T10:54:05.211518Z",
     "shell.execute_reply": "2025-03-19T10:54:05.210663Z"
    },
    "id": "418d0d3a",
    "slideshow": {
     "slide_type": "fragment"
    }
   },
   "outputs": [],
   "source": [
    "print((7,3,5) > (7,4,2))"
   ]
  },
  {
   "cell_type": "markdown",
   "id": "210b3e61",
   "metadata": {
    "id": "d505ad5a",
    "slideshow": {
     "slide_type": "slide"
    }
   },
   "source": [
    "### Objective: represent dates as a Python objects\n",
    "- A date contains year, month day\n",
    "- A date object can be queried and manipulated (e.g., `set_day(13)`)"
   ]
  },
  {
   "cell_type": "markdown",
   "id": "f847bff0",
   "metadata": {
    "id": "322c30ac",
    "slideshow": {
     "slide_type": "subslide"
    }
   },
   "source": [
    "### Solution 1: We can use a `list`\n",
    "- `date[0]` would hold the day\n",
    "  `date[1]` would hold the month\n",
    "  `date[2]` would hold the year\n",
    "\n",
    "```python\n",
    "dt = [13,7,2137]\n",
    "```"
   ]
  },
  {
   "cell_type": "markdown",
   "id": "1a242d5f",
   "metadata": {
    "id": "b8bad5be",
    "slideshow": {
     "slide_type": "fragment"
    }
   },
   "source": [
    "#### Problems\n",
    "- Hard to remember/explain which index represent each component\n",
    "- Confusing and hard to debug    "
   ]
  },
  {
   "cell_type": "markdown",
   "id": "c75eaa85",
   "metadata": {
    "id": "52d771d0",
    "slideshow": {
     "slide_type": "subslide"
    }
   },
   "source": [
    "### Solution 2: We can use a `dict` (dictionary)\n",
    "- `date['day']` would hold the day\n",
    "  `date['month']` would hold the month\n",
    "  `date['year']` would hold the year\n",
    "\n",
    "```python\n",
    "dt = {'year':2137, 'day':13, 'month':7}\n",
    "```"
   ]
  },
  {
   "cell_type": "markdown",
   "id": "84b86104",
   "metadata": {
    "id": "ac3e36d7",
    "slideshow": {
     "slide_type": "fragment"
    }
   },
   "source": [
    "#### Problems\n",
    "- No way to guarantee that the date is valid\n",
    "- Function are not aware the the object (or context) from which they got executed (i.e. using dot notation. e.g.,  using `dt.set_day(13)` instead of `set_day(dt,13)`)"
   ]
  },
  {
   "cell_type": "markdown",
   "id": "7dbbb1bb",
   "metadata": {
    "id": "c2579435",
    "slideshow": {
     "slide_type": "slide"
    }
   },
   "source": [
    "### Solution 3: Class\n",
    "\n",
    "```python\n",
    "class <classname>:\n",
    "\tstatement_1\n",
    "\t.\n",
    "\t.\n",
    "\tstatement_n\n",
    "```\n",
    "- The methods of a class get the instance as the first parameter – self\n",
    "- The method __init__ is called upon object construction (if available)"
   ]
  },
  {
   "cell_type": "markdown",
   "id": "9247825e",
   "metadata": {
    "id": "e452d3df",
    "slideshow": {
     "slide_type": "slide"
    }
   },
   "source": [
    "### The concept of classes\n",
    "\n",
    "#### Objects are natural to us: everything in one place\n",
    "- Hold data (in most cases)\n",
    "- May be manipulated\n",
    "- Can provide services/behaviours of object **instances** or object **type** (i.e. the class)\n",
    "\n",
    "<img src='data:image/png;base64,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'>\n"
   ]
  },
  {
   "cell_type": "markdown",
   "id": "13b46513",
   "metadata": {
    "id": "657ee5b5",
    "slideshow": {
     "slide_type": "subslide"
    }
   },
   "source": [
    "## Date class"
   ]
  },
  {
   "cell_type": "markdown",
   "id": "7dee3253",
   "metadata": {
    "id": "0117276f",
    "slideshow": {
     "slide_type": "fragment"
    }
   },
   "source": [
    "- Every date has day, month and year (maintained in different fields)\n",
    "    - a month between 1 and 12\n",
    "    - a day between 1 and 30 (let’s keep it simple…)"
   ]
  },
  {
   "cell_type": "code",
   "execution_count": null,
   "id": "1ed87e05",
   "metadata": {
    "execution": {
     "iopub.execute_input": "2025-03-19T10:54:03.413086Z",
     "iopub.status.busy": "2025-03-19T10:54:03.412557Z",
     "iopub.status.idle": "2025-03-19T10:54:03.416877Z",
     "shell.execute_reply": "2025-03-19T10:54:03.416094Z"
    },
    "id": "e9c69c01",
    "slideshow": {
     "slide_type": "fragment"
    }
   },
   "outputs": [],
   "source": [
    "class Date:\n",
    "    def __init__(self, day, month, year):\n",
    "        self.day = day\n",
    "        self.month = month\n",
    "        self.year = year"
   ]
  },
  {
   "cell_type": "code",
   "execution_count": null,
   "id": "f3317fa0",
   "metadata": {
    "colab": {
     "base_uri": "https://localhost:8080/"
    },
    "execution": {
     "iopub.execute_input": "2025-03-19T10:54:03.420146Z",
     "iopub.status.busy": "2025-03-19T10:54:03.419803Z",
     "iopub.status.idle": "2025-03-19T10:54:03.424721Z",
     "shell.execute_reply": "2025-03-19T10:54:03.423925Z"
    },
    "executionInfo": {
     "elapsed": 328,
     "status": "ok",
     "timestamp": 1709141057864,
     "user": {
      "displayName": "Sapir Shemesh",
      "userId": "12117924633784516353"
     },
     "user_tz": -120
    },
    "id": "0ae0b511",
    "outputId": "87ee3484-883c-4ab0-bada-1d7f91333d5c",
    "slideshow": {
     "slide_type": "fragment"
    }
   },
   "outputs": [],
   "source": [
    "d= Date(13,7,2137)\n",
    "print(d.day)\n",
    "print(d.month)\n",
    "print(d.year)"
   ]
  },
  {
   "cell_type": "markdown",
   "id": "2250098c",
   "metadata": {
    "id": "f8ee331d",
    "slideshow": {
     "slide_type": "fragment"
    }
   },
   "source": [
    "#### <span style='color:red'>Date hasn't been validated yet<span>"
   ]
  },
  {
   "cell_type": "markdown",
   "id": "2f7866ae",
   "metadata": {
    "id": "f2ffff64",
    "slideshow": {
     "slide_type": "subslide"
    }
   },
   "source": [
    "### Date - with validation"
   ]
  },
  {
   "cell_type": "code",
   "execution_count": null,
   "id": "2535f8a3",
   "metadata": {
    "execution": {
     "iopub.execute_input": "2025-03-19T10:54:03.428184Z",
     "iopub.status.busy": "2025-03-19T10:54:03.427664Z",
     "iopub.status.idle": "2025-03-19T10:54:03.432876Z",
     "shell.execute_reply": "2025-03-19T10:54:03.432244Z"
    },
    "id": "c15a469e",
    "slideshow": {
     "slide_type": "fragment"
    }
   },
   "outputs": [],
   "source": [
    "class Date:\n",
    "    def __init__(self, day, month, year):\n",
    "        self.day = day\n",
    "        self.month = month\n",
    "        self.year = year\n",
    "        #### New code here! ####\n",
    "        if not self.validate(): # 'self' keyword with dot notation\n",
    "             print('Invalid date')\n",
    "        ########################\n",
    "\n",
    "    #### New method here! ####\n",
    "    def validate(self): # 'self' as an argument\n",
    "        return 1 <= self.month <= 12 and 1 <= self.day <= 30\n",
    "\n",
    "    #########################"
   ]
  },
  {
   "cell_type": "code",
   "execution_count": null,
   "id": "fe3e8050",
   "metadata": {
    "execution": {
     "iopub.execute_input": "2025-03-19T10:54:03.435946Z",
     "iopub.status.busy": "2025-03-19T10:54:03.435615Z",
     "iopub.status.idle": "2025-03-19T10:54:03.439828Z",
     "shell.execute_reply": "2025-03-19T10:54:03.439068Z"
    },
    "id": "c8c24445",
    "slideshow": {
     "slide_type": "fragment"
    }
   },
   "outputs": [],
   "source": [
    "print(Date(13,7,2021))"
   ]
  },
  {
   "cell_type": "markdown",
   "id": "145e845c",
   "metadata": {
    "id": "01364e43",
    "slideshow": {
     "slide_type": "fragment"
    }
   },
   "source": [
    "#### <span style='color:purple'>(1): What will be printed?</span>"
   ]
  },
  {
   "cell_type": "markdown",
   "id": "69e4f4fc",
   "metadata": {
    "id": "867b0b74",
    "slideshow": {
     "slide_type": "subslide"
    }
   },
   "source": [
    "#### What would happened if invalid values are given?"
   ]
  },
  {
   "cell_type": "code",
   "execution_count": null,
   "id": "fb87b6a1",
   "metadata": {
    "execution": {
     "iopub.execute_input": "2025-03-19T10:54:03.443071Z",
     "iopub.status.busy": "2025-03-19T10:54:03.442740Z",
     "iopub.status.idle": "2025-03-19T10:54:03.447094Z",
     "shell.execute_reply": "2025-03-19T10:54:03.446331Z"
    },
    "id": "1688036a",
    "slideshow": {
     "slide_type": "fragment"
    }
   },
   "outputs": [],
   "source": [
    "invalid_date=Date(7,13,2137)\n",
    "print(invalid_date)"
   ]
  },
  {
   "cell_type": "markdown",
   "id": "64c04529",
   "metadata": {
    "id": "10ae15b6",
    "slideshow": {
     "slide_type": "fragment"
    }
   },
   "source": [
    "#### Invalid dates are still created!"
   ]
  },
  {
   "cell_type": "markdown",
   "id": "aab669cb",
   "metadata": {
    "id": "f1a81b57",
    "slideshow": {
     "slide_type": "subslide"
    }
   },
   "source": [
    "### So far"
   ]
  },
  {
   "cell_type": "markdown",
   "id": "41310b32",
   "metadata": {
    "id": "5f2549fe",
    "slideshow": {
     "slide_type": "fragment"
    }
   },
   "source": [
    "- All the instances of our “Date” class hold a day, a month and a year attributes\n",
    "- We \"cannot\" create invalid dates"
   ]
  },
  {
   "cell_type": "markdown",
   "id": "1f9b0fc0",
   "metadata": {
    "id": "f1a81b57",
    "slideshow": {
     "slide_type": "subslide"
    }
   },
   "source": [
    "### Next"
   ]
  },
  {
   "cell_type": "markdown",
   "id": "12cfba87",
   "metadata": {
    "id": "19438016",
    "slideshow": {
     "slide_type": "fragment"
    }
   },
   "source": [
    "- Date comparison:\n",
    "```python\n",
    "def later_than(self, other):\n",
    "    '''True if self is later than other; False otherwise'''\n",
    "\n",
    "```\n",
    "- Increment days\n",
    "```python\n",
    "def increment_days(self, days):\n",
    "    ''' Increment the date by # of days specified in days.\n",
    "        Note: this method does not have a return statement!\n",
    "        What does it actually return?'''\n",
    "\n",
    " ``` "
   ]
  },
  {
   "cell_type": "markdown",
   "id": "a8c3f1bd",
   "metadata": {
    "id": "b1d81d71",
    "slideshow": {
     "slide_type": "fragment"
    }
   },
   "source": [
    "#### We need to define how to compare Dates"
   ]
  },
  {
   "cell_type": "markdown",
   "id": "91bb432b",
   "metadata": {
    "id": "c4d81723",
    "slideshow": {
     "slide_type": "slide"
    }
   },
   "source": [
    "### Date - with comparison"
   ]
  },
  {
   "cell_type": "code",
   "execution_count": null,
   "id": "c9aca3f2",
   "metadata": {
    "execution": {
     "iopub.execute_input": "2025-03-19T10:54:03.450689Z",
     "iopub.status.busy": "2025-03-19T10:54:03.450361Z",
     "iopub.status.idle": "2025-03-19T10:54:03.456630Z",
     "shell.execute_reply": "2025-03-19T10:54:03.455856Z"
    },
    "id": "dd9aabf5",
    "slideshow": {
     "slide_type": "fragment"
    }
   },
   "outputs": [],
   "source": [
    "class Date:\n",
    "    def __init__(self, day, month, year):\n",
    "        self.day = day\n",
    "        self.month = month\n",
    "        self.year = year\n",
    "        if not self.validate(): # 'self' keyword with dot notation\n",
    "            print('Invalid date')\n",
    "\n",
    "    def validate(self): # 'self' as an argument\n",
    "        if 1 <= self.month <= 12 and 1 <= self.day <= 30:\n",
    "            return True\n",
    "        else:\n",
    "            return False\n",
    "\n",
    "    #### New method here! ####\n",
    "    def later_than(self, other):\n",
    "        first = (self.year, self.month, self.day)\n",
    "        second = (other.year, other.month, other.day)\n",
    "        return first > second\n",
    "    ##########################"
   ]
  },
  {
   "cell_type": "code",
   "execution_count": null,
   "id": "02548671",
   "metadata": {
    "execution": {
     "iopub.execute_input": "2025-03-19T10:54:03.459592Z",
     "iopub.status.busy": "2025-03-19T10:54:03.459255Z",
     "iopub.status.idle": "2025-03-19T10:54:03.464255Z",
     "shell.execute_reply": "2025-03-19T10:54:03.463217Z"
    },
    "id": "a77f932f",
    "slideshow": {
     "slide_type": "fragment"
    }
   },
   "outputs": [],
   "source": [
    "d1 = Date(3,1,2137)\n",
    "d2 = Date(1,3,2137)\n",
    "print(d1.later_than(d2))\n",
    "print(d2.later_than(d1))"
   ]
  },
  {
   "cell_type": "markdown",
   "id": "aac0c9ac",
   "metadata": {
    "id": "9efe45b4",
    "slideshow": {
     "slide_type": "subslide"
    }
   },
   "source": [
    "### Date - with incrementation"
   ]
  },
  {
   "cell_type": "code",
   "execution_count": null,
   "id": "65276425",
   "metadata": {
    "execution": {
     "iopub.execute_input": "2025-03-19T10:54:03.467356Z",
     "iopub.status.busy": "2025-03-19T10:54:03.467022Z",
     "iopub.status.idle": "2025-03-19T10:54:03.474514Z",
     "shell.execute_reply": "2025-03-19T10:54:03.473758Z"
    },
    "id": "d9536f68",
    "slideshow": {
     "slide_type": "fragment"
    }
   },
   "outputs": [],
   "source": [
    "class Date:\n",
    "    def __init__(self, day, month, year):\n",
    "        self.day = day\n",
    "        self.month = month\n",
    "        self.year = year\n",
    "        if not self.validate(): # 'self' keyword with dot notation\n",
    "            print('Invalid date')\n",
    "\n",
    "    def validate(self): # 'self' as an argument\n",
    "        if 1 <= self.month <= 12 and 1 <= self.day <= 30:\n",
    "            return True\n",
    "        else:\n",
    "            return False\n",
    "\n",
    "\n",
    "    def later_than(self, other):\n",
    "        first = (self.year, self.month, self.day)\n",
    "        second = (other.year, other.month, other.day)\n",
    "        return first > second\n",
    "\n",
    "\n",
    "    #### New method here! ####\n",
    "    def increment_days(self, days):\n",
    "        self.day += days\n",
    "        while self.day > 30: #days are illegal\n",
    "            self.day -= 30   #keep it simple\n",
    "            self.month += 1\n",
    "            if self.month > 12:\n",
    "                self.month = 1\n",
    "                self.year += 1\n",
    "    ##########################"
   ]
  },
  {
   "cell_type": "markdown",
   "id": "29cedcaf",
   "metadata": {
    "id": "378b3220",
    "slideshow": {
     "slide_type": "subslide"
    }
   },
   "source": [
    "#### <span style='color:purple'>(2): What will be printed?</span>"
   ]
  },
  {
   "cell_type": "code",
   "execution_count": null,
   "id": "f726bd6a",
   "metadata": {
    "execution": {
     "iopub.execute_input": "2025-03-19T10:54:03.477636Z",
     "iopub.status.busy": "2025-03-19T10:54:03.477306Z",
     "iopub.status.idle": "2025-03-19T10:54:03.481835Z",
     "shell.execute_reply": "2025-03-19T10:54:03.481084Z"
    },
    "id": "d62d8c52",
    "slideshow": {
     "slide_type": "fragment"
    }
   },
   "outputs": [],
   "source": [
    "d1 = Date(13,7,2137)\n",
    "d1.increment_days(800)\n",
    "print(d1.day, d1.month, d1.year)"
   ]
  },
  {
   "cell_type": "markdown",
   "id": "c308a8a4",
   "metadata": {
    "id": "ecc66883",
    "slideshow": {
     "slide_type": "slide"
    }
   },
   "source": [
    "## Adding time (self-learning)"
   ]
  },
  {
   "cell_type": "markdown",
   "id": "c83eb6f8",
   "metadata": {
    "id": "4e039fad",
    "slideshow": {
     "slide_type": "subslide"
    }
   },
   "source": [
    "#### What do we need to change?\n",
    "- Initialization of Date class\n",
    "- Validation (check that hours and minutes are legal)\n",
    "- Increment minutes (or hours)"
   ]
  },
  {
   "cell_type": "code",
   "execution_count": null,
   "id": "bc024cc0",
   "metadata": {
    "execution": {
     "iopub.execute_input": "2025-03-19T10:54:03.484941Z",
     "iopub.status.busy": "2025-03-19T10:54:03.484612Z",
     "iopub.status.idle": "2025-03-19T10:54:03.493308Z",
     "shell.execute_reply": "2025-03-19T10:54:03.492560Z"
    },
    "id": "cde43892",
    "slideshow": {
     "slide_type": "subslide"
    }
   },
   "outputs": [],
   "source": [
    "class Date:\n",
    "\n",
    "    def __init__(self, day, month, year, \\\n",
    "               hour=0, minute=0):\n",
    "        self.day = day\n",
    "        self.month = month\n",
    "        self.year = year\n",
    "        self.hour = hour\n",
    "        self.minute = minute\n",
    "        if not self.validate():\n",
    "            print('Invalid date')\n",
    "\n",
    "\n",
    "    def validate(self):\n",
    "        if  1 <= self.month <= 12 and \\\n",
    "        1 <= self.day <= 30 and \\\n",
    "        0 <= self.hour <= 23 and \\\n",
    "        0 <= self.minute <= 59:\n",
    "            return True\n",
    "        else:\n",
    "            return False\n",
    "\n",
    "\n",
    "    def later_than(self, other):\n",
    "        first = (self.year, self.month, self.day, \\\n",
    "                 self.hour, self.minute)\n",
    "        second = (other.year, other.month, other.day, \\\n",
    "                 other.hour, other.minute)\n",
    "        return first > second\n",
    "\n",
    "\n",
    "    def increment_hours(self, hours):\n",
    "        self.hour += hours\n",
    "        if self.hour > 23: #hours are illegal\n",
    "            self.increment_days(self.hour // 24)\n",
    "            self.hour = self.hour % 24\n",
    "\n",
    "\n",
    "    def increment_minutes(self, minutes):\n",
    "        self.minute += minutes\n",
    "        if self.minute > 59: #minutes are illegal\n",
    "            self.increment_hours(self.minute // 60)\n",
    "            self.minute = self.minute % 60\n"
   ]
  },
  {
   "cell_type": "markdown",
   "id": "47b1e56c",
   "metadata": {
    "id": "7a0994ea",
    "slideshow": {
     "slide_type": "slide"
    }
   },
   "source": [
    "## Calendar (+events)"
   ]
  },
  {
   "cell_type": "markdown",
   "id": "3211a923",
   "metadata": {
    "id": "1af9db84",
    "slideshow": {
     "slide_type": "fragment"
    }
   },
   "source": [
    "###  Calendar\n",
    "- Events (a list of sorted events)\n",
    "- Add event (with conflict detection)\n",
    "- Find an empty slot"
   ]
  },
  {
   "cell_type": "markdown",
   "id": "0956d917",
   "metadata": {
    "id": "178d22b8",
    "slideshow": {
     "slide_type": "fragment"
    }
   },
   "source": [
    "#### How does event look like?\n",
    "- Event\n",
    "    - Title\n",
    "    - Start time\n",
    "    - End time\n",
    "    - Is conflicting?"
   ]
  },
  {
   "cell_type": "markdown",
   "id": "369380c9",
   "metadata": {
    "id": "2e849b26",
    "slideshow": {
     "slide_type": "subslide"
    }
   },
   "source": [
    "## Classes' blueprint\n",
    "\n",
    "<img src='data:image/png;base64,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' width=900 height=900>"
   ]
  },
  {
   "cell_type": "markdown",
   "id": "c4a8b313",
   "metadata": {
    "id": "90074e88",
    "slideshow": {
     "slide_type": "subslide"
    }
   },
   "source": [
    "### Event constructor"
   ]
  },
  {
   "cell_type": "code",
   "execution_count": null,
   "id": "6dab97f7",
   "metadata": {
    "execution": {
     "iopub.execute_input": "2025-03-19T10:54:03.496887Z",
     "iopub.status.busy": "2025-03-19T10:54:03.496337Z",
     "iopub.status.idle": "2025-03-19T10:54:03.502814Z",
     "shell.execute_reply": "2025-03-19T10:54:03.502069Z"
    },
    "id": "6650818c",
    "slideshow": {
     "slide_type": "slide"
    }
   },
   "outputs": [],
   "source": [
    "class Event:\n",
    "\n",
    "    def __init__(self, title, start, end):\n",
    "        self.title = title\n",
    "        self.start = start\n",
    "        self.end = end\n",
    "        if start.later_than(end):\n",
    "            print(\"invalid dates: end time earlier than start time\")\n",
    "            self.start = end\n",
    "            self.end = start\n",
    "\n",
    "    def is_conflicting(self, other):\n",
    "        return not(other.start.later_than(self.end) or\n",
    "                   self.start.later_than(other.end))\n",
    "\n",
    "\n",
    "d1=Date(10,10,2020)\n",
    "d2=Date(20,10,2020)\n",
    "print(Event(\"t\", d1, d2))"
   ]
  },
  {
   "cell_type": "markdown",
   "id": "19139c73",
   "metadata": {
    "id": "6ea7c7e8",
    "slideshow": {
     "slide_type": "subslide"
    }
   },
   "source": [
    "### `Calendar` implementation"
   ]
  },
  {
   "cell_type": "code",
   "execution_count": null,
   "id": "e5c19556",
   "metadata": {
    "execution": {
     "iopub.execute_input": "2025-03-19T10:54:03.505895Z",
     "iopub.status.busy": "2025-03-19T10:54:03.505564Z",
     "iopub.status.idle": "2025-03-19T10:54:03.510707Z",
     "shell.execute_reply": "2025-03-19T10:54:03.509949Z"
    },
    "id": "e31544a2",
    "slideshow": {
     "slide_type": "fragment"
    }
   },
   "outputs": [],
   "source": [
    "class Calendar:\n",
    "    def __init__(self):\n",
    "        self.events = [] #events must be sorted by start time\n",
    "\n",
    "    def add_event(self, new_event):\n",
    "        for event in self.events:\n",
    "            if new_event.is_conflicting(event):\n",
    "                print('Conflict detected')\n",
    "                return\n",
    "        self.events.append(new_event)\n",
    "        self.events.sort(key=get_start_date)"
   ]
  },
  {
   "cell_type": "markdown",
   "id": "342e6374",
   "metadata": {
    "id": "a7367077",
    "slideshow": {
     "slide_type": "subslide"
    }
   },
   "source": [
    "#### <span style='color:purple'>(3): What will be printed?</span>"
   ]
  },
  {
   "cell_type": "code",
   "execution_count": null,
   "id": "f5ad6442",
   "metadata": {
    "execution": {
     "iopub.execute_input": "2025-03-19T10:54:03.513847Z",
     "iopub.status.busy": "2025-03-19T10:54:03.513510Z",
     "iopub.status.idle": "2025-03-19T10:54:04.949404Z",
     "shell.execute_reply": "2025-03-19T10:54:04.948439Z"
    },
    "id": "fb9d51f4",
    "slideshow": {
     "slide_type": "fragment"
    },
    "tags": [
     "raises-exception"
    ]
   },
   "outputs": [],
   "source": [
    "c = Calendar()\n",
    "e = Event('lecture', Date(13,7,2137,13,30), Date(13,7,2137,15,0))\n",
    "c.add_event(e)\n",
    "e = Event('lunch', Date(13,7,2137,12,0), Date(13,7,2137,13,0))\n",
    "c.add_event(e)\n",
    "\n",
    "print(c.events[-1].start.hour) "
   ]
  },
  {
   "cell_type": "markdown",
   "id": "f93cb761",
   "metadata": {
    "id": "4da66673",
    "slideshow": {
     "slide_type": "subslide"
    }
   },
   "source": [
    "### We need to implement the function `get_start_date`"
   ]
  },
  {
   "cell_type": "code",
   "execution_count": null,
   "id": "c238accc",
   "metadata": {
    "execution": {
     "iopub.execute_input": "2025-03-19T10:54:04.953211Z",
     "iopub.status.busy": "2025-03-19T10:54:04.952596Z",
     "iopub.status.idle": "2025-03-19T10:54:04.957340Z",
     "shell.execute_reply": "2025-03-19T10:54:04.956457Z"
    },
    "id": "1e0d6317",
    "slideshow": {
     "slide_type": "fragment"
    }
   },
   "outputs": [],
   "source": [
    "def get_start_date(event):\n",
    "    return  (event.start.year, event.start.month,\n",
    "            event.start.day, event.start.hour,\n",
    "            event.start.minute)"
   ]
  },
  {
   "cell_type": "code",
   "execution_count": null,
   "id": "9da5c40f",
   "metadata": {
    "execution": {
     "iopub.execute_input": "2025-03-19T10:54:04.960428Z",
     "iopub.status.busy": "2025-03-19T10:54:04.960001Z",
     "iopub.status.idle": "2025-03-19T10:54:04.966510Z",
     "shell.execute_reply": "2025-03-19T10:54:04.965599Z"
    },
    "id": "4c45450d",
    "slideshow": {
     "slide_type": "subslide"
    }
   },
   "outputs": [],
   "source": [
    "e = Event('dinner', Date(13,7,2137,19,30), Date(13,7,2137,20,30))\n",
    "get_start_date(e)"
   ]
  },
  {
   "cell_type": "markdown",
   "id": "34ec6a09",
   "metadata": {
    "id": "cb03ffaf",
    "slideshow": {
     "slide_type": "subslide"
    }
   },
   "source": [
    "### Alternatively, use lambda expression"
   ]
  },
  {
   "cell_type": "code",
   "execution_count": null,
   "id": "3e4d9caa",
   "metadata": {
    "execution": {
     "iopub.execute_input": "2025-03-19T10:54:04.969624Z",
     "iopub.status.busy": "2025-03-19T10:54:04.969322Z",
     "iopub.status.idle": "2025-03-19T10:54:04.975202Z",
     "shell.execute_reply": "2025-03-19T10:54:04.974265Z"
    },
    "id": "47549041",
    "slideshow": {
     "slide_type": "fragment"
    }
   },
   "outputs": [],
   "source": [
    "class Calendar:\n",
    "    def __init__(self):\n",
    "        self.events = [] #events must be sorted by start time\n",
    "\n",
    "    def add_event(self, new_event):\n",
    "        for event in self.events:\n",
    "            if new_event.is_conflicting(event):\n",
    "                print('Conflict detected')\n",
    "                return\n",
    "        self.events.append(new_event)\n",
    "        self.events.sort(key=lambda a: (a.start.year, a.start.month,\n",
    "            a.start.day, a.start.hour,\n",
    "            a.start.minute))"
   ]
  },
  {
   "cell_type": "code",
   "execution_count": null,
   "id": "62a6037f",
   "metadata": {
    "execution": {
     "iopub.execute_input": "2025-03-19T10:54:04.978418Z",
     "iopub.status.busy": "2025-03-19T10:54:04.977881Z",
     "iopub.status.idle": "2025-03-19T10:54:04.984299Z",
     "shell.execute_reply": "2025-03-19T10:54:04.983299Z"
    },
    "id": "1cf1486c",
    "slideshow": {
     "slide_type": "fragment"
    }
   },
   "outputs": [],
   "source": [
    "c = Calendar()\n",
    "e = Event('lecture', Date(13,7,2137,13,30), Date(13,7,2137,15,0))\n",
    "c.add_event(e)\n",
    "e = Event('lunch', Date(13,7,2137,12,0), Date(13,7,2137,13,0))\n",
    "c.add_event(e)\n",
    "\n",
    "print(c.events[0].start.hour)\n",
    "print(c.events[1].start.hour)"
   ]
  },
  {
   "cell_type": "markdown",
   "id": "04eda6e4",
   "metadata": {
    "slideshow": {
     "slide_type": "slide"
    }
   },
   "source": [
    "## Self Learning"
   ]
  },
  {
   "cell_type": "markdown",
   "id": "fa40615c",
   "metadata": {
    "id": "e7b6e62b",
    "slideshow": {
     "slide_type": "slide"
    }
   },
   "source": [
    "### `sort` functionality"
   ]
  },
  {
   "cell_type": "markdown",
   "id": "3b76b682",
   "metadata": {
    "id": "43150577",
    "slideshow": {
     "slide_type": "subslide"
    }
   },
   "source": [
    "### Reverse the sorting"
   ]
  },
  {
   "cell_type": "code",
   "execution_count": null,
   "id": "3e4ac314",
   "metadata": {
    "execution": {
     "iopub.execute_input": "2025-03-19T10:54:05.214575Z",
     "iopub.status.busy": "2025-03-19T10:54:05.214303Z",
     "iopub.status.idle": "2025-03-19T10:54:05.218772Z",
     "shell.execute_reply": "2025-03-19T10:54:05.218097Z"
    },
    "id": "c3b2c0d2",
    "slideshow": {
     "slide_type": "fragment"
    }
   },
   "outputs": [],
   "source": [
    "numbers = [3, 1, 7, 0]\n",
    "numbers.sort()\n",
    "print(numbers)\n",
    "numbers.sort(reverse=True)\n",
    "print(numbers)"
   ]
  },
  {
   "cell_type": "markdown",
   "id": "e1061c02",
   "metadata": {
    "id": "f727a9f6",
    "slideshow": {
     "slide_type": "subslide"
    }
   },
   "source": [
    "### Sort with respect to something"
   ]
  },
  {
   "cell_type": "markdown",
   "id": "051fd896",
   "metadata": {
    "id": "06459599",
    "slideshow": {
     "slide_type": "fragment"
    }
   },
   "source": [
    "#### Sorting accroding to length"
   ]
  },
  {
   "cell_type": "code",
   "execution_count": null,
   "id": "2c38b335",
   "metadata": {
    "execution": {
     "iopub.execute_input": "2025-03-19T10:54:05.221901Z",
     "iopub.status.busy": "2025-03-19T10:54:05.221629Z",
     "iopub.status.idle": "2025-03-19T10:54:05.226203Z",
     "shell.execute_reply": "2025-03-19T10:54:05.225529Z"
    },
    "id": "038ed704",
    "slideshow": {
     "slide_type": "fragment"
    }
   },
   "outputs": [],
   "source": [
    "names = ['Rick', 'Morty', 'Jerry', 'Beth', 'Summer']\n",
    "names.sort()\n",
    "print(names)\n",
    "\n",
    "names.sort(key=len)\n",
    "print(names)"
   ]
  },
  {
   "cell_type": "markdown",
   "id": "62cefd1c",
   "metadata": {
    "id": "ed71ebc0",
    "slideshow": {
     "slide_type": "subslide"
    }
   },
   "source": [
    "#### Sorting list of tuples by 2nd item in the tuple"
   ]
  },
  {
   "cell_type": "markdown",
   "id": "18985086",
   "metadata": {
    "id": "8fdb242c",
    "slideshow": {
     "slide_type": "fragment"
    }
   },
   "source": [
    "1. Make a function for extracting the property from any given item. In our case, the second item of the tuple"
   ]
  },
  {
   "cell_type": "code",
   "execution_count": null,
   "id": "1a4c2bfa",
   "metadata": {
    "execution": {
     "iopub.execute_input": "2025-03-19T10:54:05.229473Z",
     "iopub.status.busy": "2025-03-19T10:54:05.229017Z",
     "iopub.status.idle": "2025-03-19T10:54:05.232869Z",
     "shell.execute_reply": "2025-03-19T10:54:05.232077Z"
    },
    "id": "f4ea5966",
    "slideshow": {
     "slide_type": "fragment"
    }
   },
   "outputs": [],
   "source": [
    "def extract_second(tup):\n",
    "    return tup[1]"
   ]
  },
  {
   "cell_type": "markdown",
   "id": "02edeb7b",
   "metadata": {
    "id": "3165db3e",
    "slideshow": {
     "slide_type": "fragment"
    }
   },
   "source": [
    "2. Pass the function to sort as the key argument"
   ]
  },
  {
   "cell_type": "code",
   "execution_count": null,
   "id": "2c5d2c2a",
   "metadata": {
    "execution": {
     "iopub.execute_input": "2025-03-19T10:54:05.235868Z",
     "iopub.status.busy": "2025-03-19T10:54:05.235536Z",
     "iopub.status.idle": "2025-03-19T10:54:05.239902Z",
     "shell.execute_reply": "2025-03-19T10:54:05.239227Z"
    },
    "id": "70eeec5e",
    "slideshow": {
     "slide_type": "fragment"
    }
   },
   "outputs": [],
   "source": [
    "lst = [(1,3,7), (7,1,3), (3,7,1)]\n",
    "lst.sort(key = extract_second)\n",
    "print(lst)"
   ]
  },
  {
   "cell_type": "markdown",
   "id": "387b862b",
   "metadata": {
    "id": "a1703f39",
    "slideshow": {
     "slide_type": "subslide"
    }
   },
   "source": [
    "#### Or, do everything in a one-liner using lambda"
   ]
  },
  {
   "cell_type": "code",
   "execution_count": null,
   "id": "4c79d62b",
   "metadata": {
    "execution": {
     "iopub.execute_input": "2025-03-19T10:54:05.243165Z",
     "iopub.status.busy": "2025-03-19T10:54:05.242710Z",
     "iopub.status.idle": "2025-03-19T10:54:05.247124Z",
     "shell.execute_reply": "2025-03-19T10:54:05.246449Z"
    },
    "id": "b1c5a031",
    "slideshow": {
     "slide_type": "fragment"
    }
   },
   "outputs": [],
   "source": [
    "lst = [(1,3,7), (7,1,3), (3,7,1)]\n",
    "lst.sort(key = lambda a: a[1])\n",
    "print(lst)"
   ]
  },
  {
   "cell_type": "markdown",
   "id": "cbd3064e",
   "metadata": {
    "id": "dae4d237",
    "slideshow": {
     "slide_type": "subslide"
    }
   },
   "source": [
    "## `find_empty_slot` implementation\n",
    "implement the method `find_empty_slot(self, title, minutes)` that gets a title for the event and the duration in minutes.\n",
    "The method returns an Event object with the title and duration, placed in an available time within the calendar.\n",
    "\n",
    "Note: The available time must be the **earliest available time** occuring after the first calendar event."
   ]
  },
  {
   "cell_type": "code",
   "execution_count": null,
   "id": "5ace11b7",
   "metadata": {
    "execution": {
     "iopub.execute_input": "2025-03-19T10:54:04.987567Z",
     "iopub.status.busy": "2025-03-19T10:54:04.987081Z",
     "iopub.status.idle": "2025-03-19T10:54:04.994939Z",
     "shell.execute_reply": "2025-03-19T10:54:04.994003Z"
    },
    "id": "6b83b69b",
    "slideshow": {
     "slide_type": "fragment"
    }
   },
   "outputs": [],
   "source": [
    "# Solution\n",
    "class Calendar:\n",
    "    def __init__(self):\n",
    "        self.events = [] #events must be sorted by start time\n",
    "    def add_event(self, new_event):\n",
    "        for event in self.events:\n",
    "            if new_event.is_conflicting(event):\n",
    "                print('Conflict detected')\n",
    "                return\n",
    "        self.events.append(new_event)\n",
    "        self.events.sort(key=get_start_date)\n",
    "    ##### New method #####\n",
    "    def find_empty_slot(self, title, minutes):\n",
    "        for i in range(len(self.events)-1):\n",
    "            cpy = self.events[i].end\n",
    "            window_start = Date(cpy.day,cpy.month,cpy.year,\n",
    "                            cpy.hour,cpy.minute)\n",
    "            window_end = Date(cpy.day,cpy.month,cpy.year,\n",
    "                             cpy.hour,cpy.minute)\n",
    "            window_end.increment_minutes(minutes)\n",
    "\n",
    "            possible_window = Event(title, window_start, window_end)\n",
    "\n",
    "            if i == len(self.events)-1 or \\\n",
    "            not self.events[i+1].is_conflicting(possible_window):\n",
    "                return possible_window\n",
    "    ######################"
   ]
  },
  {
   "cell_type": "markdown",
   "id": "7eec2767",
   "metadata": {
    "id": "f303be7c",
    "slideshow": {
     "slide_type": "subslide"
    }
   },
   "source": [
    "#### <span style='color:purple'>(4): What will be printed?</span>"
   ]
  },
  {
   "cell_type": "code",
   "execution_count": null,
   "id": "c91520a5",
   "metadata": {
    "execution": {
     "iopub.execute_input": "2025-03-19T10:54:04.998115Z",
     "iopub.status.busy": "2025-03-19T10:54:04.997816Z",
     "iopub.status.idle": "2025-03-19T10:54:05.003946Z",
     "shell.execute_reply": "2025-03-19T10:54:05.003010Z"
    },
    "id": "5143589d",
    "slideshow": {
     "slide_type": "fragment"
    }
   },
   "outputs": [],
   "source": [
    "c = Calendar()\n",
    "e = Event('lecture', Date(13,7,2137,13,30), Date(13,7,2137,15,0))\n",
    "c.add_event(e)\n",
    "e = Event('lunch', Date(13,7,2137,12,0), Date(13,7,2137,13,0))\n",
    "c.add_event(e)\n",
    "e = c.find_empty_slot('45min', 45)\n",
    "print(get_start_date(e))"
   ]
  },
  {
   "cell_type": "markdown",
   "id": "34760ba8",
   "metadata": {
    "slideshow": {
     "slide_type": "subslide"
    }
   },
   "source": [
    "## Playing cards\n",
    "In this exercise, you will implement a class that represents a single playing card from a standard deck.\n",
    "Define a class named `PlayingCard` with the following:\n",
    "\n",
    "Each card should have the following attributes:\n",
    "- rank – an integer representing the card’s rank (e.g., 1-13)\n",
    "- suit – a string representing the card’s suit (\"hearts\", \"spades\", \"clubs\", \"diamonds\")\n",
    "\n",
    "The class should have the following methods:\n",
    "- Constructor - initialize both fields (rank, suit). If input was invalid, print \"Invalid input\".\n",
    "- `to_str(self)` - Returns a readable string such as \"1 of hearts\". If the card is Jack, Queen or King, it will print \"Jack of hearts\" etc.\n",
    "- `same_suit(self, other)` - Returns `True` if both cards have the same suit, and `False` otherwise.\n",
    "- `beats(self, other)` - Returns `True` if the current card is stronger than other, and `False` otherwise.  \n",
    "You can assume the following ranking order (from weakest to strongest):\n",
    "2 < 3 < 4 < 5 < 6 < 7 < 8 < 9 < 10 < J < Q < K < A (For simplicity, ignore the suit when comparing strength.)"
   ]
  },
  {
   "cell_type": "code",
   "execution_count": 1,
   "id": "57ae04eb",
   "metadata": {
    "slideshow": {
     "slide_type": "subslide"
    }
   },
   "outputs": [],
   "source": [
    "# Solution\n",
    "class PlayingCard:\n",
    "    def __init__(self, rank, suit):\n",
    "        suits = [\"hearts\", \"spades\", \"clubs\", \"diamonds\"]\n",
    "        if (type(rank) is not int) or (rank > 13) or (rank < 1) or (suit not in suits):\n",
    "            print (\"Invalid input\")\n",
    "        self.rank = rank\n",
    "        self.suit = suit\n",
    "    \n",
    "    def to_str(self):\n",
    "        royals = {11: \"Jack\", 12:\"Queen\", 13:\"King\"}\n",
    "        return f\"{royals.get(self.rank, self.rank)} of {self.suit}\"\n",
    "    \n",
    "    def same_suit(self, other):\n",
    "        return self.suit == other.suit\n",
    "    \n",
    "    def beats(self, other):\n",
    "        return self.rank > other.rank"
   ]
  },
  {
   "cell_type": "code",
   "execution_count": 5,
   "id": "193b94e3",
   "metadata": {
    "slideshow": {
     "slide_type": "fragment"
    }
   },
   "outputs": [
    {
     "name": "stdout",
     "output_type": "stream",
     "text": [
      "2 of hearts\n",
      "King of spades\n",
      "True\n",
      "False\n",
      "False\n",
      "True\n"
     ]
    }
   ],
   "source": [
    "c1 = PlayingCard(2, \"hearts\")\n",
    "c2 = PlayingCard(10, \"hearts\")\n",
    "c3 = PlayingCard(13, \"spades\")\n",
    "\n",
    "print(c1.to_str())\n",
    "print(c3.to_str())\n",
    "print(c1.same_suit(c2))   \n",
    "print(c1.same_suit(c3))   \n",
    "print(c2.beats(c3))       \n",
    "print(c3.beats(c2))       "
   ]
  }
 ],
 "metadata": {
  "celltoolbar": "Slideshow",
  "colab": {
   "provenance": []
  },
  "kernelspec": {
   "display_name": "Python 3 (ipykernel)",
   "language": "python",
   "name": "python3"
  },
  "language_info": {
   "codemirror_mode": {
    "name": "ipython",
    "version": 3
   },
   "file_extension": ".py",
   "mimetype": "text/x-python",
   "name": "python",
   "nbconvert_exporter": "python",
   "pygments_lexer": "ipython3",
   "version": "3.13.5"
  }
 },
 "nbformat": 4,
 "nbformat_minor": 5
}
