{
 "cells": [
  {
   "cell_type": "code",
   "execution_count": null,
   "id": "73c18fc9",
   "metadata": {
    "execution": {
     "iopub.execute_input": "2025-03-19T10:56:42.097723Z",
     "iopub.status.busy": "2025-03-19T10:56:42.097394Z",
     "iopub.status.idle": "2025-03-19T10:56:42.309903Z",
     "shell.execute_reply": "2025-03-19T10:56:42.309083Z"
    },
    "slideshow": {
     "slide_type": "skip"
    },
    "tags": [
     "remove-cell"
    ]
   },
   "outputs": [],
   "source": [
    "import urllib.request\n",
    "import zipfile\n",
    "import os\n",
    "\n",
    "try:\n",
    "    os.mkdir(\"files\")\n",
    "except:\n",
    "    pass\n",
    "\n",
    "with urllib.request.urlopen('https://courses.cs.tau.ac.il/pyProg/2425a/resources/notebook_resources.zip') as f:\n",
    "    content = f.read()\n",
    "\n",
    "with open('files/notebook_resources.zip', 'wb') as f:\n",
    "    f.write(content)\n",
    "\n",
    "with zipfile.ZipFile('files/notebook_resources.zip', 'r') as zip_ref:\n",
    "    zip_ref.extractall('files')\n",
    "\n",
    "print(os.listdir('files'))"
   ]
  },
  {
   "cell_type": "markdown",
   "id": "96b57327",
   "metadata": {
    "slideshow": {
     "slide_type": "slide",
     "tags": [
      "hide-cell"
     ]
    }
   },
   "source": [
    "# Libraries: Pandas (two weeks)\n",
    "\n",
    "## Python Programming for Engineers\n",
    "### Tel-Aviv University / 0509-1820 / Fall 2025-2026"
   ]
  },
  {
   "cell_type": "markdown",
   "id": "fb9e53df",
   "metadata": {
    "slideshow": {
     "slide_type": "slide"
    }
   },
   "source": [
    "## Agenda: Pandas\n",
    "\n",
    "- Introduction\n",
    "- Counteries datasets\n",
    "    - Data fetching\n",
    "    - Data cleaning\n",
    "    - Data analysis\n"
   ]
  },
  {
   "cell_type": "markdown",
   "id": "34c084c0",
   "metadata": {
    "slideshow": {
     "slide_type": "slide"
    }
   },
   "source": [
    "## Introduction to Pandas"
   ]
  },
  {
   "cell_type": "markdown",
   "id": "95f6a6a0",
   "metadata": {
    "slideshow": {
     "slide_type": "subslide"
    }
   },
   "source": [
    "## What is the Pandas package using for?"
   ]
  },
  {
   "cell_type": "markdown",
   "id": "47c4f40a",
   "metadata": {
    "slideshow": {
     "slide_type": "fragment"
    }
   },
   "source": [
    "- Calculate statistics and answer questions about (mostly tabular) data\n",
    "    - e.g., What's the average, median, max, or min of each column?\n",
    "- Clean the data by doing things like removing missing values and filtering rows or columns by some criteria\n",
    "- Visualize the data with help from Matplotlib. Plot bars, lines, histograms, bubbles, and more.\n",
    "- Store the cleaned, transformed data back into a **CSV**, other file or a database\n"
   ]
  },
  {
   "cell_type": "markdown",
   "id": "04eed15f",
   "metadata": {
    "slideshow": {
     "slide_type": "subslide"
    }
   },
   "source": [
    "### Dataframe"
   ]
  },
  {
   "cell_type": "markdown",
   "id": "4408f055",
   "metadata": {
    "slideshow": {
     "slide_type": "fragment"
    }
   },
   "source": [
    "- Dataframe is the primary pandas data structure. \n",
    "- A dataframe is a two-dimensional size-mutable, potentially heterogeneous tabular data structure with labeled axes (rows and columns). \n",
    "- **What is the main difference from a numpy array?**\n",
    "- Pandas enables arithmetic operations on both the rows and the columns of a dataframe.\n",
    "- It can be thought of as a dict-like container for Series objects. \n"
   ]
  },
  {
   "cell_type": "markdown",
   "id": "968dfb67",
   "metadata": {
    "slideshow": {
     "slide_type": "notes"
    }
   },
   "source": [
    "Slides 7-8"
   ]
  },
  {
   "cell_type": "markdown",
   "id": "b29d4e73",
   "metadata": {
    "slideshow": {
     "slide_type": "subslide"
    }
   },
   "source": [
    "### Basic operations (1)"
   ]
  },
  {
   "cell_type": "markdown",
   "id": "d0b91e0e",
   "metadata": {
    "slideshow": {
     "slide_type": "fragment"
    }
   },
   "source": [
    "#### Create a dataframe from a dictionary"
   ]
  },
  {
   "cell_type": "code",
   "execution_count": 1,
   "id": "7811552a",
   "metadata": {
    "execution": {
     "iopub.execute_input": "2025-03-19T10:56:42.314623Z",
     "iopub.status.busy": "2025-03-19T10:56:42.313916Z",
     "iopub.status.idle": "2025-03-19T10:56:59.418543Z",
     "shell.execute_reply": "2025-03-19T10:56:59.417738Z"
    },
    "slideshow": {
     "slide_type": "fragment"
    }
   },
   "outputs": [],
   "source": [
    "import pandas as pd\n",
    "import numpy as np # This is not mandatory for using Pandas\n",
    "import matplotlib.pyplot as plt # For plotting later"
   ]
  },
  {
   "cell_type": "code",
   "execution_count": 2,
   "id": "da4eb8c0",
   "metadata": {
    "execution": {
     "iopub.execute_input": "2025-03-19T10:56:59.422502Z",
     "iopub.status.busy": "2025-03-19T10:56:59.422001Z",
     "iopub.status.idle": "2025-03-19T10:56:59.427871Z",
     "shell.execute_reply": "2025-03-19T10:56:59.427146Z"
    },
    "slideshow": {
     "slide_type": "fragment"
    }
   },
   "outputs": [
    {
     "name": "stdout",
     "output_type": "stream",
     "text": [
      "\"Raw\" display. This is how dataframes usually displayed on console\n"
     ]
    }
   ],
   "source": [
    "d = {'Name': [\"Rick\", \"Morty\"], 'Dimension': [137, 132]}\n",
    "df = pd.DataFrame(data=d)\n",
    "print('\"Raw\" display. This is how dataframes usually displayed on console')"
   ]
  },
  {
   "cell_type": "code",
   "execution_count": 3,
   "id": "7d7f906f",
   "metadata": {
    "execution": {
     "iopub.execute_input": "2025-03-19T10:56:59.431395Z",
     "iopub.status.busy": "2025-03-19T10:56:59.430631Z",
     "iopub.status.idle": "2025-03-19T10:56:59.501110Z",
     "shell.execute_reply": "2025-03-19T10:56:59.500366Z"
    },
    "slideshow": {
     "slide_type": "fragment"
    }
   },
   "outputs": [
    {
     "name": "stdout",
     "output_type": "stream",
     "text": [
      "formatted display (only in Jupyter Notebooks)\n"
     ]
    },
    {
     "data": {
      "text/html": [
       "<div>\n",
       "<style scoped>\n",
       "    .dataframe tbody tr th:only-of-type {\n",
       "        vertical-align: middle;\n",
       "    }\n",
       "\n",
       "    .dataframe tbody tr th {\n",
       "        vertical-align: top;\n",
       "    }\n",
       "\n",
       "    .dataframe thead th {\n",
       "        text-align: right;\n",
       "    }\n",
       "</style>\n",
       "<table border=\"1\" class=\"dataframe\">\n",
       "  <thead>\n",
       "    <tr style=\"text-align: right;\">\n",
       "      <th></th>\n",
       "      <th>Name</th>\n",
       "      <th>Dimension</th>\n",
       "    </tr>\n",
       "  </thead>\n",
       "  <tbody>\n",
       "    <tr>\n",
       "      <th>0</th>\n",
       "      <td>Rick</td>\n",
       "      <td>137</td>\n",
       "    </tr>\n",
       "    <tr>\n",
       "      <th>1</th>\n",
       "      <td>Morty</td>\n",
       "      <td>132</td>\n",
       "    </tr>\n",
       "  </tbody>\n",
       "</table>\n",
       "</div>"
      ],
      "text/plain": [
       "    Name  Dimension\n",
       "0   Rick        137\n",
       "1  Morty        132"
      ]
     },
     "metadata": {},
     "output_type": "display_data"
    }
   ],
   "source": [
    "print('formatted display (only in Jupyter Notebooks)')\n",
    "display(df)"
   ]
  },
  {
   "cell_type": "markdown",
   "id": "c1fa9b15",
   "metadata": {
    "slideshow": {
     "slide_type": "subslide"
    }
   },
   "source": [
    "#### Create a dataframe from a numpy array"
   ]
  },
  {
   "cell_type": "code",
   "execution_count": null,
   "id": "38759321",
   "metadata": {
    "execution": {
     "iopub.execute_input": "2025-03-19T10:56:59.504646Z",
     "iopub.status.busy": "2025-03-19T10:56:59.503917Z",
     "iopub.status.idle": "2025-03-19T10:56:59.516399Z",
     "shell.execute_reply": "2025-03-19T10:56:59.515636Z"
    },
    "slideshow": {
     "slide_type": "fragment"
    }
   },
   "outputs": [],
   "source": [
    "df = pd.DataFrame([[\"Rick\", 136, 1, True], [\"Morty\", 134, 3, True], [\"Summer\", 130, 7, False]], \n",
    "                  columns=['Name', 'Dimension', 'Encounters', 'Is original']) # Columns names \n",
    "display(df)"
   ]
  },
  {
   "cell_type": "code",
   "execution_count": null,
   "id": "ebffad5c",
   "metadata": {
    "execution": {
     "iopub.execute_input": "2025-03-19T10:56:59.519301Z",
     "iopub.status.busy": "2025-03-19T10:56:59.518968Z",
     "iopub.status.idle": "2025-03-19T10:56:59.523535Z",
     "shell.execute_reply": "2025-03-19T10:56:59.522819Z"
    },
    "slideshow": {
     "slide_type": "fragment"
    }
   },
   "outputs": [],
   "source": [
    "print(df.columns)"
   ]
  },
  {
   "cell_type": "code",
   "execution_count": null,
   "id": "aa4d0afa",
   "metadata": {
    "execution": {
     "iopub.execute_input": "2025-03-19T10:56:59.526515Z",
     "iopub.status.busy": "2025-03-19T10:56:59.526192Z",
     "iopub.status.idle": "2025-03-19T10:56:59.530916Z",
     "shell.execute_reply": "2025-03-19T10:56:59.530184Z"
    },
    "slideshow": {
     "slide_type": "fragment"
    }
   },
   "outputs": [],
   "source": [
    "print(df[\"Name\"])"
   ]
  },
  {
   "cell_type": "markdown",
   "id": "bffbdebc",
   "metadata": {
    "slideshow": {
     "slide_type": "fragment"
    }
   },
   "source": [
    " #### <span style='color:purple'>(1): What will be printed? </span>"
   ]
  },
  {
   "cell_type": "code",
   "execution_count": null,
   "id": "e3b4a415",
   "metadata": {
    "execution": {
     "iopub.execute_input": "2025-03-19T10:56:59.534150Z",
     "iopub.status.busy": "2025-03-19T10:56:59.533819Z",
     "iopub.status.idle": "2025-03-19T10:56:59.538861Z",
     "shell.execute_reply": "2025-03-19T10:56:59.538156Z"
    },
    "slideshow": {
     "slide_type": "fragment"
    }
   },
   "outputs": [],
   "source": [
    "print(df[\"Dimension\"] + df[\"Encounters\"])"
   ]
  },
  {
   "cell_type": "code",
   "execution_count": null,
   "id": "c252063d",
   "metadata": {
    "execution": {
     "iopub.execute_input": "2025-03-19T10:56:59.541911Z",
     "iopub.status.busy": "2025-03-19T10:56:59.541587Z",
     "iopub.status.idle": "2025-03-19T10:56:59.547001Z",
     "shell.execute_reply": "2025-03-19T10:56:59.546284Z"
    },
    "slideshow": {
     "slide_type": "subslide"
    }
   },
   "outputs": [],
   "source": [
    "df[\"Dimension\"].dtype"
   ]
  },
  {
   "cell_type": "code",
   "execution_count": null,
   "id": "0525a36c",
   "metadata": {
    "execution": {
     "iopub.execute_input": "2025-03-19T10:56:59.550236Z",
     "iopub.status.busy": "2025-03-19T10:56:59.549736Z",
     "iopub.status.idle": "2025-03-19T10:56:59.554281Z",
     "shell.execute_reply": "2025-03-19T10:56:59.553540Z"
    },
    "slideshow": {
     "slide_type": "fragment"
    }
   },
   "outputs": [],
   "source": [
    "df2 = pd.DataFrame(np.array([[136, 1], [134, 3], [130, 7]]), \n",
    "                  columns=['Dimension', 'Encounters']) # Columns names"
   ]
  },
  {
   "cell_type": "markdown",
   "id": "9d2fed5b",
   "metadata": {
    "slideshow": {
     "slide_type": "fragment"
    }
   },
   "source": [
    " #### <span style='color:purple'> (2): What will be printed? </span>"
   ]
  },
  {
   "cell_type": "code",
   "execution_count": null,
   "id": "b8d24207",
   "metadata": {
    "execution": {
     "iopub.execute_input": "2025-03-19T10:56:59.557553Z",
     "iopub.status.busy": "2025-03-19T10:56:59.557050Z",
     "iopub.status.idle": "2025-03-19T10:56:59.562527Z",
     "shell.execute_reply": "2025-03-19T10:56:59.561800Z"
    },
    "slideshow": {
     "slide_type": "fragment"
    }
   },
   "outputs": [],
   "source": [
    "df2[\"Dimension\"].dtype"
   ]
  },
  {
   "cell_type": "code",
   "execution_count": null,
   "id": "ca4bc81c",
   "metadata": {
    "execution": {
     "iopub.execute_input": "2025-03-19T10:56:59.565648Z",
     "iopub.status.busy": "2025-03-19T10:56:59.565151Z",
     "iopub.status.idle": "2025-03-19T10:56:59.574037Z",
     "shell.execute_reply": "2025-03-19T10:56:59.573297Z"
    },
    "slideshow": {
     "slide_type": "fragment"
    }
   },
   "outputs": [],
   "source": [
    "df2 = pd.DataFrame(np.array([[136, 1], [134, 3], [130, 7]]), \n",
    "                  columns=['Dimension', 'Encounters']) # Column names\n",
    "\n",
    "display(df2[\"Dimension\"] + df2[\"Encounters\"])"
   ]
  },
  {
   "cell_type": "markdown",
   "id": "9cc84e1c",
   "metadata": {
    "slideshow": {
     "slide_type": "fragment"
    }
   },
   "source": [
    "#### <span style='color:red'>Make sure your dataframe types are correct!</span>"
   ]
  },
  {
   "cell_type": "markdown",
   "id": "f72f204c",
   "metadata": {
    "slideshow": {
     "slide_type": "subslide"
    }
   },
   "source": [
    "#### `iloc` and `loc`"
   ]
  },
  {
   "cell_type": "code",
   "execution_count": null,
   "id": "aa313c76",
   "metadata": {
    "execution": {
     "iopub.execute_input": "2025-03-19T10:56:59.577331Z",
     "iopub.status.busy": "2025-03-19T10:56:59.576901Z",
     "iopub.status.idle": "2025-03-19T10:56:59.586017Z",
     "shell.execute_reply": "2025-03-19T10:56:59.585280Z"
    },
    "slideshow": {
     "slide_type": "subslide"
    }
   },
   "outputs": [],
   "source": [
    "df = pd.DataFrame(np.array([[1, 2, 3], [4, 5, 6], [7, 8, 9]]),\n",
    "                  columns=['a', 'b', 'c'],index=[3, 4, 5])\n",
    "display(df)"
   ]
  },
  {
   "cell_type": "code",
   "execution_count": null,
   "id": "9d7c5194",
   "metadata": {
    "execution": {
     "iopub.execute_input": "2025-03-19T10:56:59.589438Z",
     "iopub.status.busy": "2025-03-19T10:56:59.588917Z",
     "iopub.status.idle": "2025-03-19T10:56:59.596760Z",
     "shell.execute_reply": "2025-03-19T10:56:59.596004Z"
    },
    "slideshow": {
     "slide_type": "fragment"
    }
   },
   "outputs": [],
   "source": [
    "display(df.iloc[:,:2]) "
   ]
  },
  {
   "cell_type": "code",
   "execution_count": null,
   "id": "26fead11",
   "metadata": {
    "execution": {
     "iopub.execute_input": "2025-03-19T10:56:59.599954Z",
     "iopub.status.busy": "2025-03-19T10:56:59.599435Z",
     "iopub.status.idle": "2025-03-19T10:56:59.607412Z",
     "shell.execute_reply": "2025-03-19T10:56:59.606689Z"
    },
    "slideshow": {
     "slide_type": "fragment"
    }
   },
   "outputs": [],
   "source": [
    "display(df.loc[:,:'b']) "
   ]
  },
  {
   "cell_type": "markdown",
   "id": "8c0aaeaa",
   "metadata": {
    "slideshow": {
     "slide_type": "fragment"
    }
   },
   "source": [
    "#### <span style='color:red'> Do not get confused between `df[]`, `df.loc[]` and `df.iloc[]`!</span>"
   ]
  },
  {
   "cell_type": "markdown",
   "id": "3deb1f29",
   "metadata": {
    "slideshow": {
     "slide_type": "subslide"
    }
   },
   "source": [
    "#### Pandas' classes"
   ]
  },
  {
   "cell_type": "markdown",
   "id": "617e5f12",
   "metadata": {
    "slideshow": {
     "slide_type": "fragment"
    }
   },
   "source": [
    " #### <span style='color:purple'> (3): What will be printed? </span>"
   ]
  },
  {
   "cell_type": "code",
   "execution_count": null,
   "id": "a13a9d96",
   "metadata": {
    "execution": {
     "iopub.execute_input": "2025-03-19T10:56:59.610772Z",
     "iopub.status.busy": "2025-03-19T10:56:59.610264Z",
     "iopub.status.idle": "2025-03-19T10:56:59.615087Z",
     "shell.execute_reply": "2025-03-19T10:56:59.614390Z"
    },
    "slideshow": {
     "slide_type": "fragment"
    }
   },
   "outputs": [],
   "source": [
    "print(type(df))\n",
    "print(type(df.iloc[0]))\n",
    "print(type(df.iloc[:,0]))"
   ]
  },
  {
   "cell_type": "markdown",
   "id": "b8e3847d",
   "metadata": {
    "slideshow": {
     "slide_type": "notes"
    }
   },
   "source": [
    "Slides 9-10"
   ]
  },
  {
   "cell_type": "markdown",
   "id": "4d8ed96f",
   "metadata": {
    "slideshow": {
     "slide_type": "slide"
    }
   },
   "source": [
    "## Example: Countries dataset"
   ]
  },
  {
   "cell_type": "markdown",
   "id": "01232378",
   "metadata": {
    "slideshow": {
     "slide_type": "fragment"
    }
   },
   "source": [
    "### Analysis steps"
   ]
  },
  {
   "cell_type": "markdown",
   "id": "1a13323f",
   "metadata": {
    "slideshow": {
     "slide_type": "fragment"
    }
   },
   "source": [
    "0. **Install pandas with anaconda as described <a href=http://courses.cs.tau.ac.il/pyProg/2122a/resources/pycharm%20tutorial.pdf>here (via Pycharm)</a> or <a href=https://docs.anaconda.com/anaconda/navigator/tutorials/pandas/>here (on windows)</a>**\n",
    "1. Get basic information\n",
    "2. Data cleaning – fill missing data\n",
    "3. Basic data analysis\n",
    "4. Data Visualization\n"
   ]
  },
  {
   "cell_type": "markdown",
   "id": "e73e2a48",
   "metadata": {
    "slideshow": {
     "slide_type": "notes"
    }
   },
   "source": [
    "Slides 11-14"
   ]
  },
  {
   "cell_type": "markdown",
   "id": "66dad6b6",
   "metadata": {
    "slideshow": {
     "slide_type": "slide"
    }
   },
   "source": [
    "## 1. Get basic information (and some more basic operations)"
   ]
  },
  {
   "cell_type": "markdown",
   "id": "375ebe34",
   "metadata": {
    "slideshow": {
     "slide_type": "fragment"
    }
   },
   "source": [
    "#### Read a csv"
   ]
  },
  {
   "cell_type": "code",
   "execution_count": null,
   "id": "21c4a023",
   "metadata": {
    "execution": {
     "iopub.execute_input": "2025-03-19T10:56:59.618880Z",
     "iopub.status.busy": "2025-03-19T10:56:59.618368Z",
     "iopub.status.idle": "2025-03-19T10:56:59.752058Z",
     "shell.execute_reply": "2025-03-19T10:56:59.751266Z"
    },
    "slideshow": {
     "slide_type": "fragment"
    }
   },
   "outputs": [],
   "source": [
    "df = pd.read_csv(\"files/countries-of-the-world.csv\")"
   ]
  },
  {
   "cell_type": "markdown",
   "id": "99aadd79",
   "metadata": {
    "slideshow": {
     "slide_type": "fragment"
    }
   },
   "source": [
    "#### Write dataframe to csv"
   ]
  },
  {
   "cell_type": "code",
   "execution_count": null,
   "id": "3b9d6d54",
   "metadata": {
    "execution": {
     "iopub.execute_input": "2025-03-19T10:56:59.756264Z",
     "iopub.status.busy": "2025-03-19T10:56:59.755264Z",
     "iopub.status.idle": "2025-03-19T10:56:59.791465Z",
     "shell.execute_reply": "2025-03-19T10:56:59.790617Z"
    },
    "slideshow": {
     "slide_type": "fragment"
    }
   },
   "outputs": [],
   "source": [
    "df.to_csv(\"files/countries-of-the-world_out.csv\")"
   ]
  },
  {
   "cell_type": "markdown",
   "id": "b41c62db",
   "metadata": {
    "slideshow": {
     "slide_type": "subslide"
    }
   },
   "source": [
    "#### Print the top 3 rows using the `head` function"
   ]
  },
  {
   "cell_type": "code",
   "execution_count": null,
   "id": "55fceaab",
   "metadata": {
    "execution": {
     "iopub.execute_input": "2025-03-19T10:56:59.795044Z",
     "iopub.status.busy": "2025-03-19T10:56:59.794375Z",
     "iopub.status.idle": "2025-03-19T10:56:59.808309Z",
     "shell.execute_reply": "2025-03-19T10:56:59.807516Z"
    },
    "slideshow": {
     "slide_type": "fragment"
    }
   },
   "outputs": [],
   "source": [
    "display(df.head(3))"
   ]
  },
  {
   "cell_type": "markdown",
   "id": "79b2c9b3",
   "metadata": {
    "slideshow": {
     "slide_type": "fragment"
    }
   },
   "source": [
    "#### <span style='color:red'>Note that NaN on the second row!</span>"
   ]
  },
  {
   "cell_type": "code",
   "execution_count": null,
   "id": "291dc52f",
   "metadata": {
    "execution": {
     "iopub.execute_input": "2025-03-19T10:56:59.811671Z",
     "iopub.status.busy": "2025-03-19T10:56:59.811146Z",
     "iopub.status.idle": "2025-03-19T10:56:59.822437Z",
     "shell.execute_reply": "2025-03-19T10:56:59.821691Z"
    },
    "slideshow": {
     "slide_type": "fragment"
    }
   },
   "outputs": [],
   "source": [
    "df.info()"
   ]
  },
  {
   "cell_type": "markdown",
   "id": "232c3fbd",
   "metadata": {
    "slideshow": {
     "slide_type": "notes"
    }
   },
   "source": [
    "Slides 15-23"
   ]
  },
  {
   "cell_type": "markdown",
   "id": "f0371753",
   "metadata": {
    "slideshow": {
     "slide_type": "slide"
    }
   },
   "source": [
    "## 2. Data cleaning"
   ]
  },
  {
   "cell_type": "markdown",
   "id": "b702c48e",
   "metadata": {
    "slideshow": {
     "slide_type": "fragment"
    }
   },
   "source": [
    "### fill missing values"
   ]
  },
  {
   "cell_type": "markdown",
   "id": "a958f72c",
   "metadata": {
    "slideshow": {
     "slide_type": "fragment"
    }
   },
   "source": [
    "#### Option 1: replace nan values with 0 (or any other constant value)"
   ]
  },
  {
   "cell_type": "code",
   "execution_count": null,
   "id": "f2b92c7e",
   "metadata": {
    "execution": {
     "iopub.execute_input": "2025-03-19T10:56:59.826191Z",
     "iopub.status.busy": "2025-03-19T10:56:59.825689Z",
     "iopub.status.idle": "2025-03-19T10:56:59.845892Z",
     "shell.execute_reply": "2025-03-19T10:56:59.845154Z"
    },
    "slideshow": {
     "slide_type": "fragment"
    }
   },
   "outputs": [],
   "source": [
    "df=pd.read_csv(\"files/countries-of-the-world.csv\").loc[[0,1,2,3],[\"Country\",\"Region\",\"Population\",\"Area\"]]\n",
    "display(df)\n",
    "df = df.fillna(0)\n",
    "display(df)"
   ]
  },
  {
   "cell_type": "markdown",
   "id": "afdf78bc",
   "metadata": {
    "slideshow": {
     "slide_type": "subslide"
    }
   },
   "source": [
    "#### Option 2: replace nan values with the average of the column"
   ]
  },
  {
   "cell_type": "code",
   "execution_count": null,
   "id": "7b828251",
   "metadata": {
    "execution": {
     "iopub.execute_input": "2025-03-19T10:56:59.849167Z",
     "iopub.status.busy": "2025-03-19T10:56:59.848819Z",
     "iopub.status.idle": "2025-03-19T10:56:59.869336Z",
     "shell.execute_reply": "2025-03-19T10:56:59.868590Z"
    },
    "slideshow": {
     "slide_type": "fragment"
    }
   },
   "outputs": [],
   "source": [
    "df=pd.read_csv(\"files/countries-of-the-world.csv\").loc[[0,1,2,3],[\"Country\",\"Region\",\"Population\",\"Area\"]]\n",
    "display(df)\n",
    "df['Population']=df['Population'].fillna(df.loc[:,'Population'].mean())\n",
    "print(df['Population'].mean())\n",
    "display(df)"
   ]
  },
  {
   "cell_type": "markdown",
   "id": "3a705752",
   "metadata": {
    "slideshow": {
     "slide_type": "subslide"
    }
   },
   "source": [
    "#### Option 3: drop all rows that have any NaN value"
   ]
  },
  {
   "cell_type": "code",
   "execution_count": null,
   "id": "641933c2",
   "metadata": {
    "execution": {
     "iopub.execute_input": "2025-03-19T10:56:59.872423Z",
     "iopub.status.busy": "2025-03-19T10:56:59.872056Z",
     "iopub.status.idle": "2025-03-19T10:56:59.891443Z",
     "shell.execute_reply": "2025-03-19T10:56:59.890730Z"
    },
    "slideshow": {
     "slide_type": "fragment"
    }
   },
   "outputs": [],
   "source": [
    "df = pd.read_csv(\"files/countries-of-the-world.csv\").loc[[0,1,2,3],[\"Country\",\"Region\",\"Population\",\"Area\"]]\n",
    "display(df)\n",
    "df = df.dropna()\n",
    "display(df)"
   ]
  },
  {
   "cell_type": "markdown",
   "id": "3840c9f1",
   "metadata": {
    "slideshow": {
     "slide_type": "subslide"
    }
   },
   "source": [
    "### Convert Square Miles to Square Kilometers"
   ]
  },
  {
   "cell_type": "markdown",
   "id": "85eae7aa",
   "metadata": {
    "slideshow": {
     "slide_type": "fragment"
    }
   },
   "source": [
    "#### Formula: 1 Square Mile =2.58 Square Kilometers"
   ]
  },
  {
   "cell_type": "code",
   "execution_count": null,
   "id": "f9cd0a1f",
   "metadata": {
    "execution": {
     "iopub.execute_input": "2025-03-19T10:56:59.894732Z",
     "iopub.status.busy": "2025-03-19T10:56:59.894396Z",
     "iopub.status.idle": "2025-03-19T10:56:59.909327Z",
     "shell.execute_reply": "2025-03-19T10:56:59.908633Z"
    },
    "slideshow": {
     "slide_type": "fragment"
    }
   },
   "outputs": [],
   "source": [
    "df = pd.read_csv(\"files/countries-of-the-world.csv\")\n",
    "df['Area kilometers'] = df['Area'].apply(lambda x: x*2.58) # Apply this lambda function on every cell in the Area column\n",
    "display(df.loc[:,[\"Area kilometers\",\"Area\"]])"
   ]
  },
  {
   "cell_type": "markdown",
   "id": "fb6383c6",
   "metadata": {
    "slideshow": {
     "slide_type": "subslide"
    }
   },
   "source": [
    "#### Add a new column"
   ]
  },
  {
   "cell_type": "code",
   "execution_count": null,
   "id": "36702cd6",
   "metadata": {
    "execution": {
     "iopub.execute_input": "2025-03-19T10:56:59.912597Z",
     "iopub.status.busy": "2025-03-19T10:56:59.912074Z",
     "iopub.status.idle": "2025-03-19T10:56:59.936431Z",
     "shell.execute_reply": "2025-03-19T10:56:59.935657Z"
    },
    "slideshow": {
     "slide_type": "fragment"
    }
   },
   "outputs": [],
   "source": [
    "df = pd.read_csv(\"files/countries-of-the-world.csv\").loc[[0,1,2,3],[\"Country\",\"Region\",\"Population\",\"Area\", \"Birthrate\", \"Deathrate\"]]\n",
    "display(df)\n",
    "\n",
    "df[\"Growing Rate\"] = df.apply(lambda row: row[\"Birthrate\"] - row[\"Deathrate\"], axis=1)\n",
    "display(df)"
   ]
  },
  {
   "cell_type": "markdown",
   "id": "16b60448",
   "metadata": {
    "slideshow": {
     "slide_type": "subslide"
    }
   },
   "source": [
    "#### A detailed (and longer) version"
   ]
  },
  {
   "cell_type": "code",
   "execution_count": null,
   "id": "253e22ea",
   "metadata": {
    "execution": {
     "iopub.execute_input": "2025-03-19T10:56:59.939906Z",
     "iopub.status.busy": "2025-03-19T10:56:59.939406Z",
     "iopub.status.idle": "2025-03-19T10:56:59.943362Z",
     "shell.execute_reply": "2025-03-19T10:56:59.942687Z"
    },
    "slideshow": {
     "slide_type": "fragment"
    }
   },
   "outputs": [],
   "source": [
    "def get_growing_rate(row):\n",
    "    return row[\"Birthrate\"] - row[\"Deathrate\"]"
   ]
  },
  {
   "cell_type": "code",
   "execution_count": null,
   "id": "000808d8",
   "metadata": {
    "execution": {
     "iopub.execute_input": "2025-03-19T10:56:59.946431Z",
     "iopub.status.busy": "2025-03-19T10:56:59.946111Z",
     "iopub.status.idle": "2025-03-19T10:56:59.958757Z",
     "shell.execute_reply": "2025-03-19T10:56:59.958017Z"
    },
    "slideshow": {
     "slide_type": "fragment"
    }
   },
   "outputs": [],
   "source": [
    "df[\"Growing Rate\"] = df.apply(get_growing_rate, axis=1)\n",
    "display(df)"
   ]
  },
  {
   "cell_type": "markdown",
   "id": "97832ae4",
   "metadata": {
    "slideshow": {
     "slide_type": "subslide"
    }
   },
   "source": [
    "#### Add a new country (row) to the dataframe"
   ]
  },
  {
   "cell_type": "markdown",
   "id": "bc38e8d6",
   "metadata": {
    "slideshow": {
     "slide_type": "fragment"
    }
   },
   "source": [
    " #### <span style='color:purple'> (4): What will be printed? </span>"
   ]
  },
  {
   "cell_type": "code",
   "execution_count": null,
   "id": "60cd1ec6",
   "metadata": {
    "execution": {
     "iopub.execute_input": "2025-03-19T10:56:59.961988Z",
     "iopub.status.busy": "2025-03-19T10:56:59.961654Z",
     "iopub.status.idle": "2025-03-19T10:56:59.973680Z",
     "shell.execute_reply": "2025-03-19T10:56:59.972884Z"
    },
    "slideshow": {
     "slide_type": "fragment"
    }
   },
   "outputs": [],
   "source": [
    "df = pd.read_csv(\"files/countries-of-the-world.csv\").loc[[0,1,2,3],[\"Country\",\"Region\",\"Population\",\"Area\"]]\n",
    "israel = pd.DataFrame([{\"Country\":\"Israel\", \"Region\":\"ASIA\",\"Population\": 8000000}])\n",
    "df = pd.concat((df, israel), ignore_index=True)\n",
    "display(df.iloc[4].loc['Area'])"
   ]
  },
  {
   "cell_type": "code",
   "execution_count": null,
   "id": "1cbbcb6d",
   "metadata": {
    "execution": {
     "iopub.execute_input": "2025-03-19T10:56:59.976678Z",
     "iopub.status.busy": "2025-03-19T10:56:59.976341Z",
     "iopub.status.idle": "2025-03-19T10:56:59.986162Z",
     "shell.execute_reply": "2025-03-19T10:56:59.985433Z"
    },
    "slideshow": {
     "slide_type": "fragment"
    }
   },
   "outputs": [],
   "source": [
    "display(df)"
   ]
  },
  {
   "cell_type": "markdown",
   "id": "1b53d3ca",
   "metadata": {
    "slideshow": {
     "slide_type": "subslide"
    }
   },
   "source": [
    "#### NaNs"
   ]
  },
  {
   "cell_type": "code",
   "execution_count": null,
   "id": "2ce8bd53",
   "metadata": {
    "execution": {
     "iopub.execute_input": "2025-03-19T10:56:59.989537Z",
     "iopub.status.busy": "2025-03-19T10:56:59.988985Z",
     "iopub.status.idle": "2025-03-19T10:56:59.993483Z",
     "shell.execute_reply": "2025-03-19T10:56:59.992753Z"
    },
    "slideshow": {
     "slide_type": "fragment"
    }
   },
   "outputs": [],
   "source": [
    "nan_val=df.iloc[4].loc['Area']\n",
    "print(nan_val)"
   ]
  },
  {
   "cell_type": "markdown",
   "id": "aedc39f8",
   "metadata": {
    "slideshow": {
     "slide_type": "fragment"
    }
   },
   "source": [
    "#### <span style='color:purple'>(5): What will be printed? </span>"
   ]
  },
  {
   "cell_type": "code",
   "execution_count": null,
   "id": "fc9b7854",
   "metadata": {
    "execution": {
     "iopub.execute_input": "2025-03-19T10:56:59.996804Z",
     "iopub.status.busy": "2025-03-19T10:56:59.996471Z",
     "iopub.status.idle": "2025-03-19T10:57:00.001778Z",
     "shell.execute_reply": "2025-03-19T10:57:00.001048Z"
    },
    "slideshow": {
     "slide_type": "fragment"
    }
   },
   "outputs": [],
   "source": [
    "print(np.nan==\"nan\")\n",
    "print(np.nan==\"NaN\")\n",
    "print(nan_val==np.nan)\n",
    "print(np.isnan(nan_val))\n",
    "print(pd.isnull(nan_val))\n",
    "print(np.isnan(np.nan))\n",
    "print(pd.isnull(np.nan))"
   ]
  },
  {
   "cell_type": "markdown",
   "id": "9b5d1cf6",
   "metadata": {
    "slideshow": {
     "slide_type": "subslide"
    }
   },
   "source": [
    "#### Delete the Area column"
   ]
  },
  {
   "cell_type": "code",
   "execution_count": null,
   "id": "46590200",
   "metadata": {
    "execution": {
     "iopub.execute_input": "2025-03-19T10:57:00.005117Z",
     "iopub.status.busy": "2025-03-19T10:57:00.004726Z",
     "iopub.status.idle": "2025-03-19T10:57:00.024007Z",
     "shell.execute_reply": "2025-03-19T10:57:00.023263Z"
    },
    "slideshow": {
     "slide_type": "fragment"
    }
   },
   "outputs": [],
   "source": [
    "df = pd.read_csv(\"files/countries-of-the-world.csv\").loc[[0,1,2,3],[\"Country\",\"Region\",\"Population\",\"Area\"]]\n",
    "display(df)\n",
    "\n",
    "df = df.drop(\"Area\",axis=1) \n",
    "# Axes 1 for column.  Use df.drop([“A”, “B”], 1) to drop both the A and B columns\n",
    "\n",
    "display(df)"
   ]
  },
  {
   "cell_type": "markdown",
   "id": "12f85741",
   "metadata": {
    "slideshow": {
     "slide_type": "subslide"
    }
   },
   "source": [
    "#### Delete the country Angola"
   ]
  },
  {
   "cell_type": "code",
   "execution_count": null,
   "id": "279e4557",
   "metadata": {
    "execution": {
     "iopub.execute_input": "2025-03-19T10:57:00.027181Z",
     "iopub.status.busy": "2025-03-19T10:57:00.026849Z",
     "iopub.status.idle": "2025-03-19T10:57:00.041037Z",
     "shell.execute_reply": "2025-03-19T10:57:00.040209Z"
    },
    "slideshow": {
     "slide_type": "fragment"
    }
   },
   "outputs": [],
   "source": [
    "df = pd.read_csv(\"files/countries-of-the-world.csv\").loc[[0,1,2,3],[\"Country\",\"Region\",\"Population\",\"Area\"]]\n",
    "df = df[df.Country != \"Angola\"]\n",
    "display(df)\n",
    "# This is equivalent\n",
    "# df = df[df['Country'] != \"Angola\"]"
   ]
  },
  {
   "cell_type": "markdown",
   "id": "a8e30b4f",
   "metadata": {
    "slideshow": {
     "slide_type": "subslide"
    }
   },
   "source": [
    "#### Leave only country Angola <u>and</u> Afghanistan"
   ]
  },
  {
   "cell_type": "code",
   "execution_count": null,
   "id": "6be3c3a1",
   "metadata": {
    "execution": {
     "iopub.execute_input": "2025-03-19T10:57:00.044308Z",
     "iopub.status.busy": "2025-03-19T10:57:00.043947Z",
     "iopub.status.idle": "2025-03-19T10:57:00.063104Z",
     "shell.execute_reply": "2025-03-19T10:57:00.062354Z"
    },
    "slideshow": {
     "slide_type": "fragment"
    }
   },
   "outputs": [],
   "source": [
    "df = pd.read_csv(\"files/countries-of-the-world.csv\").loc[[0,1,2,3],[\"Country\",\"Region\",\"Population\",\"Area\"]]\n",
    "display(df)\n",
    "\n",
    "countries = [\"Angola\",\"Afghanistan\"]\n",
    "df = df[df.Country.isin(countries)]\n",
    "display(df)"
   ]
  },
  {
   "cell_type": "markdown",
   "id": "41caaa57",
   "metadata": {
    "slideshow": {
     "slide_type": "subslide"
    }
   },
   "source": [
    " #### What will happen if we add `~` before `isin` ?"
   ]
  },
  {
   "cell_type": "markdown",
   "id": "674c69fa",
   "metadata": {
    "slideshow": {
     "slide_type": "fragment"
    }
   },
   "source": [
    " #### <span style='color:purple'>(6): Which countries will be printed?</span>"
   ]
  },
  {
   "cell_type": "code",
   "execution_count": null,
   "id": "cb85e021",
   "metadata": {
    "execution": {
     "iopub.execute_input": "2025-03-19T10:57:00.066628Z",
     "iopub.status.busy": "2025-03-19T10:57:00.066127Z",
     "iopub.status.idle": "2025-03-19T10:57:00.083249Z",
     "shell.execute_reply": "2025-03-19T10:57:00.082513Z"
    },
    "slideshow": {
     "slide_type": "fragment"
    }
   },
   "outputs": [],
   "source": [
    "df = pd.read_csv(\"files/countries-of-the-world.csv\").loc[[0,1,2,3],[\"Country\",\"Region\",\"Population\",\"Area\"]]\n",
    "display(df)\n",
    "\n",
    "countries = [\"Angola\",\"Afghanistan\"]\n",
    "df = df[~df.Country.isin(countries)] # ~ is for not. \n",
    "display(df.loc[:,\"Country\"])"
   ]
  },
  {
   "cell_type": "markdown",
   "id": "c360b5d1",
   "metadata": {
    "slideshow": {
     "slide_type": "subslide"
    }
   },
   "source": [
    "### Join Tables"
   ]
  },
  {
   "cell_type": "markdown",
   "id": "7d31653b",
   "metadata": {
    "slideshow": {
     "slide_type": "fragment"
    }
   },
   "source": [
    "- Given a new table with the same column names, merge the two tables into a single table"
   ]
  },
  {
   "cell_type": "code",
   "execution_count": null,
   "id": "8d1a47a4",
   "metadata": {
    "execution": {
     "iopub.execute_input": "2025-03-19T10:57:00.086704Z",
     "iopub.status.busy": "2025-03-19T10:57:00.086201Z",
     "iopub.status.idle": "2025-03-19T10:57:00.127111Z",
     "shell.execute_reply": "2025-03-19T10:57:00.126331Z"
    },
    "slideshow": {
     "slide_type": "fragment"
    }
   },
   "outputs": [],
   "source": [
    "df1 = pd.read_csv(\"files/countries-of-the-world.csv\").iloc[:3]\n",
    "df2 = pd.read_csv(\"files/countries-of-the-world.csv\").iloc[3:6]\n",
    "display(df1)\n",
    "display(df2)\n",
    "frames = [df1, df2]\n",
    "result = pd.concat(frames, axis=0)\n",
    "display(result)"
   ]
  },
  {
   "cell_type": "markdown",
   "id": "ee7fee4e",
   "metadata": {
    "slideshow": {
     "slide_type": "subslide"
    }
   },
   "source": [
    "#### Inner join – consider only the intersection of the tables\n",
    "- How many rows are in the intersection?\n",
    "\n",
    "#### Outer join – consider the union of the table, fill with Nan missing values.\n",
    "- How many rows are in the union?\n",
    "\n",
    "<img src='data:image/png;base64,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'>"
   ]
  },
  {
   "cell_type": "code",
   "execution_count": null,
   "id": "82fc3671",
   "metadata": {
    "execution": {
     "iopub.execute_input": "2025-03-19T10:57:00.130165Z",
     "iopub.status.busy": "2025-03-19T10:57:00.129820Z",
     "iopub.status.idle": "2025-03-19T10:57:00.145435Z",
     "shell.execute_reply": "2025-03-19T10:57:00.144726Z"
    },
    "slideshow": {
     "slide_type": "subslide"
    }
   },
   "outputs": [],
   "source": [
    "df1 = pd.read_csv(\"files/ex1.csv\")\n",
    "display(df1)\n",
    "df2 = pd.read_csv(\"files/ex2.csv\")\n",
    "display(df2)"
   ]
  },
  {
   "cell_type": "code",
   "execution_count": null,
   "id": "ce3ab461",
   "metadata": {
    "execution": {
     "iopub.execute_input": "2025-03-19T10:57:00.148690Z",
     "iopub.status.busy": "2025-03-19T10:57:00.148172Z",
     "iopub.status.idle": "2025-03-19T10:57:00.157633Z",
     "shell.execute_reply": "2025-03-19T10:57:00.156889Z"
    },
    "slideshow": {
     "slide_type": "fragment"
    }
   },
   "outputs": [],
   "source": [
    "pd.concat([df1,df2], axis=1)"
   ]
  },
  {
   "cell_type": "code",
   "execution_count": null,
   "id": "b94f3b73",
   "metadata": {
    "execution": {
     "iopub.execute_input": "2025-03-19T10:57:00.160628Z",
     "iopub.status.busy": "2025-03-19T10:57:00.160295Z",
     "iopub.status.idle": "2025-03-19T10:57:00.175478Z",
     "shell.execute_reply": "2025-03-19T10:57:00.174804Z"
    },
    "slideshow": {
     "slide_type": "subslide"
    }
   },
   "outputs": [],
   "source": [
    "df1 = pd.read_csv(\"files/ex1.csv\")\n",
    "display(df1)\n",
    "df2 = pd.read_csv(\"files/ex2.csv\")\n",
    "display(df2)"
   ]
  },
  {
   "cell_type": "code",
   "execution_count": null,
   "id": "94b9d7ee",
   "metadata": {
    "execution": {
     "iopub.execute_input": "2025-03-19T10:57:00.178570Z",
     "iopub.status.busy": "2025-03-19T10:57:00.178233Z",
     "iopub.status.idle": "2025-03-19T10:57:00.215568Z",
     "shell.execute_reply": "2025-03-19T10:57:00.214795Z"
    },
    "slideshow": {
     "slide_type": "fragment"
    }
   },
   "outputs": [],
   "source": [
    "inner = pd.merge(df1, df2, on='Product', how = 'outer')\n",
    "display(inner)"
   ]
  },
  {
   "cell_type": "markdown",
   "id": "c826d49a",
   "metadata": {
    "slideshow": {
     "slide_type": "fragment"
    }
   },
   "source": [
    " #### <span style='color:purple'> Kahoot! (7): How many rows in the printed table?</span>"
   ]
  },
  {
   "cell_type": "code",
   "execution_count": null,
   "id": "96cea4c0",
   "metadata": {
    "execution": {
     "iopub.execute_input": "2025-03-19T10:57:00.218583Z",
     "iopub.status.busy": "2025-03-19T10:57:00.218246Z",
     "iopub.status.idle": "2025-03-19T10:57:00.230902Z",
     "shell.execute_reply": "2025-03-19T10:57:00.230131Z"
    },
    "slideshow": {
     "slide_type": "fragment"
    }
   },
   "outputs": [],
   "source": [
    "outer = pd.merge(df1, df2, on='Product', how = 'outer')\n",
    "display(outer)"
   ]
  },
  {
   "cell_type": "markdown",
   "id": "7bbf783b",
   "metadata": {
    "slideshow": {
     "slide_type": "notes"
    }
   },
   "source": [
    "Slides 24-"
   ]
  },
  {
   "cell_type": "markdown",
   "id": "f17f9e6b",
   "metadata": {
    "slideshow": {
     "slide_type": "slide"
    }
   },
   "source": [
    "## 3. Data analysis"
   ]
  },
  {
   "cell_type": "markdown",
   "id": "9843cd9f",
   "metadata": {
    "slideshow": {
     "slide_type": "fragment"
    }
   },
   "source": [
    "####  Which country has the largest population?\n",
    "1. Find the **label** of the row with the maximum value in the population column (idxmax())\n",
    "2. Get the country name of the row with the obtained **label** (loc) "
   ]
  },
  {
   "cell_type": "code",
   "execution_count": null,
   "id": "86d5877c",
   "metadata": {
    "execution": {
     "iopub.execute_input": "2025-03-19T10:57:00.234190Z",
     "iopub.status.busy": "2025-03-19T10:57:00.233863Z",
     "iopub.status.idle": "2025-03-19T10:57:00.239597Z",
     "shell.execute_reply": "2025-03-19T10:57:00.238856Z"
    },
    "slideshow": {
     "slide_type": "fragment"
    }
   },
   "outputs": [],
   "source": [
    "label_max_pop = df[\"Population\"].idxmax()\n",
    "display(df.loc[label_max_pop][\"Country\"])"
   ]
  },
  {
   "cell_type": "markdown",
   "id": "a35f2d73",
   "metadata": {
    "slideshow": {
     "slide_type": "subslide"
    }
   },
   "source": [
    "#### How many countries have more than 1M people? \n",
    "1. Select all rows with Population > 1,000,000\n",
    "2. Count the number of selected rows (use len() to get the num of rows)"
   ]
  },
  {
   "cell_type": "code",
   "execution_count": null,
   "id": "1b4d18b6",
   "metadata": {
    "execution": {
     "iopub.execute_input": "2025-03-19T10:57:00.242643Z",
     "iopub.status.busy": "2025-03-19T10:57:00.242320Z",
     "iopub.status.idle": "2025-03-19T10:57:00.247483Z",
     "shell.execute_reply": "2025-03-19T10:57:00.246733Z"
    },
    "slideshow": {
     "slide_type": "fragment"
    }
   },
   "outputs": [],
   "source": [
    "print(len(df.loc[df['Population'] > 1000000]))"
   ]
  },
  {
   "cell_type": "code",
   "execution_count": null,
   "id": "44996b04",
   "metadata": {
    "execution": {
     "iopub.execute_input": "2025-03-19T10:57:00.250468Z",
     "iopub.status.busy": "2025-03-19T10:57:00.250148Z",
     "iopub.status.idle": "2025-03-19T10:57:00.255012Z",
     "shell.execute_reply": "2025-03-19T10:57:00.254254Z"
    },
    "slideshow": {
     "slide_type": "fragment"
    }
   },
   "outputs": [],
   "source": [
    "print(len(df[df['Population'] > 1000000]))"
   ]
  },
  {
   "cell_type": "code",
   "execution_count": null,
   "id": "99d39060",
   "metadata": {
    "execution": {
     "iopub.execute_input": "2025-03-19T10:57:00.258006Z",
     "iopub.status.busy": "2025-03-19T10:57:00.257690Z",
     "iopub.status.idle": "2025-03-19T10:57:00.262379Z",
     "shell.execute_reply": "2025-03-19T10:57:00.261636Z"
    },
    "slideshow": {
     "slide_type": "fragment"
    }
   },
   "outputs": [],
   "source": [
    "print((df['Population'] > 1000000).sum())"
   ]
  },
  {
   "cell_type": "markdown",
   "id": "6cfbc44e",
   "metadata": {
    "slideshow": {
     "slide_type": "subslide"
    }
   },
   "source": [
    "#### How many countries in **Oceania** have more than 1M peoples? \n",
    "- Select all countries from Oceania, with Population > 1,000,000\n",
    "- Count the number of selected rows (use len() to get the num of rows)"
   ]
  },
  {
   "cell_type": "code",
   "execution_count": null,
   "id": "8fd85fd7",
   "metadata": {
    "execution": {
     "iopub.execute_input": "2025-03-19T10:57:00.265453Z",
     "iopub.status.busy": "2025-03-19T10:57:00.265135Z",
     "iopub.status.idle": "2025-03-19T10:57:00.279726Z",
     "shell.execute_reply": "2025-03-19T10:57:00.278990Z"
    },
    "slideshow": {
     "slide_type": "fragment"
    }
   },
   "outputs": [],
   "source": [
    "df = pd.read_csv(\"files/countries-of-the-world.csv\").loc[:,[\"Country\",\"Region\",\"Population\",\"Area\"]]\n",
    "df = df[(df['Population'] > 1000000) & (df['Region'] == \"OCEANIA\")]\n",
    "display(df)\n",
    "print(len(df))"
   ]
  },
  {
   "cell_type": "markdown",
   "id": "c413658b",
   "metadata": {
    "slideshow": {
     "slide_type": "subslide"
    }
   },
   "source": [
    "#### Get all countries in the Oceania with Deathrate > 7"
   ]
  },
  {
   "cell_type": "code",
   "execution_count": null,
   "id": "97b8d945",
   "metadata": {
    "execution": {
     "iopub.execute_input": "2025-03-19T10:57:00.282840Z",
     "iopub.status.busy": "2025-03-19T10:57:00.282498Z",
     "iopub.status.idle": "2025-03-19T10:57:00.301406Z",
     "shell.execute_reply": "2025-03-19T10:57:00.300617Z"
    },
    "slideshow": {
     "slide_type": "fragment"
    }
   },
   "outputs": [],
   "source": [
    "df = pd.read_csv(\"files/countries-of-the-world.csv\")\n",
    "df = df[(df['Region'] == \"OCEANIA\") & (df['Deathrate'] > 7)]\n",
    "display(df)"
   ]
  },
  {
   "cell_type": "markdown",
   "id": "9a529045",
   "metadata": {
    "slideshow": {
     "slide_type": "subslide"
    }
   },
   "source": [
    "#### Sort the countries according to the population size"
   ]
  },
  {
   "cell_type": "code",
   "execution_count": null,
   "id": "2d47a739",
   "metadata": {
    "execution": {
     "iopub.execute_input": "2025-03-19T10:57:00.305252Z",
     "iopub.status.busy": "2025-03-19T10:57:00.304336Z",
     "iopub.status.idle": "2025-03-19T10:57:00.327031Z",
     "shell.execute_reply": "2025-03-19T10:57:00.326281Z"
    },
    "slideshow": {
     "slide_type": "fragment"
    }
   },
   "outputs": [],
   "source": [
    "df = pd.read_csv(\"files/countries-of-the-world.csv\")\n",
    "df = df.sort_values(['Population'], ascending=True)\n",
    "display(df)"
   ]
  },
  {
   "cell_type": "markdown",
   "id": "0321dd7a",
   "metadata": {
    "slideshow": {
     "slide_type": "subslide"
    }
   },
   "source": [
    "#### How to sort countries with the same/NaN population values?"
   ]
  },
  {
   "cell_type": "markdown",
   "id": "a1c41a8a",
   "metadata": {
    "slideshow": {
     "slide_type": "fragment"
    }
   },
   "source": [
    "#### Break ties according to area size"
   ]
  },
  {
   "cell_type": "code",
   "execution_count": null,
   "id": "d2fe99e0",
   "metadata": {
    "execution": {
     "iopub.execute_input": "2025-03-19T10:57:00.330571Z",
     "iopub.status.busy": "2025-03-19T10:57:00.329927Z",
     "iopub.status.idle": "2025-03-19T10:57:00.352356Z",
     "shell.execute_reply": "2025-03-19T10:57:00.351625Z"
    },
    "slideshow": {
     "slide_type": "fragment"
    }
   },
   "outputs": [],
   "source": [
    "df = pd.read_csv(\"files/countries-of-the-world.csv\")\n",
    "df = df.sort_values(['Population', 'Area'], ascending=True)\n",
    "display(df)"
   ]
  },
  {
   "cell_type": "markdown",
   "id": "7b71ba6e",
   "metadata": {
    "slideshow": {
     "slide_type": "subslide"
    }
   },
   "source": [
    "#### `groupby` "
   ]
  },
  {
   "cell_type": "markdown",
   "id": "6087a4d0",
   "metadata": {
    "slideshow": {
     "slide_type": "fragment"
    }
   },
   "source": [
    "#### What is the average population in each region? \n",
    "- Groupby region\n",
    "- Get the mean of the population column in every group"
   ]
  },
  {
   "cell_type": "code",
   "execution_count": null,
   "id": "08cc7221",
   "metadata": {
    "execution": {
     "iopub.execute_input": "2025-03-19T10:57:00.355553Z",
     "iopub.status.busy": "2025-03-19T10:57:00.355199Z",
     "iopub.status.idle": "2025-03-19T10:57:00.362715Z",
     "shell.execute_reply": "2025-03-19T10:57:00.362010Z"
    },
    "slideshow": {
     "slide_type": "fragment"
    }
   },
   "outputs": [],
   "source": [
    "display(df.groupby(['Region'])['Population'].mean())"
   ]
  },
  {
   "cell_type": "markdown",
   "id": "79b37a3a",
   "metadata": {
    "slideshow": {
     "slide_type": "subslide"
    }
   },
   "source": [
    "#### Which country in each region has the largest population?\n",
    "1. Grouby region\n",
    "2. Get the country with the maximum population in every group\n"
   ]
  },
  {
   "cell_type": "code",
   "execution_count": null,
   "id": "cf38151e",
   "metadata": {
    "execution": {
     "iopub.execute_input": "2025-03-19T10:57:00.365889Z",
     "iopub.status.busy": "2025-03-19T10:57:00.365354Z",
     "iopub.status.idle": "2025-03-19T10:57:00.375505Z",
     "shell.execute_reply": "2025-03-19T10:57:00.374779Z"
    },
    "slideshow": {
     "slide_type": "fragment"
    }
   },
   "outputs": [],
   "source": [
    "regions = df.groupby([\"Region\"])\n",
    "for name, group in regions:\n",
    "    label_max = group[\"Population\"].idxmax()\n",
    "    print(name, df.loc[label_max][\"Country\"])"
   ]
  },
  {
   "cell_type": "markdown",
   "id": "94ea9c02",
   "metadata": {
    "slideshow": {
     "slide_type": "subslide"
    }
   },
   "source": [
    "#### Yet, better:"
   ]
  },
  {
   "cell_type": "code",
   "execution_count": null,
   "id": "1333acc0",
   "metadata": {
    "execution": {
     "iopub.execute_input": "2025-03-19T10:57:00.378789Z",
     "iopub.status.busy": "2025-03-19T10:57:00.378445Z",
     "iopub.status.idle": "2025-03-19T10:57:00.398709Z",
     "shell.execute_reply": "2025-03-19T10:57:00.398008Z"
    },
    "slideshow": {
     "slide_type": "fragment"
    }
   },
   "outputs": [],
   "source": [
    "display(df.loc[df.groupby([\"Region\"])['Population'].idxmax()])"
   ]
  },
  {
   "cell_type": "markdown",
   "id": "df44c60e",
   "metadata": {
    "slideshow": {
     "slide_type": "subslide"
    }
   },
   "source": [
    "#### Print the highest mean Deathrate among all regions \n",
    "- Compute the mean deathrate per region\n",
    "- Get the maximum value\n"
   ]
  },
  {
   "cell_type": "code",
   "execution_count": null,
   "id": "5346aaba",
   "metadata": {
    "execution": {
     "iopub.execute_input": "2025-03-19T10:57:00.401914Z",
     "iopub.status.busy": "2025-03-19T10:57:00.401560Z",
     "iopub.status.idle": "2025-03-19T10:57:00.424099Z",
     "shell.execute_reply": "2025-03-19T10:57:00.423398Z"
    },
    "slideshow": {
     "slide_type": "fragment"
    }
   },
   "outputs": [],
   "source": [
    "df = pd.read_csv(\"files/countries-of-the-world.csv\")\n",
    "regions = df.groupby(['Region'])\n",
    "print(regions['Deathrate'].mean().max())\n",
    "\n",
    "display(df)"
   ]
  },
  {
   "cell_type": "markdown",
   "id": "2eff4ff5",
   "metadata": {
    "slideshow": {
     "slide_type": "slide"
    }
   },
   "source": [
    "## 4. Data visualization"
   ]
  },
  {
   "cell_type": "markdown",
   "id": "732bbaf1",
   "metadata": {
    "slideshow": {
     "slide_type": "fragment"
    }
   },
   "source": [
    "#### Reminder from the lecture:\n",
    "Motivation - we want to visualize our data in a way that convey the main point that stems from the data\n",
    "\n",
    "- e.g., show difference between two large groups of numbers\n"
   ]
  },
  {
   "cell_type": "markdown",
   "id": "fa2f2aae",
   "metadata": {
    "slideshow": {
     "slide_type": "fragment"
    }
   },
   "source": [
    "Use Matplotib!"
   ]
  },
  {
   "cell_type": "code",
   "execution_count": null,
   "id": "d1346098",
   "metadata": {
    "execution": {
     "iopub.execute_input": "2025-03-19T10:57:00.427575Z",
     "iopub.status.busy": "2025-03-19T10:57:00.427221Z",
     "iopub.status.idle": "2025-03-19T10:57:00.430982Z",
     "shell.execute_reply": "2025-03-19T10:57:00.430188Z"
    },
    "slideshow": {
     "slide_type": "fragment"
    }
   },
   "outputs": [],
   "source": [
    "import matplotlib.pyplot as plt"
   ]
  },
  {
   "cell_type": "markdown",
   "id": "c4de7430",
   "metadata": {
    "slideshow": {
     "slide_type": "fragment"
    }
   },
   "source": [
    "#### Code template for drawing a figure\n",
    "\n",
    "```python\n",
    "fig, ax = plt.subplots(figsize=(4,3)) ## Create canvas. figsize=(4,3) sets the size of the figure (optional)\n",
    "## Draw your plot here\n",
    "plt.legend() # plot the names that each color represents (optional)\n",
    "plt.show() # Visualize plot\n",
    "```"
   ]
  },
  {
   "cell_type": "markdown",
   "id": "9b602365",
   "metadata": {
    "slideshow": {
     "slide_type": "subslide"
    }
   },
   "source": [
    "### Objective: visualize Birthrate and Deathrate"
   ]
  },
  {
   "cell_type": "markdown",
   "id": "44a2fe33",
   "metadata": {
    "slideshow": {
     "slide_type": "subslide"
    }
   },
   "source": [
    "#### Curves of Birthrate and Deathrate"
   ]
  },
  {
   "cell_type": "code",
   "execution_count": null,
   "id": "bdd1bfff",
   "metadata": {
    "execution": {
     "iopub.execute_input": "2025-03-19T10:57:00.434598Z",
     "iopub.status.busy": "2025-03-19T10:57:00.434067Z",
     "iopub.status.idle": "2025-03-19T10:57:00.440604Z",
     "shell.execute_reply": "2025-03-19T10:57:00.439884Z"
    },
    "slideshow": {
     "slide_type": "fragment"
    }
   },
   "outputs": [],
   "source": [
    "df = pd.read_csv(\"files/countries-of-the-world.csv\").sample(100) # sampling 100 lines at random"
   ]
  },
  {
   "cell_type": "code",
   "execution_count": null,
   "id": "2733aead",
   "metadata": {
    "execution": {
     "iopub.execute_input": "2025-03-19T10:57:00.443791Z",
     "iopub.status.busy": "2025-03-19T10:57:00.443247Z",
     "iopub.status.idle": "2025-03-19T10:57:00.786199Z",
     "shell.execute_reply": "2025-03-19T10:57:00.785277Z"
    },
    "slideshow": {
     "slide_type": "fragment"
    }
   },
   "outputs": [],
   "source": [
    "fig, ax = plt.subplots(figsize=(4,3))\n",
    "columns = ['Birthrate', 'Deathrate'] \n",
    "ax.plot(range(len(df)), df.loc[:,columns[0]], label=columns[0])\n",
    "ax.plot(range(len(df)), df.loc[:,columns[1]], label=columns[1])\n",
    "plt.legend()\n",
    "plt.show()"
   ]
  },
  {
   "cell_type": "markdown",
   "id": "5a01661b",
   "metadata": {
    "slideshow": {
     "slide_type": "fragment"
    }
   },
   "source": [
    "#### Caveat\n",
    "- Curves are designed to describe the link between two **ordered** variables \n",
    "- No order in x-axis (counteries) "
   ]
  },
  {
   "cell_type": "markdown",
   "id": "26b8a93e",
   "metadata": {
    "slideshow": {
     "slide_type": "subslide"
    }
   },
   "source": [
    "#### Scatter plot of Birthrate and Deathrate"
   ]
  },
  {
   "cell_type": "code",
   "execution_count": null,
   "id": "641d449c",
   "metadata": {
    "execution": {
     "iopub.execute_input": "2025-03-19T10:57:00.790029Z",
     "iopub.status.busy": "2025-03-19T10:57:00.789347Z",
     "iopub.status.idle": "2025-03-19T10:57:00.977683Z",
     "shell.execute_reply": "2025-03-19T10:57:00.976919Z"
    },
    "slideshow": {
     "slide_type": "fragment"
    }
   },
   "outputs": [],
   "source": [
    "fig, ax = plt.subplots(figsize=(4,3))\n",
    "columns = ['Birthrate', 'Deathrate'] \n",
    "ax.scatter(df.loc[:,columns[0]], df.loc[:,columns[1]])\n",
    "ax.set_xlabel(columns[0]) # name X-axis\n",
    "ax.set_ylabel(columns[1]) # name y-axis\n",
    "plt.show()"
   ]
  },
  {
   "cell_type": "markdown",
   "id": "a3c8ff28",
   "metadata": {
    "slideshow": {
     "slide_type": "subslide"
    }
   },
   "source": [
    "#### Plot the histogram of the Birthrate column"
   ]
  },
  {
   "cell_type": "code",
   "execution_count": null,
   "id": "23fa4c95",
   "metadata": {
    "execution": {
     "iopub.execute_input": "2025-03-19T10:57:00.981005Z",
     "iopub.status.busy": "2025-03-19T10:57:00.980553Z",
     "iopub.status.idle": "2025-03-19T10:57:01.144004Z",
     "shell.execute_reply": "2025-03-19T10:57:01.143259Z"
    },
    "slideshow": {
     "slide_type": "fragment"
    }
   },
   "outputs": [],
   "source": [
    "df = pd.read_csv(\"files/countries-of-the-world.csv\")\n",
    "fig, ax = plt.subplots(figsize=(4,3))\n",
    "ax.hist(df.loc[:,'Birthrate'], label=\"Birthrate\")\n",
    "ax.set_xlabel(\"Birthrate\") # Name X-axis\n",
    "ax.set_ylabel(\"Count\") # Name Y-axis\n",
    "ax.legend()    \n",
    "plt.show()"
   ]
  },
  {
   "cell_type": "markdown",
   "id": "756032e5",
   "metadata": {
    "slideshow": {
     "slide_type": "subslide"
    }
   },
   "source": [
    "#### Plot the histograms of the Birthrate and the Deathrate columns in the same figure"
   ]
  },
  {
   "cell_type": "code",
   "execution_count": null,
   "id": "2f6a4230",
   "metadata": {
    "execution": {
     "iopub.execute_input": "2025-03-19T10:57:01.147908Z",
     "iopub.status.busy": "2025-03-19T10:57:01.146912Z",
     "iopub.status.idle": "2025-03-19T10:57:01.355682Z",
     "shell.execute_reply": "2025-03-19T10:57:01.354909Z"
    },
    "slideshow": {
     "slide_type": "fragment"
    }
   },
   "outputs": [],
   "source": [
    "df = pd.read_csv(\"files/countries-of-the-world.csv\")\n",
    "fig, ax = plt.subplots(1,1,figsize=(4,3))\n",
    "ax.hist(df[\"Birthrate\"], alpha=0.5, label='Birthrate') # alpha for transparent colors\n",
    "ax.hist(df[\"Deathrate\"], alpha=0.5, label='Deathrate') # alpha for transparent colors\n",
    "ax.set_xlabel('Rate')\n",
    "ax.set_ylabel('Count')\n",
    "ax.legend()\n",
    "plt.show()"
   ]
  },
  {
   "cell_type": "markdown",
   "id": "6d7bfdbf",
   "metadata": {
    "slideshow": {
     "slide_type": "fragment"
    }
   },
   "source": [
    "Note that the bars are not in the same width. This can be solved (but is out of scope)"
   ]
  },
  {
   "cell_type": "markdown",
   "id": "7e7bf3c6",
   "metadata": {
    "slideshow": {
     "slide_type": "subslide"
    }
   },
   "source": [
    "#### Plots bars of the country's growing rate (Birthrate - Deathrate) in <u>descending order</u>"
   ]
  },
  {
   "cell_type": "code",
   "execution_count": null,
   "id": "429dde9b",
   "metadata": {
    "execution": {
     "iopub.execute_input": "2025-03-19T10:57:01.359141Z",
     "iopub.status.busy": "2025-03-19T10:57:01.358629Z",
     "iopub.status.idle": "2025-03-19T10:57:01.523014Z",
     "shell.execute_reply": "2025-03-19T10:57:01.522244Z"
    },
    "slideshow": {
     "slide_type": "fragment"
    }
   },
   "outputs": [],
   "source": [
    "df = pd.read_csv(\"files/countries-of-the-world.csv\").head(7)\n",
    "fig, ax = plt.subplots(figsize=(10,3))\n",
    "df=df.loc[:,['Country', 'Birthrate','Deathrate']].dropna(axis=0)\n",
    "df['Growing rate']=(df.loc[:,'Birthrate']-df.loc[:,'Deathrate'])\n",
    "df=df.sort_values(by='Growing rate', ascending=False)\n",
    "ax.bar(df['Country'], df['Growing rate'])\n",
    "ax.set_ylabel('Growing rate')\n",
    "plt.show()"
   ]
  },
  {
   "cell_type": "markdown",
   "id": "db85459e",
   "metadata": {
    "slideshow": {
     "slide_type": "slide"
    }
   },
   "source": [
    "## Questions from previous exams"
   ]
  },
  {
   "cell_type": "markdown",
   "id": "5a24c2f4",
   "metadata": {
    "slideshow": {
     "slide_type": "fragment"
    }
   },
   "source": [
    "[Exam 2024 semester B Moed B](https://courses.cs.tau.ac.il/pyProg/2425a/exams/exam2324b_moedB.pdf)"
   ]
  },
  {
   "cell_type": "markdown",
   "id": "55212d19",
   "metadata": {
    "slideshow": {
     "slide_type": "subslide"
    }
   },
   "source": [
    "E."
   ]
  },
  {
   "cell_type": "code",
   "execution_count": null,
   "id": "2e40f132",
   "metadata": {
    "execution": {
     "iopub.execute_input": "2025-03-19T10:57:01.526477Z",
     "iopub.status.busy": "2025-03-19T10:57:01.525947Z",
     "iopub.status.idle": "2025-03-19T10:57:01.542554Z",
     "shell.execute_reply": "2025-03-19T10:57:01.541706Z"
    },
    "slideshow": {
     "slide_type": "fragment"
    }
   },
   "outputs": [],
   "source": [
    "def read_missions_file(file_name):\n",
    "    return pd.read_csv(file_name).loc[:100][[\"Kingdom\", \"Bounty\", \"Expenses\", \"Duration\"]]\n",
    "\n",
    "df = read_missions_file(\"files/witcher_1.csv\") # the files/ was added for technical reason. It can be ignored. \n",
    "display(df)"
   ]
  },
  {
   "cell_type": "markdown",
   "id": "f09875f6",
   "metadata": {
    "slideshow": {
     "slide_type": "subslide"
    }
   },
   "source": [
    "F1."
   ]
  },
  {
   "cell_type": "code",
   "execution_count": null,
   "id": "ca37ef70",
   "metadata": {
    "execution": {
     "iopub.execute_input": "2025-03-19T10:57:01.546181Z",
     "iopub.status.busy": "2025-03-19T10:57:01.545643Z",
     "iopub.status.idle": "2025-03-19T10:57:01.556818Z",
     "shell.execute_reply": "2025-03-19T10:57:01.555947Z"
    },
    "slideshow": {
     "slide_type": "fragment"
    }
   },
   "outputs": [],
   "source": [
    "def add_daily_gain_col(missions):\n",
    "    missions[\"Daily Gain\"] = (missions[\"Bounty\"] - missions[\"Expenses\"]) / missions[\"Duration\"]\n",
    "    \n",
    "add_daily_gain_col(df)\n",
    "display(df)"
   ]
  },
  {
   "cell_type": "markdown",
   "id": "f9e6d96c",
   "metadata": {
    "slideshow": {
     "slide_type": "subslide"
    }
   },
   "source": [
    "F2."
   ]
  },
  {
   "cell_type": "code",
   "execution_count": null,
   "id": "3e10af74",
   "metadata": {
    "execution": {
     "iopub.execute_input": "2025-03-19T10:57:01.560567Z",
     "iopub.status.busy": "2025-03-19T10:57:01.559885Z",
     "iopub.status.idle": "2025-03-19T10:57:01.572741Z",
     "shell.execute_reply": "2025-03-19T10:57:01.571871Z"
    },
    "slideshow": {
     "slide_type": "fragment"
    }
   },
   "outputs": [],
   "source": [
    "def get_by_best_daily_gain(missions):\n",
    "    return missions.loc[missions.groupby('Kingdom')['Daily Gain'].idxmax(), ['Kingdom', 'Bounty']]\n",
    "    \n",
    "get_by_best_daily_gain(df)"
   ]
  },
  {
   "cell_type": "markdown",
   "id": "f2205ac0",
   "metadata": {
    "slideshow": {
     "slide_type": "subslide"
    }
   },
   "source": [
    "G"
   ]
  },
  {
   "cell_type": "code",
   "execution_count": null,
   "id": "0cba210d",
   "metadata": {
    "execution": {
     "iopub.execute_input": "2025-03-19T10:57:01.576335Z",
     "iopub.status.busy": "2025-03-19T10:57:01.575727Z",
     "iopub.status.idle": "2025-03-19T10:57:01.593120Z",
     "shell.execute_reply": "2025-03-19T10:57:01.592240Z"
    },
    "slideshow": {
     "slide_type": "fragment"
    }
   },
   "outputs": [],
   "source": [
    "def fuse_missions(dfs):\n",
    "    return pd.concat(dfs, axis=0, ignore_index=True).sort_values(by=\"Bounty\", ascending=False)\n",
    "\n",
    "df2 = read_missions_file(\"files/witcher_2.csv\")\n",
    "df = read_missions_file(\"files/witcher_1.csv\")\n",
    "\n",
    "df3 = fuse_missions([df, df2])\n",
    "display(df3)"
   ]
  },
  {
   "cell_type": "markdown",
   "id": "90fb6bce",
   "metadata": {
    "slideshow": {
     "slide_type": "subslide"
    }
   },
   "source": [
    "H."
   ]
  },
  {
   "cell_type": "code",
   "execution_count": null,
   "id": "f4e2bd75",
   "metadata": {
    "execution": {
     "iopub.execute_input": "2025-03-19T10:57:01.596511Z",
     "iopub.status.busy": "2025-03-19T10:57:01.596028Z",
     "iopub.status.idle": "2025-03-19T10:57:01.609829Z",
     "shell.execute_reply": "2025-03-19T10:57:01.608974Z"
    },
    "slideshow": {
     "slide_type": "fragment"
    }
   },
   "outputs": [],
   "source": [
    "df2=pd.DataFrame([{'Kingdom': 'Temeria', 'Bounty': 1000, 'Ruler': 'Foltest', 'Expenses': 250, 'Duration': 5, 'Danger level': 7},\n",
    "   {'Kingdom': 'Redania', 'Bounty': 1500, 'Ruler': 'Radovid', 'Expenses': 500, 'Duration': 3, 'Danger level': 10},\n",
    "   {'Kingdom': 'Kaedwen', 'Bounty': 500, 'Ruler': 'Henslet', 'Expenses': 100, 'Duration': 7, 'Danger level': 3},\n",
    "   {'Kingdom': 'Cintra', 'Bounty': 2500, 'Ruler': 'Calanthe', 'Expenses': 2000, 'Duration': 3, 'Danger level': 2},\n",
    "   {'Kingdom': 'Temeria', 'Bounty': 1000, 'Ruler': 'Foltest', 'Expenses': 50, 'Duration': 4, 'Danger level': 7},\n",
    "   {'Kingdom': 'Cintra', 'Bounty': 750, 'Ruler': 'Calanthe', 'Expenses': 2000, 'Duration': 3, 'Danger level': 2},\n",
    "   {'Kingdom': 'Kaedwen', 'Bounty': 500, 'Ruler': 'Henslet', 'Expenses': 200, 'Duration': 3, 'Danger level': 3}])\n",
    "\n",
    "display(df2)"
   ]
  },
  {
   "cell_type": "code",
   "execution_count": null,
   "id": "b62e37ff",
   "metadata": {
    "execution": {
     "iopub.execute_input": "2025-03-19T10:57:01.613084Z",
     "iopub.status.busy": "2025-03-19T10:57:01.612617Z",
     "iopub.status.idle": "2025-03-19T10:57:01.619657Z",
     "shell.execute_reply": "2025-03-19T10:57:01.618860Z"
    },
    "slideshow": {
     "slide_type": "fragment"
    }
   },
   "outputs": [],
   "source": [
    "df2.loc[~(df2['Duration']==df2['Duration'].max()), 'Kingdom']"
   ]
  },
  {
   "cell_type": "markdown",
   "id": "90b3f26d",
   "metadata": {
    "slideshow": {
     "slide_type": "slide"
    }
   },
   "source": [
    "## Pandas summary"
   ]
  },
  {
   "cell_type": "markdown",
   "id": "f2591c70",
   "metadata": {
    "slideshow": {
     "slide_type": "fragment"
    }
   },
   "source": [
    "### We saw how to:\n",
    "- Create a dataframe (from a file, dict, numpy array)\n",
    "- basic information (`head()`, `tail()`, `dtypes`, `info()`)\n",
    "- Clean the data (add/remove columns/rows, `fillna()`)\n",
    "- Merge tables (`concat()`, `merge()`)\n",
    "- Analyze the dataset (select rows based on a condition, `groupby()`, `mean()`, `idxmax()`, etc.)\n",
    "- Visualize the data (`hist()`, `plot()`, `scatter()`, `boxplot()`, `scatter()`, `bar()`)\n",
    "\n",
    "\n",
    "#### For more info visit the pandas <a href='https://pandas.pydata.org/pandas-docs/stable/'>documentation</a> website. \n"
   ]
  }
 ],
 "metadata": {
  "celltoolbar": "Slideshow",
  "kernelspec": {
   "display_name": "Python 3 (ipykernel)",
   "language": "python",
   "name": "python3"
  },
  "language_info": {
   "codemirror_mode": {
    "name": "ipython",
    "version": 3
   },
   "file_extension": ".py",
   "mimetype": "text/x-python",
   "name": "python",
   "nbconvert_exporter": "python",
   "pygments_lexer": "ipython3",
   "version": "3.11.12"
  }
 },
 "nbformat": 4,
 "nbformat_minor": 5
}
