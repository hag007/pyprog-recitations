{
 "cells": [
  {
   "cell_type": "code",
   "execution_count": null,
   "id": "026e23f8",
   "metadata": {
    "execution": {
     "iopub.execute_input": "2025-03-19T10:37:27.142364Z",
     "iopub.status.busy": "2025-03-19T10:37:27.142050Z",
     "iopub.status.idle": "2025-03-19T10:37:27.160346Z",
     "shell.execute_reply": "2025-03-19T10:37:27.159420Z"
    },
    "slideshow": {
     "slide_type": "skip"
    },
    "tags": [
     "remove-cell"
    ]
   },
   "outputs": [],
   "source": [
    "%%html\n",
    "<style>\n",
    "table {display: inline-block}\n",
    "</style>\n"
   ]
  },
  {
   "cell_type": "markdown",
   "id": "13837d0b",
   "metadata": {
    "slideshow": {
     "slide_type": "slide"
    }
   },
   "source": [
    "# Administration & Technical Introduction\n",
    "\n",
    "## Python Programming for Engineers\n",
    "### Tel-Aviv University / 0509-1820 / Fall 2025-2026"
   ]
  },
  {
   "cell_type": "markdown",
   "id": "900eca7f",
   "metadata": {
    "slideshow": {
     "slide_type": "slide"
    }
   },
   "source": [
    "### Administration:\n",
    "- Course site\n",
    "- Homework submission guidelines\n",
    "- **<span style='color:red'>Jupyter Notebooks</span>**"
   ]
  },
  {
   "cell_type": "markdown",
   "id": "818d7f82",
   "metadata": {
    "slideshow": {
     "slide_type": "subslide"
    }
   },
   "source": [
    "#### Course website: <http://courses.cs.tau.ac.il/pyProg/2526a/>\n",
    "- All course material: Lectures, Recitations, Code Examples\n",
    "- Homework guidelines and solutions\n",
    "\n",
    "- Instructions (e.g. how to install stuff at home) \n",
    "- Details of course staff\n",
    "\n",
    "#### Moodle: <https://moodle.tau.ac.il/course/view.php?id=509182099>\n",
    "- HW submission and grades\n",
    "- Announcements\n",
    "- Forums \n",
    "\n"
   ]
  },
  {
   "cell_type": "markdown",
   "id": "eb2994f5",
   "metadata": {
    "slideshow": {
     "slide_type": "subslide"
    }
   },
   "source": [
    "#### Homework\n",
    "- Very important when learning to program!\n",
    "- See Exercises tab in course website for guidelines.\n",
    "\n",
    "#### Where can I work?\n",
    "- Anywhere from your own laptops\n",
    "- Computer labs - **with the course lab instructor!**\n",
    "- Time and location appear in the course website\n",
    "    - **Back-up with email / disk-on-key/ dropbox / etc. !**\n",
    "    \n",
    "#### Lab instructor\n",
    "- a course staff member\n",
    "- present in the lab (times and locations are available in the course website)\n",
    "- helps with technical issues (enviroment installations, notebooks uploading your HW etc.)\n",
    "- helps with homework assignments\n",
    "- **use it!!**\n",
    "\n"
   ]
  },
  {
   "cell_type": "markdown",
   "id": "7fcb40dc",
   "metadata": {
    "slideshow": {
     "slide_type": "subslide"
    }
   },
   "source": [
    "#### Submission Guidelines\n",
    "\n",
    "- Submission in **singles!** \n",
    "- 7 exercises\n",
    "- Average of best 6 exercises is 25% of the final grade \n",
    "- 10 grace days\n",
    "- Must work on **Python 3.11**\n",
    "- <span style='color:red'>**No cheating!**</a>\n",
    "- Guidelines in the course website.\n"
   ]
  },
  {
   "cell_type": "markdown",
   "id": "1c27af7f",
   "metadata": {
    "slideshow": {
     "slide_type": "slide"
    }
   },
   "source": [
    "## Environment settings"
   ]
  },
  {
   "cell_type": "markdown",
   "id": "6bf27b36",
   "metadata": {
    "slideshow": {
     "slide_type": "fragment"
    }
   },
   "source": [
    "#### Python 3.11.x\n",
    "#### <span style='color:red'>Do not work with Python 2.7/Python 3.6 etc.</span>"
   ]
  },
  {
   "cell_type": "markdown",
   "id": "4f383509",
   "metadata": {
    "slideshow": {
     "slide_type": "fragment"
    }
   },
   "source": [
    "#### Install Pycharm and run (on your machine):\n",
    "- Anaconda\n",
    "- Pycharm\n",
    "- Jupyter Notebooks (Optional. See in a few sides)"
   ]
  },
  {
   "cell_type": "markdown",
   "id": "9a3c4842",
   "metadata": {
    "slideshow": {
     "slide_type": "slide"
    }
   },
   "source": [
    "## Working with Pycharm "
   ]
  },
  {
   "cell_type": "markdown",
   "id": "24815aef",
   "metadata": {
    "slideshow": {
     "slide_type": "subslide"
    }
   },
   "source": [
    "### Pycharm's Python console\n",
    "- Convenient for testing\n",
    "- Individual statements\n",
    "- Short code snippets\n",
    "- #### The shell isn't meant for writing complete programs"
   ]
  },
  {
   "cell_type": "markdown",
   "id": "0c4eeec4",
   "metadata": {
    "slideshow": {
     "slide_type": "subslide"
    }
   },
   "source": [
    "### Upload your HW to the moodle"
   ]
  },
  {
   "cell_type": "markdown",
   "id": "c1edc5f9",
   "metadata": {
    "slideshow": {
     "slide_type": "fragment"
    }
   },
   "source": [
    "####  Not sure how? Ask our lab instructor!"
   ]
  },
  {
   "cell_type": "markdown",
   "id": "0b634a72",
   "metadata": {
    "slideshow": {
     "slide_type": "slide"
    }
   },
   "source": [
    "## The Jupyter Notebook\n",
    "- Web application that allows you to create and share interactive documents that contain \n",
    "    - Simple text. \n",
    "    - Live code blocks\n",
    "    - Visualizations\n",
    "    \n",
    "- Through this course, we will use Jupyter notebooks (or just \"notebooks\") for live demonstration of the code\n",
    "    - Think about it as interactive slides\n",
    "\n",
    "- You can also run notebooks from Google Drive using *Colab*\n",
    "- Let's try it out together...\n",
    "\n",
    "## Jupyter book\n",
    "A website that wraps up all the jupyter notebooks  together\n",
    "- Different websites for lectures and recitation\n",
    "- See more in the course website under the \"Course material\" tab\n",
    "\n",
    "    "
   ]
  }
 ],
 "metadata": {
  "celltoolbar": "Slideshow",
  "kernelspec": {
   "display_name": "Python 3 (ipykernel)",
   "language": "python",
   "name": "python3"
  },
  "language_info": {
   "codemirror_mode": {
    "name": "ipython",
    "version": 3
   },
   "file_extension": ".py",
   "mimetype": "text/x-python",
   "name": "python",
   "nbconvert_exporter": "python",
   "pygments_lexer": "ipython3",
   "version": "3.11.12"
  }
 },
 "nbformat": 4,
 "nbformat_minor": 5
}
