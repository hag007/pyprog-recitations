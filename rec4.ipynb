{
 "cells": [
  {
   "cell_type": "markdown",
   "id": "3b18777f",
   "metadata": {
    "slideshow": {
     "slide_type": "slide"
    }
   },
   "source": [
    "# Files input/output\n",
    "\n",
    "## Python Programming for Engineers\n",
    "### Tel-Aviv University / 0509-1820 / Fall 2025-2026"
   ]
  },
  {
   "cell_type": "markdown",
   "id": "99dd05c1",
   "metadata": {
    "slideshow": {
     "slide_type": "subslide"
    }
   },
   "source": [
    "## Agenda\n",
    "\n",
    "<table style=\"display:block\" align=center>\n",
    "    <tbody>\n",
    "        <tr>\n",
    "            <td>\n",
    "                <h3>\n",
    "                    Text parsing: handling spaces flanking the text (self-learning)\n",
    "                </h3>\n",
    "                <h3>\n",
    "                    File input-output \n",
    "                </h3>\n",
    "                <ul>\n",
    "                    <li>\n",
    "                        <code>open()</code> and <code>close()</code>\n",
    "                    </li>\n",
    "                    <li>\n",
    "                        <code>read()</code> and <code>write()</code>\n",
    "                    </li>\n",
    "                </ul>      \n",
    "                <ul>\n",
    "                    <li>\n",
    "                        Questions from past exams \n",
    "                    </li>\n",
    "                </ul>\n",
    "                <h3>\n",
    "                    List comprehension\n",
    "                </h3>\n",
    "            </td>\n",
    "            <td>    \n",
    "    </td>\n",
    "        </tr></tbody>\n",
    "</table>\n"
   ]
  },
  {
   "cell_type": "markdown",
   "id": "844d20ba",
   "metadata": {
    "slideshow": {
     "slide_type": "slide"
    }
   },
   "source": [
    "## Text parsing: handling spaces flanking the text"
   ]
  },
  {
   "cell_type": "markdown",
   "id": "02c83fba",
   "metadata": {
    "slideshow": {
     "slide_type": "subslide"
    }
   },
   "source": [
    "|Function|description|\n",
    "|:-|:-|\n",
    "|`.split()`|splits a string into tokens|\n",
    "|`.lstrip()`|removes leading spaces|\n",
    "|`.rstrip()`|removes trailing spaces|\n",
    "|`.strip()`|removes both leading and trailing spaces|\n"
   ]
  },
  {
   "cell_type": "markdown",
   "id": "3f44224e",
   "metadata": {
    "slideshow": {
     "slide_type": "subslide"
    }
   },
   "source": [
    "### Split:"
   ]
  },
  {
   "cell_type": "code",
   "execution_count": null,
   "id": "9d8e808c",
   "metadata": {
    "slideshow": {
     "slide_type": "fragment"
    }
   },
   "outputs": [],
   "source": [
    "s = \"Boom!    Big reveal!\\n I turned myself into a pickle!\"\n",
    "l1 = s.split()\n",
    "print(l1)\n",
    "l2 = s.split(\" \")\n",
    "print(l2)"
   ]
  },
  {
   "cell_type": "code",
   "execution_count": null,
   "id": "58294c0e",
   "metadata": {
    "slideshow": {
     "slide_type": "fragment"
    }
   },
   "outputs": [],
   "source": [
    "s = \"Boom! Big reveal! I turned myself into a pickle!\"\n",
    "l2 = s.split('!')\n",
    "print(l2)"
   ]
  },
  {
   "cell_type": "markdown",
   "id": "4248d8ee",
   "metadata": {
    "slideshow": {
     "slide_type": "subslide"
    }
   },
   "source": [
    "### [*]Strip:"
   ]
  },
  {
   "cell_type": "code",
   "execution_count": null,
   "id": "1f81b2fd",
   "metadata": {
    "execution": {
     "iopub.execute_input": "2025-03-19T10:52:28.342037Z",
     "iopub.status.busy": "2025-03-19T10:52:28.341506Z",
     "iopub.status.idle": "2025-03-19T10:52:28.346734Z",
     "shell.execute_reply": "2025-03-19T10:52:28.346006Z"
    },
    "slideshow": {
     "slide_type": "fragment"
    }
   },
   "outputs": [],
   "source": [
    "# Has two leading spaces and a trailing one.\n",
    "value = \"  a line \"\n",
    "\n",
    "# Remove left spaces.\n",
    "value1 = value.lstrip()\n",
    "print(\"|\" + value1 + \"|\")\n",
    "\n",
    "# Remove right spaces.\n",
    "value2 = value.rstrip()\n",
    "print(\"|\" + value2 + \"|\")\n",
    "\n",
    "# Remove left and right spaces.\n",
    "value3 = value.strip()\n",
    "print(\"|\" + value3 + \"|\")"
   ]
  },
  {
   "cell_type": "markdown",
   "id": "baa61db7",
   "metadata": {
    "slideshow": {
     "slide_type": "slide"
    }
   },
   "source": [
    "## File input-output "
   ]
  },
  {
   "cell_type": "markdown",
   "id": "84951675",
   "metadata": {
    "slideshow": {
     "slide_type": "subslide"
    }
   },
   "source": [
    "### What is a file?"
   ]
  },
  {
   "cell_type": "markdown",
   "id": "1c64ff54",
   "metadata": {
    "slideshow": {
     "slide_type": "fragment"
    }
   },
   "source": [
    "- A block of arbitrary information\n",
    "- A “digital” document\n",
    "- Has a path (=address) in the computer\n",
    "- Example (Windows):\n",
    "    - C:/Users/User/test_file.txt\n"
   ]
  },
  {
   "cell_type": "markdown",
   "id": "c5fbe10e",
   "metadata": {
    "slideshow": {
     "slide_type": "fragment"
    }
   },
   "source": [
    "#### Why do we need files?\n",
    "- We shall next show how to deal with textual files\n",
    "- Files can also contain arbitrary, “binary” information"
   ]
  },
  {
   "cell_type": "markdown",
   "id": "66d41ded",
   "metadata": {
    "slideshow": {
     "slide_type": "fragment"
    }
   },
   "source": [
    "#### <span style=\"color:red\"> DO NOT USE NON ENGLISH PATHS! </span>"
   ]
  },
  {
   "cell_type": "markdown",
   "id": "109a037f",
   "metadata": {
    "slideshow": {
     "slide_type": "subslide"
    }
   },
   "source": [
    "### Opening a file"
   ]
  },
  {
   "cell_type": "markdown",
   "id": "822e38a5",
   "metadata": {
    "slideshow": {
     "slide_type": "fragment"
    }
   },
   "source": [
    "```python \n",
    "f=open(filename, mode) \n",
    "```\n",
    "- `filename`: an address of a file\n",
    "- `mode`:     \n",
    "\n",
    "|||\n",
    "|:-|:-|\n",
    "|\"w\"|**overwrites** (“deletes”) prior data (BEWARE!)|\n",
    "|\"r\"|read|\n",
    "|\"a\"|append - adds at end of prior data|"
   ]
  },
  {
   "cell_type": "markdown",
   "id": "c6126f0d",
   "metadata": {
    "slideshow": {
     "slide_type": "fragment"
    }
   },
   "source": [
    "#### <span style='color:red'>Remember to close a file after you done with it using </span> `f.close()`"
   ]
  },
  {
   "cell_type": "markdown",
   "id": "14b0b882",
   "metadata": {
    "slideshow": {
     "slide_type": "subslide"
    }
   },
   "source": [
    "### Using context manager (`with`)"
   ]
  },
  {
   "cell_type": "markdown",
   "id": "2f4be441",
   "metadata": {
    "slideshow": {
     "slide_type": "fragment"
    }
   },
   "source": [
    "Instead of closing a file manually, we can use the `with` context manager"
   ]
  },
  {
   "cell_type": "code",
   "execution_count": null,
   "id": "4451f01f",
   "metadata": {
    "execution": {
     "iopub.execute_input": "2025-03-19T10:52:29.945502Z",
     "iopub.status.busy": "2025-03-19T10:52:29.944907Z",
     "iopub.status.idle": "2025-03-19T10:52:29.949687Z",
     "shell.execute_reply": "2025-03-19T10:52:29.948878Z"
    },
    "slideshow": {
     "slide_type": "fragment"
    }
   },
   "outputs": [],
   "source": [
    "with open('rick_and_morty_file.txt', \"r\") as f:\n",
    "    lines = f.readlines()\n",
    "# after this block ends, f.close() is called behind the scenes\n",
    "print(lines)"
   ]
  },
  {
   "cell_type": "markdown",
   "id": "0ecfeeed",
   "metadata": {
    "slideshow": {
     "slide_type": "fragment"
    }
   },
   "source": [
    "is equivalent to:"
   ]
  },
  {
   "cell_type": "code",
   "execution_count": null,
   "id": "76ae619e",
   "metadata": {
    "execution": {
     "iopub.execute_input": "2025-03-19T10:52:29.953293Z",
     "iopub.status.busy": "2025-03-19T10:52:29.952556Z",
     "iopub.status.idle": "2025-03-19T10:52:29.957509Z",
     "shell.execute_reply": "2025-03-19T10:52:29.956682Z"
    },
    "slideshow": {
     "slide_type": "fragment"
    }
   },
   "outputs": [],
   "source": [
    "f = open('rick_and_morty_file.txt', \"r\")\n",
    "lines = f.readlines()\n",
    "f.close()\n",
    "print(lines)"
   ]
  },
  {
   "cell_type": "markdown",
   "id": "a9ee97c0",
   "metadata": {
    "slideshow": {
     "slide_type": "subslide"
    }
   },
   "source": [
    "#### What happens if the file does not exist?"
   ]
  },
  {
   "cell_type": "code",
   "execution_count": null,
   "id": "54e8ab53",
   "metadata": {
    "execution": {
     "iopub.execute_input": "2025-03-19T10:52:28.350740Z",
     "iopub.status.busy": "2025-03-19T10:52:28.350207Z",
     "iopub.status.idle": "2025-03-19T10:52:29.850755Z",
     "shell.execute_reply": "2025-03-19T10:52:29.849981Z"
    },
    "slideshow": {
     "slide_type": "fragment"
    },
    "tags": [
     "raises-exception"
    ]
   },
   "outputs": [],
   "source": [
    "print(open(\"non_existed_file.txt\",'r').read())"
   ]
  },
  {
   "cell_type": "code",
   "execution_count": null,
   "id": "dec393fa",
   "metadata": {
    "execution": {
     "iopub.execute_input": "2025-03-19T10:52:29.854786Z",
     "iopub.status.busy": "2025-03-19T10:52:29.853746Z",
     "iopub.status.idle": "2025-03-19T10:52:29.862133Z",
     "shell.execute_reply": "2025-03-19T10:52:29.861287Z"
    },
    "slideshow": {
     "slide_type": "fragment"
    }
   },
   "outputs": [],
   "source": [
    "open(\"test3.txt\",'w').write(\"rick\")\n",
    "print(open(\"test3.txt\",'r').read())"
   ]
  },
  {
   "cell_type": "markdown",
   "id": "134fb8e1",
   "metadata": {
    "slideshow": {
     "slide_type": "fragment"
    }
   },
   "source": [
    "- `r` expects an existing file while `w` does not\n",
    "- If the file exists `w` will overwrite it!"
   ]
  },
  {
   "cell_type": "markdown",
   "id": "bf334122",
   "metadata": {
    "slideshow": {
     "slide_type": "subslide"
    }
   },
   "source": [
    "### Two common ways for reading from a file"
   ]
  },
  {
   "cell_type": "code",
   "execution_count": 1,
   "id": "d6be3a95",
   "metadata": {
    "execution": {
     "iopub.execute_input": "2025-03-19T10:52:29.865504Z",
     "iopub.status.busy": "2025-03-19T10:52:29.865125Z",
     "iopub.status.idle": "2025-03-19T10:52:29.871043Z",
     "shell.execute_reply": "2025-03-19T10:52:29.870226Z"
    },
    "slideshow": {
     "slide_type": "fragment"
    }
   },
   "outputs": [],
   "source": [
    "## Here we only WRITE to a file named rick_and_morty_file.txt so we can work with it in the examples below\n",
    "f=open('rick_and_morty_file.txt', 'w')\n",
    "f.write('Accepting\\nRerountiong\\nOperation Phoenix\\nInitiated')\n",
    "f.close() # Releases the file lock, frees resources. More details about this operation soon..."
   ]
  },
  {
   "cell_type": "code",
   "execution_count": 2,
   "id": "3a9223dd",
   "metadata": {
    "execution": {
     "iopub.execute_input": "2025-03-19T10:52:29.874621Z",
     "iopub.status.busy": "2025-03-19T10:52:29.874140Z",
     "iopub.status.idle": "2025-03-19T10:52:29.880058Z",
     "shell.execute_reply": "2025-03-19T10:52:29.879225Z"
    },
    "slideshow": {
     "slide_type": "fragment"
    }
   },
   "outputs": [
    {
     "name": "stdout",
     "output_type": "stream",
     "text": [
      "Accepting\n",
      "Rerountiong\n",
      "Operation Phoenix\n",
      "Initiated\n"
     ]
    }
   ],
   "source": [
    "## (1) Here we simply read the entire text contained in the file to the \"lines\" variable\n",
    "f = open('rick_and_morty_file.txt', 'r')\n",
    "text =  f.read()\n",
    "print(text)\n",
    "f.close() # releases the file lock, frees resources"
   ]
  },
  {
   "cell_type": "code",
   "execution_count": 3,
   "id": "d17017e5",
   "metadata": {
    "execution": {
     "iopub.execute_input": "2025-03-19T10:52:29.883451Z",
     "iopub.status.busy": "2025-03-19T10:52:29.882853Z",
     "iopub.status.idle": "2025-03-19T10:52:29.888306Z",
     "shell.execute_reply": "2025-03-19T10:52:29.887514Z"
    },
    "slideshow": {
     "slide_type": "fragment"
    }
   },
   "outputs": [
    {
     "name": "stdout",
     "output_type": "stream",
     "text": [
      "['Accepting\\n', 'Rerountiong\\n', 'Operation Phoenix\\n', 'Initiated']\n"
     ]
    }
   ],
   "source": [
    "# (2) We can also read a list of strings, each represent a single line in the file\n",
    "# Note that at the of each line there is a new line char (\"\\n\")\n",
    "f = open('rick_and_morty_file.txt', 'r')\n",
    "lines =  f.readlines()\n",
    "print(lines)\n",
    "f.close() # releases the file lock, frees resources"
   ]
  },
  {
   "cell_type": "markdown",
   "id": "a6fee2a4",
   "metadata": {
    "slideshow": {
     "slide_type": "subslide"
    }
   },
   "source": [
    "#### Newline ('\\n') char (cond.) "
   ]
  },
  {
   "cell_type": "markdown",
   "id": "f374071a",
   "metadata": {
    "slideshow": {
     "slide_type": "fragment"
    }
   },
   "source": [
    "- `\\n` appears between lines in the text file (at the end of each line)\n",
    "- To get rid of trailing newline characters, the string method **rstrip()** can be used:"
   ]
  },
  {
   "cell_type": "code",
   "execution_count": 4,
   "id": "8fcb22e9",
   "metadata": {
    "execution": {
     "iopub.execute_input": "2025-03-19T10:52:29.899147Z",
     "iopub.status.busy": "2025-03-19T10:52:29.898630Z",
     "iopub.status.idle": "2025-03-19T10:52:29.905734Z",
     "shell.execute_reply": "2025-03-19T10:52:29.904820Z"
    },
    "slideshow": {
     "slide_type": "fragment"
    }
   },
   "outputs": [
    {
     "name": "stdout",
     "output_type": "stream",
     "text": [
      "['Accepting\\n', 'Rerountiong\\n', 'Operation Phoenix\\n', 'Initiated']\n",
      "['Accepting', 'Rerountiong', 'Operation Phoenix', 'Initiated']\n"
     ]
    }
   ],
   "source": [
    "txt = 'Accepting\\nRerountiong\\nOperation Phoenix\\nInitiated'\n",
    "with open('rick_and_morty_file.txt', 'w') as f:\n",
    "    f.write(txt)\n",
    "\n",
    "with open('rick_and_morty_file.txt', 'r') as f:\n",
    "    lines = f.readlines()\n",
    "\n",
    "print(lines)\n",
    "for i in range(len(lines)):\n",
    "    lines[i] = lines[i].rstrip()\n",
    "print(lines)"
   ]
  },
  {
   "cell_type": "markdown",
   "id": "6c11b8e3",
   "metadata": {
    "slideshow": {
     "slide_type": "subslide"
    }
   },
   "source": [
    "### How would you remove `\\n` using list comprehension?"
   ]
  },
  {
   "cell_type": "code",
   "execution_count": 5,
   "id": "08f34826",
   "metadata": {
    "execution": {
     "iopub.execute_input": "2025-03-19T10:52:29.909191Z",
     "iopub.status.busy": "2025-03-19T10:52:29.908674Z",
     "iopub.status.idle": "2025-03-19T10:52:29.915178Z",
     "shell.execute_reply": "2025-03-19T10:52:29.914362Z"
    },
    "slideshow": {
     "slide_type": "fragment"
    }
   },
   "outputs": [
    {
     "name": "stdout",
     "output_type": "stream",
     "text": [
      "['Accepting\\n', 'Rerountiong\\n', 'Operation Phoenix\\n', 'Initiated']\n",
      "['Accepting', 'Rerountiong', 'Operation Phoenix', 'Initiated']\n"
     ]
    }
   ],
   "source": [
    "txt = 'Accepting\\nRerountiong\\nOperation Phoenix\\nInitiated'\n",
    "with open('rick_and_morty_file.txt', 'w') as f:\n",
    "    f.write(txt)\n",
    "\n",
    "with open('rick_and_morty_file.txt', 'r') as f:\n",
    "    lines = f.readlines()\n",
    "\n",
    "print(lines)\n",
    "print([l.rstrip() for l in lines])\n"
   ]
  },
  {
   "cell_type": "markdown",
   "id": "9b099d72",
   "metadata": {
    "slideshow": {
     "slide_type": "subslide"
    }
   },
   "source": [
    "- Another way to get rid of trailing newline characters is splitting by '\\n'"
   ]
  },
  {
   "cell_type": "code",
   "execution_count": 6,
   "id": "39f7cba4",
   "metadata": {
    "execution": {
     "iopub.execute_input": "2025-03-19T10:52:29.918665Z",
     "iopub.status.busy": "2025-03-19T10:52:29.918007Z",
     "iopub.status.idle": "2025-03-19T10:52:29.925453Z",
     "shell.execute_reply": "2025-03-19T10:52:29.924543Z"
    },
    "slideshow": {
     "slide_type": "fragment"
    }
   },
   "outputs": [
    {
     "name": "stdout",
     "output_type": "stream",
     "text": [
      "['Accepting', 'Rerountiong', 'Operation Phoenix', 'Initiated']\n"
     ]
    }
   ],
   "source": [
    "txt = 'Accepting\\nRerountiong\\nOperation Phoenix\\nInitiated'\n",
    "with open('rick_and_morty_file.txt', 'w') as f:\n",
    "    f.write(txt)\n",
    "\n",
    "f = open('rick_and_morty_file.txt', 'r')\n",
    "lines = f.read()\n",
    "print(lines.split(\"\\n\"))\n",
    "f.close()"
   ]
  },
  {
   "cell_type": "markdown",
   "id": "616a4048",
   "metadata": {
    "slideshow": {
     "slide_type": "subslide"
    }
   },
   "source": [
    "#### Two ways to iterate over lines of file"
   ]
  },
  {
   "cell_type": "code",
   "execution_count": 7,
   "id": "e2675fd6",
   "metadata": {
    "execution": {
     "iopub.execute_input": "2025-03-19T10:52:29.928964Z",
     "iopub.status.busy": "2025-03-19T10:52:29.928432Z",
     "iopub.status.idle": "2025-03-19T10:52:29.933613Z",
     "shell.execute_reply": "2025-03-19T10:52:29.932878Z"
    },
    "slideshow": {
     "slide_type": "fragment"
    }
   },
   "outputs": [
    {
     "name": "stdout",
     "output_type": "stream",
     "text": [
      "['Accepting\\n', 'Rerountiong\\n', 'Operation Phoenix\\n', 'Initiated']\n"
     ]
    }
   ],
   "source": [
    "f = open('rick_and_morty_file.txt', 'r')\n",
    "lines = []\n",
    "for line in f:\n",
    "    lines.append(line) \n",
    "print(lines)\n",
    "f.close()"
   ]
  },
  {
   "cell_type": "code",
   "execution_count": 8,
   "id": "f4a99ea3",
   "metadata": {
    "execution": {
     "iopub.execute_input": "2025-03-19T10:52:29.936881Z",
     "iopub.status.busy": "2025-03-19T10:52:29.936353Z",
     "iopub.status.idle": "2025-03-19T10:52:29.941865Z",
     "shell.execute_reply": "2025-03-19T10:52:29.941003Z"
    },
    "slideshow": {
     "slide_type": "fragment"
    }
   },
   "outputs": [
    {
     "name": "stdout",
     "output_type": "stream",
     "text": [
      "['Accepting\\n', 'Rerountiong\\n', 'Operation Phoenix\\n', 'Initiated']\n"
     ]
    }
   ],
   "source": [
    "f = open('rick_and_morty_file.txt', 'r')\n",
    "lines = []\n",
    "line = f.readline() # This is not the same as \".readlines()\"!\n",
    "while line:\n",
    "    lines.append(line)\n",
    "    line = f.readline() \n",
    "print(lines)\n",
    "f.close()"
   ]
  },
  {
   "cell_type": "markdown",
   "id": "b8b3f3c1",
   "metadata": {
    "slideshow": {
     "slide_type": "fragment"
    }
   },
   "source": [
    "- Can you think about other ways to iterate over a file's lines? (hint: we just discussed \"`.readlines()`\")"
   ]
  },
  {
   "cell_type": "markdown",
   "id": "4270c245",
   "metadata": {
    "slideshow": {
     "slide_type": "slide"
    }
   },
   "source": [
    "### Exercise 1: Copy a text file while omitting commented lines"
   ]
  },
  {
   "cell_type": "markdown",
   "id": "b92e5c89",
   "metadata": {
    "slideshow": {
     "slide_type": "subslide"
    }
   },
   "source": [
    "#### Write a function that copies every line from a source file to a target file, excluding lines that start with a ‘#’"
   ]
  },
  {
   "cell_type": "code",
   "execution_count": null,
   "id": "1ce0e359",
   "metadata": {
    "execution": {
     "iopub.execute_input": "2025-03-19T10:52:29.960991Z",
     "iopub.status.busy": "2025-03-19T10:52:29.960450Z",
     "iopub.status.idle": "2025-03-19T10:52:29.966239Z",
     "shell.execute_reply": "2025-03-19T10:52:29.965390Z"
    },
    "slideshow": {
     "slide_type": "fragment"
    }
   },
   "outputs": [],
   "source": [
    "txt='Accepting\\nRerountiong\\n# Operation Phoenix\\nInitiated'\n",
    "f=open('src.txt', 'w')\n",
    "f.write(txt)\n",
    "f.close()"
   ]
  },
  {
   "cell_type": "code",
   "execution_count": 9,
   "id": "756dfad0",
   "metadata": {
    "execution": {
     "iopub.execute_input": "2025-03-19T10:52:29.969660Z",
     "iopub.status.busy": "2025-03-19T10:52:29.969078Z",
     "iopub.status.idle": "2025-03-19T10:52:29.976604Z",
     "shell.execute_reply": "2025-03-19T10:52:29.975873Z"
    },
    "slideshow": {
     "slide_type": "fragment"
    }
   },
   "outputs": [],
   "source": [
    "def copy_file_excluding_comments(source, target):\n",
    "    infile  = open(source, 'r')\n",
    "    outfile = open(target, 'w')\n",
    "    for line in infile:\n",
    "        if line[0] == '#':\n",
    "            continue\n",
    "        outfile.write(line)\n",
    "    infile.close()\n",
    "    outfile.close()\n",
    "    \n",
    "copy_file_excluding_comments(\"src.txt\", \"trgt.txt\")"
   ]
  },
  {
   "cell_type": "markdown",
   "id": "710331a7",
   "metadata": {
    "slideshow": {
     "slide_type": "fragment"
    }
   },
   "source": [
    "#### What is the result in the txt files?"
   ]
  },
  {
   "cell_type": "code",
   "execution_count": null,
   "id": "74acd7c2",
   "metadata": {
    "execution": {
     "iopub.execute_input": "2025-03-19T10:52:29.979892Z",
     "iopub.status.busy": "2025-03-19T10:52:29.979379Z",
     "iopub.status.idle": "2025-03-19T10:52:29.984309Z",
     "shell.execute_reply": "2025-03-19T10:52:29.983490Z"
    },
    "slideshow": {
     "slide_type": "subslide"
    }
   },
   "outputs": [],
   "source": [
    "f = open('src.txt', 'r')\n",
    "print(f.read())\n",
    "f.close()"
   ]
  },
  {
   "cell_type": "code",
   "execution_count": null,
   "id": "28f096ba",
   "metadata": {
    "execution": {
     "iopub.execute_input": "2025-03-19T10:52:29.987741Z",
     "iopub.status.busy": "2025-03-19T10:52:29.987039Z",
     "iopub.status.idle": "2025-03-19T10:52:29.991912Z",
     "shell.execute_reply": "2025-03-19T10:52:29.991134Z"
    },
    "slideshow": {
     "slide_type": "fragment"
    }
   },
   "outputs": [],
   "source": [
    "f = open('trgt.txt', 'r')\n",
    "print(f.read())\n",
    "f.close()"
   ]
  },
  {
   "cell_type": "markdown",
   "id": "577a8aee",
   "metadata": {
    "slideshow": {
     "slide_type": "slide"
    }
   },
   "source": [
    "### Reading a CSV file"
   ]
  },
  {
   "cell_type": "markdown",
   "id": "55677fb9",
   "metadata": {
    "slideshow": {
     "slide_type": "subslide"
    }
   },
   "source": [
    "- A CSV file contains data in a tabular format using comma to separate between values\n",
    "- Each row holds the same number of columns\n",
    "    - e.g.,   \n",
    "        1,5,8,3    \n",
    "        6,4,2,1    \n",
    "        99,98,97,0 \n",
    "- <span style='color:red'>Read more in Google about what a CSV is.</span>\n"
   ]
  },
  {
   "cell_type": "markdown",
   "id": "2a2a2cc0",
   "metadata": {
    "slideshow": {
     "slide_type": "slide"
    }
   },
   "source": [
    "### Exercise 2: Sum row of numbers read from a CSV file"
   ]
  },
  {
   "cell_type": "markdown",
   "id": "c963427a",
   "metadata": {
    "slideshow": {
     "slide_type": "subslide"
    }
   },
   "source": [
    "#### Write a function that sums the numbers in each row for a given CSV file.\n",
    "- Input: CSV file name. \n",
    "- Output:  A list containing the line sums\n"
   ]
  },
  {
   "cell_type": "code",
   "execution_count": 10,
   "id": "1dc15287",
   "metadata": {
    "execution": {
     "iopub.execute_input": "2025-03-19T10:52:29.995595Z",
     "iopub.status.busy": "2025-03-19T10:52:29.994945Z",
     "iopub.status.idle": "2025-03-19T10:52:30.000011Z",
     "shell.execute_reply": "2025-03-19T10:52:29.999338Z"
    },
    "slideshow": {
     "slide_type": "fragment"
    }
   },
   "outputs": [],
   "source": [
    "def sum_lines_in_csv_file(filename):\n",
    "    f = open(filename,'r')\n",
    "    sums = []\n",
    "    for line in f:\n",
    "        tokens = line.rstrip().split(',')\n",
    "        line_sum = 0\n",
    "        for token in tokens:\n",
    "            line_sum+=int(token)\n",
    "        sums.append(line_sum)\n",
    "\n",
    "    f.close()\n",
    "    return sums "
   ]
  },
  {
   "cell_type": "code",
   "execution_count": 11,
   "id": "cbd39d0f",
   "metadata": {
    "execution": {
     "iopub.execute_input": "2025-03-19T10:52:30.003341Z",
     "iopub.status.busy": "2025-03-19T10:52:30.002839Z",
     "iopub.status.idle": "2025-03-19T10:52:30.013726Z",
     "shell.execute_reply": "2025-03-19T10:52:30.012928Z"
    },
    "slideshow": {
     "slide_type": "fragment"
    }
   },
   "outputs": [
    {
     "data": {
      "text/plain": [
       "[11, 137, -137]"
      ]
     },
     "execution_count": 11,
     "metadata": {},
     "output_type": "execute_result"
    }
   ],
   "source": [
    "txt='0,1,3,7\\n100,30,7,0\\n50,-100,-88,1'\n",
    "open('numbers.csv', 'w').write(txt)\n",
    "\n",
    "sum_lines_in_csv_file('numbers.csv')"
   ]
  },
  {
   "cell_type": "markdown",
   "id": "a225fb2f",
   "metadata": {
    "slideshow": {
     "slide_type": "slide"
    }
   },
   "source": [
    "## Self Learning"
   ]
  },
  {
   "cell_type": "markdown",
   "id": "ab5e813f",
   "metadata": {
    "slideshow": {
     "slide_type": "subslide"
    }
   },
   "source": [
    "### Exercise 1: file to data structures."
   ]
  },
  {
   "cell_type": "markdown",
   "id": "f9e5cfc5",
   "metadata": {
    "slideshow": {
     "slide_type": "fragment"
    }
   },
   "source": [
    "Implement the function `csv_to_lists` that gets a path to an existing csv file and returns a list of lists containing the matrix."
   ]
  },
  {
   "cell_type": "code",
   "execution_count": null,
   "id": "589dbf10",
   "metadata": {
    "slideshow": {
     "slide_type": "fragment"
    }
   },
   "outputs": [],
   "source": [
    "# Solution\n",
    "def csv_to_lists(filename):\n",
    "    f = open(filename,'r')\n",
    "    matrix = []\n",
    "    for line in f:\n",
    "        tokens = line.rstrip().split(',')\n",
    "        matrix_line = []\n",
    "        for token in tokens:\n",
    "            matrix_line.append(token)\n",
    "        matrix.append(matrix_line)\n",
    "\n",
    "    f.close()\n",
    "    return matrix "
   ]
  },
  {
   "cell_type": "markdown",
   "id": "acd04138",
   "metadata": {
    "slideshow": {
     "slide_type": "slide"
    }
   },
   "source": [
    "## Questions from previous exams"
   ]
  },
  {
   "cell_type": "markdown",
   "id": "2ddfc63c",
   "metadata": {
    "slideshow": {
     "slide_type": "fragment"
    }
   },
   "source": [
    "Open [Exam 2022-2023 semester A Moed A](https://courses.cs.tau.ac.il/pyProg/2526a/exams/exam2223a_moedA.pdf) and answer questions 1.A (a+b), 3.A."
   ]
  },
  {
   "cell_type": "markdown",
   "id": "443b4c43",
   "metadata": {
    "slideshow": {
     "slide_type": "subslide"
    }
   },
   "source": [
    "#### Solutions"
   ]
  },
  {
   "cell_type": "markdown",
   "id": "b3a57598",
   "metadata": {
    "slideshow": {
     "slide_type": "subslide"
    }
   },
   "source": [
    "1.A.1"
   ]
  },
  {
   "cell_type": "code",
   "execution_count": null,
   "id": "6104ddfb",
   "metadata": {
    "execution": {
     "iopub.execute_input": "2025-03-19T10:52:30.078639Z",
     "iopub.status.busy": "2025-03-19T10:52:30.078099Z",
     "iopub.status.idle": "2025-03-19T10:52:30.083075Z",
     "shell.execute_reply": "2025-03-19T10:52:30.082350Z"
    },
    "slideshow": {
     "slide_type": "fragment"
    }
   },
   "outputs": [],
   "source": [
    "def build_suffix_dict(lst, k):\n",
    "    d = {}\n",
    "    for i in range(len(lst)):\n",
    "        sfx = lst[i][-k:]\n",
    "        if sfx in d:\n",
    "            d[sfx].append(i)\n",
    "        else:\n",
    "            d[sfx] = [i]\n",
    "    return d"
   ]
  },
  {
   "cell_type": "code",
   "execution_count": null,
   "id": "2ae7270d",
   "metadata": {
    "execution": {
     "iopub.execute_input": "2025-03-19T10:52:30.086170Z",
     "iopub.status.busy": "2025-03-19T10:52:30.085477Z",
     "iopub.status.idle": "2025-03-19T10:52:30.091589Z",
     "shell.execute_reply": "2025-03-19T10:52:30.090744Z"
    },
    "slideshow": {
     "slide_type": "fragment"
    }
   },
   "outputs": [],
   "source": [
    "lst = [\"good luck!\", \"Hello\", \"cartago\", \"duck duck go\", \"go girl\", \"lololo\"]\n",
    "build_suffix_dict(lst, 2)"
   ]
  },
  {
   "cell_type": "markdown",
   "id": "61e7de37",
   "metadata": {
    "slideshow": {
     "slide_type": "subslide"
    }
   },
   "source": [
    "1.A.2"
   ]
  },
  {
   "cell_type": "code",
   "execution_count": null,
   "id": "a6cf2fee",
   "metadata": {
    "execution": {
     "iopub.execute_input": "2025-03-19T10:52:30.095161Z",
     "iopub.status.busy": "2025-03-19T10:52:30.094451Z",
     "iopub.status.idle": "2025-03-19T10:52:30.099571Z",
     "shell.execute_reply": "2025-03-19T10:52:30.098759Z"
    },
    "slideshow": {
     "slide_type": "fragment"
    }
   },
   "outputs": [],
   "source": [
    "def prefix_suffix_overlap(lst, k):\n",
    "    d = build_suffix_dict(lst, k)\n",
    "    for i in range(len(lst)):\n",
    "        if lst[i][:k] in d:\n",
    "            for j in d[lst[i][:k]]:\n",
    "                if i != j:\n",
    "                    return True\n",
    "    return False\n"
   ]
  },
  {
   "cell_type": "code",
   "execution_count": null,
   "id": "a1668c43",
   "metadata": {
    "execution": {
     "iopub.execute_input": "2025-03-19T10:52:30.102927Z",
     "iopub.status.busy": "2025-03-19T10:52:30.102250Z",
     "iopub.status.idle": "2025-03-19T10:52:30.107183Z",
     "shell.execute_reply": "2025-03-19T10:52:30.106373Z"
    },
    "slideshow": {
     "slide_type": "fragment"
    }
   },
   "outputs": [],
   "source": [
    "print(prefix_suffix_overlap([\"good luck!\", \"Hello\", \"cartago\"], 2))\n",
    "print(prefix_suffix_overlap([\"good luck!\", \"Hello\", \"cartago\"], 3))\n",
    "print(prefix_suffix_overlap([\"aaaabbbaaaa\"], 4))\n"
   ]
  },
  {
   "cell_type": "markdown",
   "id": "d579b490",
   "metadata": {
    "slideshow": {
     "slide_type": "subslide"
    }
   },
   "source": [
    "3.A"
   ]
  },
  {
   "cell_type": "code",
   "execution_count": null,
   "id": "131a4db2",
   "metadata": {
    "execution": {
     "iopub.execute_input": "2025-03-19T10:52:30.110647Z",
     "iopub.status.busy": "2025-03-19T10:52:30.109983Z",
     "iopub.status.idle": "2025-03-19T10:52:30.115409Z",
     "shell.execute_reply": "2025-03-19T10:52:30.114552Z"
    },
    "slideshow": {
     "slide_type": "subslide"
    }
   },
   "outputs": [],
   "source": [
    "def fix_data(corrupted_file_name, out_file_name):\n",
    "    f = open(corrupted_file_name)\n",
    "    fw = open(out_file_name, \"w\")\n",
    "    for l in f:\n",
    "        l = l.replace(\"#\", \"\")\n",
    "        lst = l.split()\n",
    "        if len(lst) > 0:\n",
    "            fw.write(\",\".join(lst) + \"\\n\")\n",
    "    f.close()\n",
    "    fw.close()"
   ]
  },
  {
   "cell_type": "code",
   "execution_count": null,
   "id": "058e317f",
   "metadata": {
    "execution": {
     "iopub.execute_input": "2025-03-19T10:52:30.118854Z",
     "iopub.status.busy": "2025-03-19T10:52:30.118159Z",
     "iopub.status.idle": "2025-03-19T10:52:30.148667Z",
     "shell.execute_reply": "2025-03-19T10:52:30.147890Z"
    },
    "slideshow": {
     "slide_type": "fragment"
    }
   },
   "outputs": [],
   "source": [
    "open('files/corrupted.txt', 'w').write(\"#2 45 44# 66\\n\\n### ### ## #\\n###############\\n\\n\\n9 10# 34# 22\")\n",
    "\n",
    "fix_data('files/corrupted.txt', 'files/clean.txt')\n",
    "print(\"=== corrupted ===\")\n",
    "print(open('files/corrupted.txt','r').read())\n",
    "print(\"\\n=== clean ===\")\n",
    "print(open('files/clean.txt','r').read())"
   ]
  },
  {
   "cell_type": "markdown",
   "id": "396df2cf",
   "metadata": {
    "slideshow": {
     "slide_type": "subslide"
    }
   },
   "source": [
    "Open [Exam 2022-2023 semester B Moed B](https://courses.cs.tau.ac.il/pyProg/2526a/exams/exam2223a_moedB.pdf) and answer question 3.A."
   ]
  },
  {
   "cell_type": "markdown",
   "id": "6dad16e8",
   "metadata": {
    "slideshow": {
     "slide_type": "subslide"
    }
   },
   "source": [
    "#### Solution"
   ]
  },
  {
   "cell_type": "markdown",
   "id": "0825c936",
   "metadata": {
    "slideshow": {
     "slide_type": "subslide"
    }
   },
   "source": [
    "3.A"
   ]
  },
  {
   "cell_type": "code",
   "execution_count": null,
   "id": "41b2eaaa",
   "metadata": {
    "execution": {
     "iopub.execute_input": "2025-03-19T10:52:30.152191Z",
     "iopub.status.busy": "2025-03-19T10:52:30.151600Z",
     "iopub.status.idle": "2025-03-19T10:52:30.157585Z",
     "shell.execute_reply": "2025-03-19T10:52:30.156857Z"
    },
    "slideshow": {
     "slide_type": "fragment"
    }
   },
   "outputs": [],
   "source": [
    "def merge_files(infile1, infile2, lst1, lst2, out_file):\n",
    "    f1 = open(infile1, 'r')\n",
    "    f2 = open(infile2, 'r')\n",
    "    c_file1 = f1.read().split(' ')\n",
    "    c_file2 = f2.read().split(' ')\n",
    "    c_out = ''\n",
    "    c_file=c_file1+c_file2\n",
    "    lst=lst1+lst2\n",
    "    for a in range(len(lst)):\n",
    "        c_out+=c_file[lst.index(a)]\n",
    "       \n",
    "    f_out = open(out_file, 'w')\n",
    "    f_out.write(c_out[:-1]) # remove last redundant ' '\n",
    "    \n",
    "    f1.close()\n",
    "    f2.close()\n",
    "    f_out.close()\n",
    "    \n"
   ]
  },
  {
   "cell_type": "code",
   "execution_count": null,
   "id": "5a194b06",
   "metadata": {
    "execution": {
     "iopub.execute_input": "2025-03-19T10:52:30.161130Z",
     "iopub.status.busy": "2025-03-19T10:52:30.160419Z",
     "iopub.status.idle": "2025-03-19T10:52:30.206442Z",
     "shell.execute_reply": "2025-03-19T10:52:30.205709Z"
    },
    "slideshow": {
     "slide_type": "fragment"
    }
   },
   "outputs": [],
   "source": [
    "open('files/infile1.txt', 'w').write('python is best the world')\n",
    "open('files/infile2.txt', 'w').write('the course in whole')\n",
    "lst1 = [0, 1, 3, 6, 8]\n",
    "lst2 = [2, 4, 5, 7]\n",
    "\n",
    "merge_files('files/infile1.txt', 'files/infile2.txt', lst1, lst2, 'files/out.txt')\n",
    "print(open('files/out.txt', 'r').read())"
   ]
  }
 ],
 "metadata": {
  "celltoolbar": "Slideshow",
  "kernelspec": {
   "display_name": "Python 3 (ipykernel)",
   "language": "python",
   "name": "python3"
  },
  "language_info": {
   "codemirror_mode": {
    "name": "ipython",
    "version": 3
   },
   "file_extension": ".py",
   "mimetype": "text/x-python",
   "name": "python",
   "nbconvert_exporter": "python",
   "pygments_lexer": "ipython3",
   "version": "3.13.5"
  }
 },
 "nbformat": 4,
 "nbformat_minor": 5
}
